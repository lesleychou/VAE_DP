{
 "cells": [
  {
   "cell_type": "markdown",
   "id": "9eca4994",
   "metadata": {},
   "source": [
    "\n",
    "# SUPPORT Notebook\n",
    "\n",
    "This notebook runs through investigations on the open access SUPPORT dataset.\n",
    "\n",
    "For users who do not have lots of computational resources or do not have access to MIMIC-III then this notebook should be used."
   ]
  },
  {
   "cell_type": "code",
   "execution_count": 1,
   "id": "82b6b0f7",
   "metadata": {
    "pycharm": {
     "name": "#%% -------- Import Libraries -------- #\n"
    }
   },
   "outputs": [],
   "source": [
    "# Standard imports\n",
    "import numpy as np\n",
    "import pandas as pd\n",
    "import torch\n",
    "import math\n",
    "\n",
    "# VAE is in other folder as well as opacus adapted library\n",
    "import sys\n",
    "\n",
    "sys.path.append(\"../\")\n",
    "\n",
    "# Opacus support for differential privacy\n",
    "from opacus.utils.uniform_sampler import UniformWithReplacementSampler\n",
    "\n",
    "# For VAE dataset formatting\n",
    "from torch.utils.data import TensorDataset, DataLoader\n",
    "\n",
    "# VAE functions\n",
    "from VAE import Decoder, Encoder, VAE\n",
    "\n",
    "# Utility file contains all functions required to run notebook\n",
    "from utils import (\n",
    "    set_seed,\n",
    "    mimic_pre_proc,\n",
    "    plot_elbo,\n",
    "    plot_likelihood_breakdown,\n",
    "    plot_variable_distributions,\n",
    "    reverse_transformers,\n",
    ")\n",
    "from metrics import distribution_metrics, privacy_metrics\n",
    "\n",
    "import warnings\n",
    "\n",
    "warnings.filterwarnings(\"ignore\")  # We suppress warnings to avoid SDMETRICS throwing unique synthetic data warnings (i.e.\n",
    "# data in synthetic set is not in the real data set) as well as SKLEARN throwing convergence warnings (pre-processing uses\n",
    "# GMM from sklearn and this throws non convergence warnings)\n"
   ]
  },
  {
   "cell_type": "markdown",
   "id": "38c7f103",
   "metadata": {},
   "source": [
    "## Data Loading & Column Definitions\n",
    "\n",
    "First we load in the SUPPORT dataset from pycox datasets. Then we define the continuous and categorical columns in that dataset"
   ]
  },
  {
   "cell_type": "code",
   "execution_count": 2,
   "id": "c9ad14a0",
   "metadata": {},
   "outputs": [],
   "source": [
    "# bgpclear.csv data are all read as object dtype\n",
    "df = pd.read_csv(\"data/bgpclear.csv\")"
   ]
  },
  {
   "cell_type": "code",
   "execution_count": 3,
   "id": "5dcc7725",
   "metadata": {},
   "outputs": [
    {
     "data": {
      "text/plain": [
       "array(['leaf2', 'spine3', 'leaf8', 'leaf1', 'leaf6', 'spine1', 'leaf5',\n",
       "       'spine4', 'leaf7', 'leaf3', 'spine2', 'dr01', 'dr03', 'dr02',\n",
       "       'Producer'], dtype=object)"
      ]
     },
     "execution_count": 3,
     "metadata": {},
     "output_type": "execute_result"
    }
   ],
   "source": [
    "df['Producer'].unique()"
   ]
  },
  {
   "cell_type": "code",
   "execution_count": 4,
   "id": "6d09c34a",
   "metadata": {},
   "outputs": [
    {
     "data": {
      "text/plain": [
       "array(['Cisco-IOS-XR-fib-common-oper:fib-statistics/nodes/node/drops',\n",
       "       'name',\n",
       "       'Cisco-IOS-XR-infra-statsd-oper:infra-statistics/interfaces/interface/latest/data-rate',\n",
       "       'Cisco-IOS-XR-infra-statsd-oper:infra-statistics/interfaces/interface/latest/generic-counters',\n",
       "       'Cisco-IOS-XR-ip-rib-ipv4-oper:rib/vrfs/vrf/afs/af/safs/saf/ip-rib-route-table-names/ip-rib-route-table-name/protocol/bgp/as/information',\n",
       "       'Cisco-IOS-XR-ipv4-bgp-oper:bgp/instances/instance/instance-active/default-vrf/process-info',\n",
       "       'Cisco-IOS-XR-nto-misc-oper:memory-summary/nodes/node/summary',\n",
       "       'Cisco-IOS-XR-wdsysmon-fd-oper:system-monitoring/cpu-utilization'],\n",
       "      dtype=object)"
      ]
     },
     "execution_count": 4,
     "metadata": {},
     "output_type": "execute_result"
    }
   ],
   "source": [
    "df['name'].unique()"
   ]
  },
  {
   "cell_type": "code",
   "execution_count": 5,
   "id": "8dfcff8b",
   "metadata": {},
   "outputs": [],
   "source": [
    "unique_producers = [\"leaf1\", \"leaf2\", \"leaf3\", \"leaf5\", \"leaf6\", \"leaf7\", \"leaf8\", \"spine1\", \"spine2\", \"spine3\", \"spine4\"]\n",
    "features = [\n",
    "            \"active-routes-count\",\n",
    "            \"as\",\n",
    "            \"backup-routes-count\",\n",
    "            \"deleted-routes-count\",\n",
    "            \"paths-count\",\n",
    "            \"protocol-route-memory\",\n",
    "            \"routes-counts\",\n",
    "            \"global__established-neighbors-count-total\",\n",
    "            \"global__neighbors-count-total\",\n",
    "            \"global__nexthop-count\",\n",
    "            \"global__restart-count\",\n",
    "            \"performance-statistics__global__configuration-items-processed\",\n",
    "            \"performance-statistics__global__ipv4rib-server__rib-connection-up-count\",\n",
    "            \"performance-statistics__vrf__inbound-update-messages\",\n",
    "            \"vrf__neighbors-count\",\n",
    "            \"vrf__network-count\",\n",
    "            \"vrf__path-count\",\n",
    "            \"vrf__update-messages-received\"]"
   ]
  },
  {
   "cell_type": "code",
   "execution_count": 6,
   "id": "45e43330",
   "metadata": {},
   "outputs": [
    {
     "data": {
      "text/html": [
       "<div>\n",
       "<style scoped>\n",
       "    .dataframe tbody tr th:only-of-type {\n",
       "        vertical-align: middle;\n",
       "    }\n",
       "\n",
       "    .dataframe tbody tr th {\n",
       "        vertical-align: top;\n",
       "    }\n",
       "\n",
       "    .dataframe thead th {\n",
       "        text-align: right;\n",
       "    }\n",
       "</style>\n",
       "<table border=\"1\" class=\"dataframe\">\n",
       "  <thead>\n",
       "    <tr style=\"text-align: right;\">\n",
       "      <th></th>\n",
       "      <th>active-routes-count</th>\n",
       "      <th>as</th>\n",
       "      <th>backup-routes-count</th>\n",
       "      <th>deleted-routes-count</th>\n",
       "      <th>paths-count</th>\n",
       "      <th>protocol-route-memory</th>\n",
       "      <th>routes-counts</th>\n",
       "      <th>global__established-neighbors-count-total</th>\n",
       "      <th>global__neighbors-count-total</th>\n",
       "      <th>global__nexthop-count</th>\n",
       "      <th>global__restart-count</th>\n",
       "      <th>performance-statistics__global__configuration-items-processed</th>\n",
       "      <th>performance-statistics__global__ipv4rib-server__rib-connection-up-count</th>\n",
       "      <th>performance-statistics__vrf__inbound-update-messages</th>\n",
       "      <th>vrf__neighbors-count</th>\n",
       "      <th>vrf__network-count</th>\n",
       "      <th>vrf__path-count</th>\n",
       "      <th>vrf__update-messages-received</th>\n",
       "    </tr>\n",
       "  </thead>\n",
       "  <tbody>\n",
       "    <tr>\n",
       "      <th>0</th>\n",
       "      <td>162.0</td>\n",
       "      <td>65022.0</td>\n",
       "      <td>1.0</td>\n",
       "      <td>0.0</td>\n",
       "      <td>925.0</td>\n",
       "      <td>124464.0</td>\n",
       "      <td>163.0</td>\n",
       "      <td>37.0</td>\n",
       "      <td>39.0</td>\n",
       "      <td>151.0</td>\n",
       "      <td>2.0</td>\n",
       "      <td>2.0</td>\n",
       "      <td>1.0</td>\n",
       "      <td>67221.0</td>\n",
       "      <td>39.0</td>\n",
       "      <td>352.0</td>\n",
       "      <td>5857.0</td>\n",
       "      <td>67221.0</td>\n",
       "    </tr>\n",
       "    <tr>\n",
       "      <th>1</th>\n",
       "      <td>152.0</td>\n",
       "      <td>65013.0</td>\n",
       "      <td>0.0</td>\n",
       "      <td>0.0</td>\n",
       "      <td>1152.0</td>\n",
       "      <td>148480.0</td>\n",
       "      <td>152.0</td>\n",
       "      <td>56.0</td>\n",
       "      <td>64.0</td>\n",
       "      <td>231.0</td>\n",
       "      <td>2.0</td>\n",
       "      <td>14.0</td>\n",
       "      <td>1.0</td>\n",
       "      <td>63498.0</td>\n",
       "      <td>64.0</td>\n",
       "      <td>352.0</td>\n",
       "      <td>8353.0</td>\n",
       "      <td>63498.0</td>\n",
       "    </tr>\n",
       "    <tr>\n",
       "      <th>2</th>\n",
       "      <td>164.0</td>\n",
       "      <td>65028.0</td>\n",
       "      <td>0.0</td>\n",
       "      <td>0.0</td>\n",
       "      <td>957.0</td>\n",
       "      <td>128176.0</td>\n",
       "      <td>164.0</td>\n",
       "      <td>39.0</td>\n",
       "      <td>40.0</td>\n",
       "      <td>147.0</td>\n",
       "      <td>2.0</td>\n",
       "      <td>3.0</td>\n",
       "      <td>1.0</td>\n",
       "      <td>67186.0</td>\n",
       "      <td>40.0</td>\n",
       "      <td>352.0</td>\n",
       "      <td>5937.0</td>\n",
       "      <td>67186.0</td>\n",
       "    </tr>\n",
       "    <tr>\n",
       "      <th>3</th>\n",
       "      <td>165.0</td>\n",
       "      <td>65021.0</td>\n",
       "      <td>1.0</td>\n",
       "      <td>0.0</td>\n",
       "      <td>982.0</td>\n",
       "      <td>131232.0</td>\n",
       "      <td>166.0</td>\n",
       "      <td>38.0</td>\n",
       "      <td>38.0</td>\n",
       "      <td>140.0</td>\n",
       "      <td>2.0</td>\n",
       "      <td>5.0</td>\n",
       "      <td>1.0</td>\n",
       "      <td>69236.0</td>\n",
       "      <td>38.0</td>\n",
       "      <td>352.0</td>\n",
       "      <td>4769.0</td>\n",
       "      <td>69236.0</td>\n",
       "    </tr>\n",
       "    <tr>\n",
       "      <th>4</th>\n",
       "      <td>164.0</td>\n",
       "      <td>65026.0</td>\n",
       "      <td>0.0</td>\n",
       "      <td>0.0</td>\n",
       "      <td>980.0</td>\n",
       "      <td>130752.0</td>\n",
       "      <td>164.0</td>\n",
       "      <td>38.0</td>\n",
       "      <td>38.0</td>\n",
       "      <td>145.0</td>\n",
       "      <td>2.0</td>\n",
       "      <td>2.0</td>\n",
       "      <td>1.0</td>\n",
       "      <td>68497.0</td>\n",
       "      <td>38.0</td>\n",
       "      <td>352.0</td>\n",
       "      <td>6213.0</td>\n",
       "      <td>68497.0</td>\n",
       "    </tr>\n",
       "    <tr>\n",
       "      <th>...</th>\n",
       "      <td>...</td>\n",
       "      <td>...</td>\n",
       "      <td>...</td>\n",
       "      <td>...</td>\n",
       "      <td>...</td>\n",
       "      <td>...</td>\n",
       "      <td>...</td>\n",
       "      <td>...</td>\n",
       "      <td>...</td>\n",
       "      <td>...</td>\n",
       "      <td>...</td>\n",
       "      <td>...</td>\n",
       "      <td>...</td>\n",
       "      <td>...</td>\n",
       "      <td>...</td>\n",
       "      <td>...</td>\n",
       "      <td>...</td>\n",
       "      <td>...</td>\n",
       "    </tr>\n",
       "    <tr>\n",
       "      <th>8628</th>\n",
       "      <td>165.0</td>\n",
       "      <td>65021.0</td>\n",
       "      <td>1.0</td>\n",
       "      <td>0.0</td>\n",
       "      <td>982.0</td>\n",
       "      <td>131232.0</td>\n",
       "      <td>166.0</td>\n",
       "      <td>38.0</td>\n",
       "      <td>38.0</td>\n",
       "      <td>140.0</td>\n",
       "      <td>2.0</td>\n",
       "      <td>6.0</td>\n",
       "      <td>1.0</td>\n",
       "      <td>72822.0</td>\n",
       "      <td>38.0</td>\n",
       "      <td>352.0</td>\n",
       "      <td>4687.0</td>\n",
       "      <td>72822.0</td>\n",
       "    </tr>\n",
       "    <tr>\n",
       "      <th>8629</th>\n",
       "      <td>165.0</td>\n",
       "      <td>65025.0</td>\n",
       "      <td>0.0</td>\n",
       "      <td>0.0</td>\n",
       "      <td>980.0</td>\n",
       "      <td>130880.0</td>\n",
       "      <td>165.0</td>\n",
       "      <td>37.0</td>\n",
       "      <td>37.0</td>\n",
       "      <td>139.0</td>\n",
       "      <td>2.0</td>\n",
       "      <td>2.0</td>\n",
       "      <td>1.0</td>\n",
       "      <td>69748.0</td>\n",
       "      <td>37.0</td>\n",
       "      <td>352.0</td>\n",
       "      <td>5297.0</td>\n",
       "      <td>69748.0</td>\n",
       "    </tr>\n",
       "    <tr>\n",
       "      <th>8630</th>\n",
       "      <td>164.0</td>\n",
       "      <td>65027.0</td>\n",
       "      <td>0.0</td>\n",
       "      <td>0.0</td>\n",
       "      <td>967.0</td>\n",
       "      <td>129296.0</td>\n",
       "      <td>164.0</td>\n",
       "      <td>38.0</td>\n",
       "      <td>38.0</td>\n",
       "      <td>145.0</td>\n",
       "      <td>2.0</td>\n",
       "      <td>2.0</td>\n",
       "      <td>1.0</td>\n",
       "      <td>71863.0</td>\n",
       "      <td>38.0</td>\n",
       "      <td>352.0</td>\n",
       "      <td>6213.0</td>\n",
       "      <td>71863.0</td>\n",
       "    </tr>\n",
       "    <tr>\n",
       "      <th>8631</th>\n",
       "      <td>167.0</td>\n",
       "      <td>65501.0</td>\n",
       "      <td>1.0</td>\n",
       "      <td>0.0</td>\n",
       "      <td>772.0</td>\n",
       "      <td>107968.0</td>\n",
       "      <td>168.0</td>\n",
       "      <td>28.0</td>\n",
       "      <td>32.0</td>\n",
       "      <td>119.0</td>\n",
       "      <td>2.0</td>\n",
       "      <td>7.0</td>\n",
       "      <td>1.0</td>\n",
       "      <td>113835.0</td>\n",
       "      <td>32.0</td>\n",
       "      <td>352.0</td>\n",
       "      <td>1975.0</td>\n",
       "      <td>113835.0</td>\n",
       "    </tr>\n",
       "    <tr>\n",
       "      <th>8632</th>\n",
       "      <td>152.0</td>\n",
       "      <td>65013.0</td>\n",
       "      <td>0.0</td>\n",
       "      <td>0.0</td>\n",
       "      <td>1152.0</td>\n",
       "      <td>148480.0</td>\n",
       "      <td>152.0</td>\n",
       "      <td>56.0</td>\n",
       "      <td>64.0</td>\n",
       "      <td>231.0</td>\n",
       "      <td>2.0</td>\n",
       "      <td>16.0</td>\n",
       "      <td>1.0</td>\n",
       "      <td>69472.0</td>\n",
       "      <td>64.0</td>\n",
       "      <td>352.0</td>\n",
       "      <td>8353.0</td>\n",
       "      <td>69472.0</td>\n",
       "    </tr>\n",
       "  </tbody>\n",
       "</table>\n",
       "<p>8633 rows × 18 columns</p>\n",
       "</div>"
      ],
      "text/plain": [
       "      active-routes-count       as  backup-routes-count  deleted-routes-count  \\\n",
       "0                   162.0  65022.0                  1.0                   0.0   \n",
       "1                   152.0  65013.0                  0.0                   0.0   \n",
       "2                   164.0  65028.0                  0.0                   0.0   \n",
       "3                   165.0  65021.0                  1.0                   0.0   \n",
       "4                   164.0  65026.0                  0.0                   0.0   \n",
       "...                   ...      ...                  ...                   ...   \n",
       "8628                165.0  65021.0                  1.0                   0.0   \n",
       "8629                165.0  65025.0                  0.0                   0.0   \n",
       "8630                164.0  65027.0                  0.0                   0.0   \n",
       "8631                167.0  65501.0                  1.0                   0.0   \n",
       "8632                152.0  65013.0                  0.0                   0.0   \n",
       "\n",
       "      paths-count  protocol-route-memory  routes-counts  \\\n",
       "0           925.0               124464.0          163.0   \n",
       "1          1152.0               148480.0          152.0   \n",
       "2           957.0               128176.0          164.0   \n",
       "3           982.0               131232.0          166.0   \n",
       "4           980.0               130752.0          164.0   \n",
       "...           ...                    ...            ...   \n",
       "8628        982.0               131232.0          166.0   \n",
       "8629        980.0               130880.0          165.0   \n",
       "8630        967.0               129296.0          164.0   \n",
       "8631        772.0               107968.0          168.0   \n",
       "8632       1152.0               148480.0          152.0   \n",
       "\n",
       "      global__established-neighbors-count-total  \\\n",
       "0                                          37.0   \n",
       "1                                          56.0   \n",
       "2                                          39.0   \n",
       "3                                          38.0   \n",
       "4                                          38.0   \n",
       "...                                         ...   \n",
       "8628                                       38.0   \n",
       "8629                                       37.0   \n",
       "8630                                       38.0   \n",
       "8631                                       28.0   \n",
       "8632                                       56.0   \n",
       "\n",
       "      global__neighbors-count-total  global__nexthop-count  \\\n",
       "0                              39.0                  151.0   \n",
       "1                              64.0                  231.0   \n",
       "2                              40.0                  147.0   \n",
       "3                              38.0                  140.0   \n",
       "4                              38.0                  145.0   \n",
       "...                             ...                    ...   \n",
       "8628                           38.0                  140.0   \n",
       "8629                           37.0                  139.0   \n",
       "8630                           38.0                  145.0   \n",
       "8631                           32.0                  119.0   \n",
       "8632                           64.0                  231.0   \n",
       "\n",
       "      global__restart-count  \\\n",
       "0                       2.0   \n",
       "1                       2.0   \n",
       "2                       2.0   \n",
       "3                       2.0   \n",
       "4                       2.0   \n",
       "...                     ...   \n",
       "8628                    2.0   \n",
       "8629                    2.0   \n",
       "8630                    2.0   \n",
       "8631                    2.0   \n",
       "8632                    2.0   \n",
       "\n",
       "      performance-statistics__global__configuration-items-processed  \\\n",
       "0                                                   2.0               \n",
       "1                                                  14.0               \n",
       "2                                                   3.0               \n",
       "3                                                   5.0               \n",
       "4                                                   2.0               \n",
       "...                                                 ...               \n",
       "8628                                                6.0               \n",
       "8629                                                2.0               \n",
       "8630                                                2.0               \n",
       "8631                                                7.0               \n",
       "8632                                               16.0               \n",
       "\n",
       "      performance-statistics__global__ipv4rib-server__rib-connection-up-count  \\\n",
       "0                                                   1.0                         \n",
       "1                                                   1.0                         \n",
       "2                                                   1.0                         \n",
       "3                                                   1.0                         \n",
       "4                                                   1.0                         \n",
       "...                                                 ...                         \n",
       "8628                                                1.0                         \n",
       "8629                                                1.0                         \n",
       "8630                                                1.0                         \n",
       "8631                                                1.0                         \n",
       "8632                                                1.0                         \n",
       "\n",
       "      performance-statistics__vrf__inbound-update-messages  \\\n",
       "0                                               67221.0      \n",
       "1                                               63498.0      \n",
       "2                                               67186.0      \n",
       "3                                               69236.0      \n",
       "4                                               68497.0      \n",
       "...                                                 ...      \n",
       "8628                                            72822.0      \n",
       "8629                                            69748.0      \n",
       "8630                                            71863.0      \n",
       "8631                                           113835.0      \n",
       "8632                                            69472.0      \n",
       "\n",
       "      vrf__neighbors-count  vrf__network-count  vrf__path-count  \\\n",
       "0                     39.0               352.0           5857.0   \n",
       "1                     64.0               352.0           8353.0   \n",
       "2                     40.0               352.0           5937.0   \n",
       "3                     38.0               352.0           4769.0   \n",
       "4                     38.0               352.0           6213.0   \n",
       "...                    ...                 ...              ...   \n",
       "8628                  38.0               352.0           4687.0   \n",
       "8629                  37.0               352.0           5297.0   \n",
       "8630                  38.0               352.0           6213.0   \n",
       "8631                  32.0               352.0           1975.0   \n",
       "8632                  64.0               352.0           8353.0   \n",
       "\n",
       "      vrf__update-messages-received  \n",
       "0                           67221.0  \n",
       "1                           63498.0  \n",
       "2                           67186.0  \n",
       "3                           69236.0  \n",
       "4                           68497.0  \n",
       "...                             ...  \n",
       "8628                        72822.0  \n",
       "8629                        69748.0  \n",
       "8630                        71863.0  \n",
       "8631                       113835.0  \n",
       "8632                        69472.0  \n",
       "\n",
       "[8633 rows x 18 columns]"
      ]
     },
     "execution_count": 6,
     "metadata": {},
     "output_type": "execute_result"
    }
   ],
   "source": [
    "df_features = df[features]\n",
    "df_features = df_features.apply(lambda x: pd.to_numeric(x, errors='coerce'))\n",
    "df_features = df_features.astype('float')\n",
    "# df_features = df_features.dropna()\n",
    "df_features['active-routes-count'].dropna().tolist()\n",
    "\n",
    "cleaned_df = pd.DataFrame()\n",
    "for col in features:\n",
    "    cleaned_df[col] = df_features[col].dropna().tolist()\n",
    "input_df = cleaned_df\n",
    "cleaned_df"
   ]
  },
  {
   "cell_type": "code",
   "execution_count": 7,
   "id": "f938f2ac",
   "metadata": {},
   "outputs": [],
   "source": [
    "# Find one sub datset that name==data-rate, Producer==leaf4\n",
    "# tmp_df = df[(df['name']=='Cisco-IOS-XR-infra-statsd-oper:infra-statistics/interfaces/interface/latest/data-rate') & (df['Producer']=='leaf1')]\n",
    "\n",
    "# input_df = tmp_df.dropna(axis=1, how='all')\n",
    "# # input_df = tmp_df.select_dtypes(exclude=['object'])\n",
    "# # tmp_df = tmp_df.drop(['time'], axis=1)\n",
    "# input_df = input_df.drop(['time', 'name', 'EncodingPath', 'Producer', 'interface-name', 'bandwidth'], axis=1)\n",
    "# input_df = input_df.astype('float')\n",
    "# input_df = input_df.astype('int64')\n",
    "# input_df"
   ]
  },
  {
   "cell_type": "code",
   "execution_count": 8,
   "id": "76c602c0",
   "metadata": {},
   "outputs": [],
   "source": [
    "categorical_column_name=[]\n",
    "categorical_len_count=0\n",
    "for col in input_df:\n",
    "    if len(input_df[col].unique()) <= 100:\n",
    "        categorical_column_name.append(col)\n",
    "        categorical_len_count += len(input_df[col].unique())"
   ]
  },
  {
   "cell_type": "code",
   "execution_count": 9,
   "id": "a17fb13b",
   "metadata": {},
   "outputs": [
    {
     "data": {
      "text/plain": [
       "13"
      ]
     },
     "execution_count": 9,
     "metadata": {},
     "output_type": "execute_result"
    }
   ],
   "source": [
    "len(categorical_column_name)"
   ]
  },
  {
   "cell_type": "code",
   "execution_count": 10,
   "id": "35ae3f28",
   "metadata": {},
   "outputs": [],
   "source": [
    "# Column Definitions\n",
    "original_continuous_columns = list(set(input_df.columns.values.tolist()) - set(categorical_column_name))\n",
    "original_categorical_columns = categorical_column_name\n",
    "# original_continuous_columns = ['output-packet-rate']\n",
    "# original_categorical_columns = ['load-interval']\n",
    "# tmp_df = tmp_df[['load-interval', 'output-packet-rate']]\n"
   ]
  },
  {
   "cell_type": "code",
   "execution_count": 25,
   "id": "930a0500",
   "metadata": {},
   "outputs": [
    {
     "name": "stdout",
     "output_type": "stream",
     "text": [
      "The function does not satisfy differential privacy with epsilon =  0.8633000000000001\n"
     ]
    }
   ],
   "source": [
    "df_continuous_columns = list(original_continuous_columns)\n",
    "continuous_df = input_df[df_continuous_columns]\n",
    "\n",
    "df_categorical_columns = list(original_categorical_columns)\n",
    "discrete_df = input_df[df_categorical_columns]\n",
    "\n",
    "continuous_data = continuous_df.to_numpy()\n",
    "discrete_data = discrete_df.to_numpy()\n",
    "\n",
    "# Define the original data tensor\n",
    "continuous_data = torch.tensor(continuous_data)\n",
    "discrete_data = torch.tensor(discrete_data)\n",
    "\n",
    "# Define the privacy budget\n",
    "privacy_budget = 1e-4\n",
    "\n",
    "# Define the noise scale (standard deviation of the Gaussian noise)\n",
    "noise_scale = 5.0\n",
    "\n",
    "# Add the Gaussian noise to the continuous data\n",
    "continuous_noisy_data = continuous_data + torch.tensor(np.random.randint(-noise_scale, noise_scale, size=continuous_data.shape))\n",
    "\n",
    "# # Add the int noise to the discrete data\n",
    "discrete_noisy_data = discrete_data + torch.tensor(np.random.randint(-noise_scale, noise_scale, size=discrete_data.shape))\n",
    "# Set the negative values into 0\n",
    "discrete_noisy_data[discrete_noisy_data < 0] = 0\n",
    "\n",
    "# Calculate the sensitivity of the function (maximum difference between two adjacent datasets)\n",
    "sensitivity = torch.max(torch.abs(continuous_data - (continuous_data + torch.ones_like(continuous_data))) )\n",
    "\n",
    "# Calculate delta (probability of the function output deviating from the true output by more than epsilon)\n",
    "delta = 1 / len(continuous_data)\n",
    "\n",
    "# Calculate the epsilon value\n",
    "epsilon = privacy_budget / delta\n",
    "\n",
    "# Check if the privacy guarantee is satisfied\n",
    "if epsilon <= sensitivity / noise_scale:\n",
    "    print(\"The function satisfies differential privacy with epsilon = \", epsilon)\n",
    "else:\n",
    "    print(\"The function does not satisfy differential privacy with epsilon = \", epsilon)\n"
   ]
  },
  {
   "cell_type": "code",
   "execution_count": 26,
   "id": "bf355b87",
   "metadata": {},
   "outputs": [
    {
     "data": {
      "text/html": [
       "<div>\n",
       "<style scoped>\n",
       "    .dataframe tbody tr th:only-of-type {\n",
       "        vertical-align: middle;\n",
       "    }\n",
       "\n",
       "    .dataframe tbody tr th {\n",
       "        vertical-align: top;\n",
       "    }\n",
       "\n",
       "    .dataframe thead th {\n",
       "        text-align: right;\n",
       "    }\n",
       "</style>\n",
       "<table border=\"1\" class=\"dataframe\">\n",
       "  <thead>\n",
       "    <tr style=\"text-align: right;\">\n",
       "      <th></th>\n",
       "      <th>protocol-route-memory</th>\n",
       "      <th>performance-statistics__vrf__inbound-update-messages</th>\n",
       "      <th>vrf__path-count</th>\n",
       "      <th>vrf__update-messages-received</th>\n",
       "      <th>paths-count</th>\n",
       "    </tr>\n",
       "  </thead>\n",
       "  <tbody>\n",
       "    <tr>\n",
       "      <th>0</th>\n",
       "      <td>124464.0</td>\n",
       "      <td>67221.0</td>\n",
       "      <td>5857.0</td>\n",
       "      <td>67221.0</td>\n",
       "      <td>925.0</td>\n",
       "    </tr>\n",
       "    <tr>\n",
       "      <th>1</th>\n",
       "      <td>148480.0</td>\n",
       "      <td>63498.0</td>\n",
       "      <td>8353.0</td>\n",
       "      <td>63498.0</td>\n",
       "      <td>1152.0</td>\n",
       "    </tr>\n",
       "    <tr>\n",
       "      <th>2</th>\n",
       "      <td>128176.0</td>\n",
       "      <td>67186.0</td>\n",
       "      <td>5937.0</td>\n",
       "      <td>67186.0</td>\n",
       "      <td>957.0</td>\n",
       "    </tr>\n",
       "    <tr>\n",
       "      <th>3</th>\n",
       "      <td>131232.0</td>\n",
       "      <td>69236.0</td>\n",
       "      <td>4769.0</td>\n",
       "      <td>69236.0</td>\n",
       "      <td>982.0</td>\n",
       "    </tr>\n",
       "    <tr>\n",
       "      <th>4</th>\n",
       "      <td>130752.0</td>\n",
       "      <td>68497.0</td>\n",
       "      <td>6213.0</td>\n",
       "      <td>68497.0</td>\n",
       "      <td>980.0</td>\n",
       "    </tr>\n",
       "    <tr>\n",
       "      <th>...</th>\n",
       "      <td>...</td>\n",
       "      <td>...</td>\n",
       "      <td>...</td>\n",
       "      <td>...</td>\n",
       "      <td>...</td>\n",
       "    </tr>\n",
       "    <tr>\n",
       "      <th>8628</th>\n",
       "      <td>131232.0</td>\n",
       "      <td>72822.0</td>\n",
       "      <td>4687.0</td>\n",
       "      <td>72822.0</td>\n",
       "      <td>982.0</td>\n",
       "    </tr>\n",
       "    <tr>\n",
       "      <th>8629</th>\n",
       "      <td>130880.0</td>\n",
       "      <td>69748.0</td>\n",
       "      <td>5297.0</td>\n",
       "      <td>69748.0</td>\n",
       "      <td>980.0</td>\n",
       "    </tr>\n",
       "    <tr>\n",
       "      <th>8630</th>\n",
       "      <td>129296.0</td>\n",
       "      <td>71863.0</td>\n",
       "      <td>6213.0</td>\n",
       "      <td>71863.0</td>\n",
       "      <td>967.0</td>\n",
       "    </tr>\n",
       "    <tr>\n",
       "      <th>8631</th>\n",
       "      <td>107968.0</td>\n",
       "      <td>113835.0</td>\n",
       "      <td>1975.0</td>\n",
       "      <td>113835.0</td>\n",
       "      <td>772.0</td>\n",
       "    </tr>\n",
       "    <tr>\n",
       "      <th>8632</th>\n",
       "      <td>148480.0</td>\n",
       "      <td>69472.0</td>\n",
       "      <td>8353.0</td>\n",
       "      <td>69472.0</td>\n",
       "      <td>1152.0</td>\n",
       "    </tr>\n",
       "  </tbody>\n",
       "</table>\n",
       "<p>8633 rows × 5 columns</p>\n",
       "</div>"
      ],
      "text/plain": [
       "      protocol-route-memory  \\\n",
       "0                  124464.0   \n",
       "1                  148480.0   \n",
       "2                  128176.0   \n",
       "3                  131232.0   \n",
       "4                  130752.0   \n",
       "...                     ...   \n",
       "8628               131232.0   \n",
       "8629               130880.0   \n",
       "8630               129296.0   \n",
       "8631               107968.0   \n",
       "8632               148480.0   \n",
       "\n",
       "      performance-statistics__vrf__inbound-update-messages  vrf__path-count  \\\n",
       "0                                               67221.0              5857.0   \n",
       "1                                               63498.0              8353.0   \n",
       "2                                               67186.0              5937.0   \n",
       "3                                               69236.0              4769.0   \n",
       "4                                               68497.0              6213.0   \n",
       "...                                                 ...                 ...   \n",
       "8628                                            72822.0              4687.0   \n",
       "8629                                            69748.0              5297.0   \n",
       "8630                                            71863.0              6213.0   \n",
       "8631                                           113835.0              1975.0   \n",
       "8632                                            69472.0              8353.0   \n",
       "\n",
       "      vrf__update-messages-received  paths-count  \n",
       "0                           67221.0        925.0  \n",
       "1                           63498.0       1152.0  \n",
       "2                           67186.0        957.0  \n",
       "3                           69236.0        982.0  \n",
       "4                           68497.0        980.0  \n",
       "...                             ...          ...  \n",
       "8628                        72822.0        982.0  \n",
       "8629                        69748.0        980.0  \n",
       "8630                        71863.0        967.0  \n",
       "8631                       113835.0        772.0  \n",
       "8632                        69472.0       1152.0  \n",
       "\n",
       "[8633 rows x 5 columns]"
      ]
     },
     "execution_count": 26,
     "metadata": {},
     "output_type": "execute_result"
    }
   ],
   "source": [
    "continuous_df"
   ]
  },
  {
   "cell_type": "code",
   "execution_count": 27,
   "id": "3933821e",
   "metadata": {},
   "outputs": [
    {
     "data": {
      "text/html": [
       "<div>\n",
       "<style scoped>\n",
       "    .dataframe tbody tr th:only-of-type {\n",
       "        vertical-align: middle;\n",
       "    }\n",
       "\n",
       "    .dataframe tbody tr th {\n",
       "        vertical-align: top;\n",
       "    }\n",
       "\n",
       "    .dataframe thead th {\n",
       "        text-align: right;\n",
       "    }\n",
       "</style>\n",
       "<table border=\"1\" class=\"dataframe\">\n",
       "  <thead>\n",
       "    <tr style=\"text-align: right;\">\n",
       "      <th></th>\n",
       "      <th>protocol-route-memory</th>\n",
       "      <th>performance-statistics__vrf__inbound-update-messages</th>\n",
       "      <th>vrf__path-count</th>\n",
       "      <th>vrf__update-messages-received</th>\n",
       "      <th>paths-count</th>\n",
       "    </tr>\n",
       "  </thead>\n",
       "  <tbody>\n",
       "    <tr>\n",
       "      <th>0</th>\n",
       "      <td>124461.0</td>\n",
       "      <td>67225.0</td>\n",
       "      <td>5855.0</td>\n",
       "      <td>67221.0</td>\n",
       "      <td>922.0</td>\n",
       "    </tr>\n",
       "    <tr>\n",
       "      <th>1</th>\n",
       "      <td>148483.0</td>\n",
       "      <td>63501.0</td>\n",
       "      <td>8353.0</td>\n",
       "      <td>63496.0</td>\n",
       "      <td>1147.0</td>\n",
       "    </tr>\n",
       "    <tr>\n",
       "      <th>2</th>\n",
       "      <td>128173.0</td>\n",
       "      <td>67187.0</td>\n",
       "      <td>5935.0</td>\n",
       "      <td>67189.0</td>\n",
       "      <td>961.0</td>\n",
       "    </tr>\n",
       "    <tr>\n",
       "      <th>3</th>\n",
       "      <td>131232.0</td>\n",
       "      <td>69235.0</td>\n",
       "      <td>4772.0</td>\n",
       "      <td>69240.0</td>\n",
       "      <td>979.0</td>\n",
       "    </tr>\n",
       "    <tr>\n",
       "      <th>4</th>\n",
       "      <td>130754.0</td>\n",
       "      <td>68493.0</td>\n",
       "      <td>6214.0</td>\n",
       "      <td>68500.0</td>\n",
       "      <td>984.0</td>\n",
       "    </tr>\n",
       "    <tr>\n",
       "      <th>...</th>\n",
       "      <td>...</td>\n",
       "      <td>...</td>\n",
       "      <td>...</td>\n",
       "      <td>...</td>\n",
       "      <td>...</td>\n",
       "    </tr>\n",
       "    <tr>\n",
       "      <th>8628</th>\n",
       "      <td>131234.0</td>\n",
       "      <td>72820.0</td>\n",
       "      <td>4682.0</td>\n",
       "      <td>72821.0</td>\n",
       "      <td>981.0</td>\n",
       "    </tr>\n",
       "    <tr>\n",
       "      <th>8629</th>\n",
       "      <td>130877.0</td>\n",
       "      <td>69745.0</td>\n",
       "      <td>5296.0</td>\n",
       "      <td>69743.0</td>\n",
       "      <td>981.0</td>\n",
       "    </tr>\n",
       "    <tr>\n",
       "      <th>8630</th>\n",
       "      <td>129297.0</td>\n",
       "      <td>71859.0</td>\n",
       "      <td>6214.0</td>\n",
       "      <td>71866.0</td>\n",
       "      <td>964.0</td>\n",
       "    </tr>\n",
       "    <tr>\n",
       "      <th>8631</th>\n",
       "      <td>107970.0</td>\n",
       "      <td>113833.0</td>\n",
       "      <td>1978.0</td>\n",
       "      <td>113837.0</td>\n",
       "      <td>768.0</td>\n",
       "    </tr>\n",
       "    <tr>\n",
       "      <th>8632</th>\n",
       "      <td>148480.0</td>\n",
       "      <td>69475.0</td>\n",
       "      <td>8356.0</td>\n",
       "      <td>69475.0</td>\n",
       "      <td>1150.0</td>\n",
       "    </tr>\n",
       "  </tbody>\n",
       "</table>\n",
       "<p>8633 rows × 5 columns</p>\n",
       "</div>"
      ],
      "text/plain": [
       "      protocol-route-memory  \\\n",
       "0                  124461.0   \n",
       "1                  148483.0   \n",
       "2                  128173.0   \n",
       "3                  131232.0   \n",
       "4                  130754.0   \n",
       "...                     ...   \n",
       "8628               131234.0   \n",
       "8629               130877.0   \n",
       "8630               129297.0   \n",
       "8631               107970.0   \n",
       "8632               148480.0   \n",
       "\n",
       "      performance-statistics__vrf__inbound-update-messages  vrf__path-count  \\\n",
       "0                                               67225.0              5855.0   \n",
       "1                                               63501.0              8353.0   \n",
       "2                                               67187.0              5935.0   \n",
       "3                                               69235.0              4772.0   \n",
       "4                                               68493.0              6214.0   \n",
       "...                                                 ...                 ...   \n",
       "8628                                            72820.0              4682.0   \n",
       "8629                                            69745.0              5296.0   \n",
       "8630                                            71859.0              6214.0   \n",
       "8631                                           113833.0              1978.0   \n",
       "8632                                            69475.0              8356.0   \n",
       "\n",
       "      vrf__update-messages-received  paths-count  \n",
       "0                           67221.0        922.0  \n",
       "1                           63496.0       1147.0  \n",
       "2                           67189.0        961.0  \n",
       "3                           69240.0        979.0  \n",
       "4                           68500.0        984.0  \n",
       "...                             ...          ...  \n",
       "8628                        72821.0        981.0  \n",
       "8629                        69743.0        981.0  \n",
       "8630                        71866.0        964.0  \n",
       "8631                       113837.0        768.0  \n",
       "8632                        69475.0       1150.0  \n",
       "\n",
       "[8633 rows x 5 columns]"
      ]
     },
     "execution_count": 27,
     "metadata": {},
     "output_type": "execute_result"
    }
   ],
   "source": [
    "discrete_noisy_df = pd.DataFrame(discrete_noisy_data, columns=df_categorical_columns)\n",
    "continuous_noisy_df = pd.DataFrame(continuous_noisy_data, columns=df_continuous_columns)\n",
    "\n",
    "continuous_noisy_df"
   ]
  },
  {
   "cell_type": "code",
   "execution_count": 28,
   "id": "2798a8d7",
   "metadata": {},
   "outputs": [
    {
     "data": {
      "text/html": [
       "<div>\n",
       "<style scoped>\n",
       "    .dataframe tbody tr th:only-of-type {\n",
       "        vertical-align: middle;\n",
       "    }\n",
       "\n",
       "    .dataframe tbody tr th {\n",
       "        vertical-align: top;\n",
       "    }\n",
       "\n",
       "    .dataframe thead th {\n",
       "        text-align: right;\n",
       "    }\n",
       "</style>\n",
       "<table border=\"1\" class=\"dataframe\">\n",
       "  <thead>\n",
       "    <tr style=\"text-align: right;\">\n",
       "      <th></th>\n",
       "      <th>active-routes-count</th>\n",
       "      <th>as</th>\n",
       "      <th>backup-routes-count</th>\n",
       "      <th>deleted-routes-count</th>\n",
       "      <th>routes-counts</th>\n",
       "      <th>global__established-neighbors-count-total</th>\n",
       "      <th>global__neighbors-count-total</th>\n",
       "      <th>global__nexthop-count</th>\n",
       "      <th>global__restart-count</th>\n",
       "      <th>performance-statistics__global__configuration-items-processed</th>\n",
       "      <th>performance-statistics__global__ipv4rib-server__rib-connection-up-count</th>\n",
       "      <th>vrf__neighbors-count</th>\n",
       "      <th>vrf__network-count</th>\n",
       "      <th>protocol-route-memory</th>\n",
       "      <th>performance-statistics__vrf__inbound-update-messages</th>\n",
       "      <th>vrf__path-count</th>\n",
       "      <th>vrf__update-messages-received</th>\n",
       "      <th>paths-count</th>\n",
       "    </tr>\n",
       "  </thead>\n",
       "  <tbody>\n",
       "    <tr>\n",
       "      <th>0</th>\n",
       "      <td>162.0</td>\n",
       "      <td>65018.0</td>\n",
       "      <td>0.0</td>\n",
       "      <td>4.0</td>\n",
       "      <td>164.0</td>\n",
       "      <td>39.0</td>\n",
       "      <td>40.0</td>\n",
       "      <td>150.0</td>\n",
       "      <td>1.0</td>\n",
       "      <td>6.0</td>\n",
       "      <td>0.0</td>\n",
       "      <td>43.0</td>\n",
       "      <td>350.0</td>\n",
       "      <td>124461.0</td>\n",
       "      <td>67225.0</td>\n",
       "      <td>5855.0</td>\n",
       "      <td>67221.0</td>\n",
       "      <td>922.0</td>\n",
       "    </tr>\n",
       "    <tr>\n",
       "      <th>1</th>\n",
       "      <td>154.0</td>\n",
       "      <td>65010.0</td>\n",
       "      <td>0.0</td>\n",
       "      <td>0.0</td>\n",
       "      <td>152.0</td>\n",
       "      <td>52.0</td>\n",
       "      <td>66.0</td>\n",
       "      <td>232.0</td>\n",
       "      <td>0.0</td>\n",
       "      <td>17.0</td>\n",
       "      <td>5.0</td>\n",
       "      <td>68.0</td>\n",
       "      <td>352.0</td>\n",
       "      <td>148483.0</td>\n",
       "      <td>63501.0</td>\n",
       "      <td>8353.0</td>\n",
       "      <td>63496.0</td>\n",
       "      <td>1147.0</td>\n",
       "    </tr>\n",
       "    <tr>\n",
       "      <th>2</th>\n",
       "      <td>167.0</td>\n",
       "      <td>65029.0</td>\n",
       "      <td>0.0</td>\n",
       "      <td>0.0</td>\n",
       "      <td>162.0</td>\n",
       "      <td>34.0</td>\n",
       "      <td>44.0</td>\n",
       "      <td>151.0</td>\n",
       "      <td>4.0</td>\n",
       "      <td>6.0</td>\n",
       "      <td>5.0</td>\n",
       "      <td>38.0</td>\n",
       "      <td>356.0</td>\n",
       "      <td>128173.0</td>\n",
       "      <td>67187.0</td>\n",
       "      <td>5935.0</td>\n",
       "      <td>67189.0</td>\n",
       "      <td>961.0</td>\n",
       "    </tr>\n",
       "    <tr>\n",
       "      <th>3</th>\n",
       "      <td>165.0</td>\n",
       "      <td>65019.0</td>\n",
       "      <td>0.0</td>\n",
       "      <td>3.0</td>\n",
       "      <td>169.0</td>\n",
       "      <td>34.0</td>\n",
       "      <td>37.0</td>\n",
       "      <td>143.0</td>\n",
       "      <td>3.0</td>\n",
       "      <td>7.0</td>\n",
       "      <td>0.0</td>\n",
       "      <td>40.0</td>\n",
       "      <td>354.0</td>\n",
       "      <td>131232.0</td>\n",
       "      <td>69235.0</td>\n",
       "      <td>4772.0</td>\n",
       "      <td>69240.0</td>\n",
       "      <td>979.0</td>\n",
       "    </tr>\n",
       "    <tr>\n",
       "      <th>4</th>\n",
       "      <td>161.0</td>\n",
       "      <td>65025.0</td>\n",
       "      <td>0.0</td>\n",
       "      <td>2.0</td>\n",
       "      <td>164.0</td>\n",
       "      <td>37.0</td>\n",
       "      <td>35.0</td>\n",
       "      <td>144.0</td>\n",
       "      <td>0.0</td>\n",
       "      <td>0.0</td>\n",
       "      <td>5.0</td>\n",
       "      <td>35.0</td>\n",
       "      <td>356.0</td>\n",
       "      <td>130754.0</td>\n",
       "      <td>68493.0</td>\n",
       "      <td>6214.0</td>\n",
       "      <td>68500.0</td>\n",
       "      <td>984.0</td>\n",
       "    </tr>\n",
       "    <tr>\n",
       "      <th>...</th>\n",
       "      <td>...</td>\n",
       "      <td>...</td>\n",
       "      <td>...</td>\n",
       "      <td>...</td>\n",
       "      <td>...</td>\n",
       "      <td>...</td>\n",
       "      <td>...</td>\n",
       "      <td>...</td>\n",
       "      <td>...</td>\n",
       "      <td>...</td>\n",
       "      <td>...</td>\n",
       "      <td>...</td>\n",
       "      <td>...</td>\n",
       "      <td>...</td>\n",
       "      <td>...</td>\n",
       "      <td>...</td>\n",
       "      <td>...</td>\n",
       "      <td>...</td>\n",
       "    </tr>\n",
       "    <tr>\n",
       "      <th>8628</th>\n",
       "      <td>166.0</td>\n",
       "      <td>65017.0</td>\n",
       "      <td>0.0</td>\n",
       "      <td>2.0</td>\n",
       "      <td>168.0</td>\n",
       "      <td>40.0</td>\n",
       "      <td>39.0</td>\n",
       "      <td>144.0</td>\n",
       "      <td>0.0</td>\n",
       "      <td>5.0</td>\n",
       "      <td>4.0</td>\n",
       "      <td>38.0</td>\n",
       "      <td>347.0</td>\n",
       "      <td>131234.0</td>\n",
       "      <td>72820.0</td>\n",
       "      <td>4682.0</td>\n",
       "      <td>72821.0</td>\n",
       "      <td>981.0</td>\n",
       "    </tr>\n",
       "    <tr>\n",
       "      <th>8629</th>\n",
       "      <td>163.0</td>\n",
       "      <td>65022.0</td>\n",
       "      <td>0.0</td>\n",
       "      <td>0.0</td>\n",
       "      <td>163.0</td>\n",
       "      <td>34.0</td>\n",
       "      <td>39.0</td>\n",
       "      <td>141.0</td>\n",
       "      <td>3.0</td>\n",
       "      <td>0.0</td>\n",
       "      <td>3.0</td>\n",
       "      <td>32.0</td>\n",
       "      <td>353.0</td>\n",
       "      <td>130877.0</td>\n",
       "      <td>69745.0</td>\n",
       "      <td>5296.0</td>\n",
       "      <td>69743.0</td>\n",
       "      <td>981.0</td>\n",
       "    </tr>\n",
       "    <tr>\n",
       "      <th>8630</th>\n",
       "      <td>168.0</td>\n",
       "      <td>65023.0</td>\n",
       "      <td>0.0</td>\n",
       "      <td>0.0</td>\n",
       "      <td>166.0</td>\n",
       "      <td>41.0</td>\n",
       "      <td>41.0</td>\n",
       "      <td>146.0</td>\n",
       "      <td>0.0</td>\n",
       "      <td>0.0</td>\n",
       "      <td>0.0</td>\n",
       "      <td>42.0</td>\n",
       "      <td>350.0</td>\n",
       "      <td>129297.0</td>\n",
       "      <td>71859.0</td>\n",
       "      <td>6214.0</td>\n",
       "      <td>71866.0</td>\n",
       "      <td>964.0</td>\n",
       "    </tr>\n",
       "    <tr>\n",
       "      <th>8631</th>\n",
       "      <td>171.0</td>\n",
       "      <td>65501.0</td>\n",
       "      <td>3.0</td>\n",
       "      <td>0.0</td>\n",
       "      <td>163.0</td>\n",
       "      <td>24.0</td>\n",
       "      <td>32.0</td>\n",
       "      <td>117.0</td>\n",
       "      <td>3.0</td>\n",
       "      <td>6.0</td>\n",
       "      <td>0.0</td>\n",
       "      <td>32.0</td>\n",
       "      <td>349.0</td>\n",
       "      <td>107970.0</td>\n",
       "      <td>113833.0</td>\n",
       "      <td>1978.0</td>\n",
       "      <td>113837.0</td>\n",
       "      <td>768.0</td>\n",
       "    </tr>\n",
       "    <tr>\n",
       "      <th>8632</th>\n",
       "      <td>152.0</td>\n",
       "      <td>65008.0</td>\n",
       "      <td>0.0</td>\n",
       "      <td>0.0</td>\n",
       "      <td>151.0</td>\n",
       "      <td>56.0</td>\n",
       "      <td>65.0</td>\n",
       "      <td>226.0</td>\n",
       "      <td>4.0</td>\n",
       "      <td>17.0</td>\n",
       "      <td>0.0</td>\n",
       "      <td>66.0</td>\n",
       "      <td>347.0</td>\n",
       "      <td>148480.0</td>\n",
       "      <td>69475.0</td>\n",
       "      <td>8356.0</td>\n",
       "      <td>69475.0</td>\n",
       "      <td>1150.0</td>\n",
       "    </tr>\n",
       "  </tbody>\n",
       "</table>\n",
       "<p>8633 rows × 18 columns</p>\n",
       "</div>"
      ],
      "text/plain": [
       "      active-routes-count       as  backup-routes-count  deleted-routes-count  \\\n",
       "0                   162.0  65018.0                  0.0                   4.0   \n",
       "1                   154.0  65010.0                  0.0                   0.0   \n",
       "2                   167.0  65029.0                  0.0                   0.0   \n",
       "3                   165.0  65019.0                  0.0                   3.0   \n",
       "4                   161.0  65025.0                  0.0                   2.0   \n",
       "...                   ...      ...                  ...                   ...   \n",
       "8628                166.0  65017.0                  0.0                   2.0   \n",
       "8629                163.0  65022.0                  0.0                   0.0   \n",
       "8630                168.0  65023.0                  0.0                   0.0   \n",
       "8631                171.0  65501.0                  3.0                   0.0   \n",
       "8632                152.0  65008.0                  0.0                   0.0   \n",
       "\n",
       "      routes-counts  global__established-neighbors-count-total  \\\n",
       "0             164.0                                       39.0   \n",
       "1             152.0                                       52.0   \n",
       "2             162.0                                       34.0   \n",
       "3             169.0                                       34.0   \n",
       "4             164.0                                       37.0   \n",
       "...             ...                                        ...   \n",
       "8628          168.0                                       40.0   \n",
       "8629          163.0                                       34.0   \n",
       "8630          166.0                                       41.0   \n",
       "8631          163.0                                       24.0   \n",
       "8632          151.0                                       56.0   \n",
       "\n",
       "      global__neighbors-count-total  global__nexthop-count  \\\n",
       "0                              40.0                  150.0   \n",
       "1                              66.0                  232.0   \n",
       "2                              44.0                  151.0   \n",
       "3                              37.0                  143.0   \n",
       "4                              35.0                  144.0   \n",
       "...                             ...                    ...   \n",
       "8628                           39.0                  144.0   \n",
       "8629                           39.0                  141.0   \n",
       "8630                           41.0                  146.0   \n",
       "8631                           32.0                  117.0   \n",
       "8632                           65.0                  226.0   \n",
       "\n",
       "      global__restart-count  \\\n",
       "0                       1.0   \n",
       "1                       0.0   \n",
       "2                       4.0   \n",
       "3                       3.0   \n",
       "4                       0.0   \n",
       "...                     ...   \n",
       "8628                    0.0   \n",
       "8629                    3.0   \n",
       "8630                    0.0   \n",
       "8631                    3.0   \n",
       "8632                    4.0   \n",
       "\n",
       "      performance-statistics__global__configuration-items-processed  \\\n",
       "0                                                   6.0               \n",
       "1                                                  17.0               \n",
       "2                                                   6.0               \n",
       "3                                                   7.0               \n",
       "4                                                   0.0               \n",
       "...                                                 ...               \n",
       "8628                                                5.0               \n",
       "8629                                                0.0               \n",
       "8630                                                0.0               \n",
       "8631                                                6.0               \n",
       "8632                                               17.0               \n",
       "\n",
       "      performance-statistics__global__ipv4rib-server__rib-connection-up-count  \\\n",
       "0                                                   0.0                         \n",
       "1                                                   5.0                         \n",
       "2                                                   5.0                         \n",
       "3                                                   0.0                         \n",
       "4                                                   5.0                         \n",
       "...                                                 ...                         \n",
       "8628                                                4.0                         \n",
       "8629                                                3.0                         \n",
       "8630                                                0.0                         \n",
       "8631                                                0.0                         \n",
       "8632                                                0.0                         \n",
       "\n",
       "      vrf__neighbors-count  vrf__network-count  protocol-route-memory  \\\n",
       "0                     43.0               350.0               124461.0   \n",
       "1                     68.0               352.0               148483.0   \n",
       "2                     38.0               356.0               128173.0   \n",
       "3                     40.0               354.0               131232.0   \n",
       "4                     35.0               356.0               130754.0   \n",
       "...                    ...                 ...                    ...   \n",
       "8628                  38.0               347.0               131234.0   \n",
       "8629                  32.0               353.0               130877.0   \n",
       "8630                  42.0               350.0               129297.0   \n",
       "8631                  32.0               349.0               107970.0   \n",
       "8632                  66.0               347.0               148480.0   \n",
       "\n",
       "      performance-statistics__vrf__inbound-update-messages  vrf__path-count  \\\n",
       "0                                               67225.0              5855.0   \n",
       "1                                               63501.0              8353.0   \n",
       "2                                               67187.0              5935.0   \n",
       "3                                               69235.0              4772.0   \n",
       "4                                               68493.0              6214.0   \n",
       "...                                                 ...                 ...   \n",
       "8628                                            72820.0              4682.0   \n",
       "8629                                            69745.0              5296.0   \n",
       "8630                                            71859.0              6214.0   \n",
       "8631                                           113833.0              1978.0   \n",
       "8632                                            69475.0              8356.0   \n",
       "\n",
       "      vrf__update-messages-received  paths-count  \n",
       "0                           67221.0        922.0  \n",
       "1                           63496.0       1147.0  \n",
       "2                           67189.0        961.0  \n",
       "3                           69240.0        979.0  \n",
       "4                           68500.0        984.0  \n",
       "...                             ...          ...  \n",
       "8628                        72821.0        981.0  \n",
       "8629                        69743.0        981.0  \n",
       "8630                        71866.0        964.0  \n",
       "8631                       113837.0        768.0  \n",
       "8632                        69475.0       1150.0  \n",
       "\n",
       "[8633 rows x 18 columns]"
      ]
     },
     "execution_count": 28,
     "metadata": {},
     "output_type": "execute_result"
    }
   ],
   "source": [
    "noisy_tmp_df = pd.concat([discrete_noisy_df, continuous_noisy_df], axis=1)\n",
    "noisy_tmp_df"
   ]
  },
  {
   "cell_type": "markdown",
   "id": "a39c4d92",
   "metadata": {},
   "source": [
    "## Data Pre-Processing\n",
    "\n",
    "Data can be pre-processed in 2 ways. Either we use <b>\"standard\"</b> option which performs a standard scaler on continuous variables - This has known limitations as:\n",
    "\n",
    "- Data in tables is usually non-gaussian and SynthVAE implements a gaussian loss, so this will perform worse unless the data is KNOWN to follow a gaussian distribution already.\n",
    "\n",
    "Or we use the second option of <b>\"GMM\"</b>. This performs a variational gaussian mixture model to scale the data & transform it to a gaussian distribution. We use a maximum number of clusters of 10 but the variational method will select the best number of clusters for that continuous variable. This also has known limitations:\n",
    "\n",
    "- 10 Clusters is arbitrary and may not be enough for certain variables.\n",
    "- We are fitting a model to transform the data and hence we are approximating before model is trained. This will lose fidelity as the distribution will not be transformed perfectly.\n",
    "\n",
    "SUPPORT is a limited dataset as it has no missingness (which our model currently does NOT handle) and it has no datetime columns or other data types. Be wary drawing any conclusions from this set due to these constraints as well as the dataset size. Testing/training new models with this set could be useful but conclusive results should be tested on other sets."
   ]
  },
  {
   "cell_type": "code",
   "execution_count": 29,
   "id": "062fde6e",
   "metadata": {
    "pycharm": {
     "name": "#%% -------- Data Pre-Processing -------- #\n"
    }
   },
   "outputs": [
    {
     "name": "stdout",
     "output_type": "stream",
     "text": [
      "0 active-routes-count ------index, column\n",
      "1 as ------index, column\n",
      "2 backup-routes-count ------index, column\n",
      "3 deleted-routes-count ------index, column\n",
      "4 routes-counts ------index, column\n",
      "5 global__established-neighbors-count-total ------index, column\n",
      "6 global__neighbors-count-total ------index, column\n",
      "7 global__nexthop-count ------index, column\n",
      "8 global__restart-count ------index, column\n",
      "9 performance-statistics__global__configuration-items-processed ------index, column\n",
      "10 performance-statistics__global__ipv4rib-server__rib-connection-up-count ------index, column\n",
      "11 vrf__neighbors-count ------index, column\n",
      "12 vrf__network-count ------index, column\n",
      "13 protocol-route-memory.component ------index, column\n",
      "14 performance-statistics__vrf__inbound-update-messages.component ------index, column\n",
      "15 vrf__path-count.component ------index, column\n",
      "16 vrf__update-messages-received.component ------index, column\n",
      "17 paths-count.component ------index, column\n"
     ]
    }
   ],
   "source": [
    "\n",
    "pre_proc_method = \"GMM\"\n",
    "\n",
    "# (\n",
    "#     x_train,\n",
    "#     tmp_df,\n",
    "#     reordered_dataframe_columns,\n",
    "#     continuous_transformers,\n",
    "#     categorical_transformers,\n",
    "#     num_categories,\n",
    "#     num_continuous,\n",
    "# ) = support_pre_proc(data_supp=tmp_df, \n",
    "#                      continuous_columns=original_continuous_columns,\n",
    "#                      categorical_columns=original_categorical_columns,\n",
    "#                      all_possible_categories=categorical_len_count,\n",
    "#                      pre_proc_method=pre_proc_method)\n",
    "\n",
    "(\n",
    "    x_train,\n",
    "    tmp_df,\n",
    "    reordered_dataframe_columns,\n",
    "    continuous_transformers,\n",
    "    categorical_transformers,\n",
    "    num_categories,\n",
    "    num_continuous,\n",
    ") = mimic_pre_proc(noisy_tmp_df,\n",
    "                   original_continuous_columns,\n",
    "                   original_categorical_columns,\n",
    "                   pre_proc_method=pre_proc_method)\n",
    "\n"
   ]
  },
  {
   "cell_type": "code",
   "execution_count": 30,
   "id": "be46270a",
   "metadata": {},
   "outputs": [
    {
     "data": {
      "text/plain": [
       "(8633, 461)"
      ]
     },
     "execution_count": 30,
     "metadata": {},
     "output_type": "execute_result"
    }
   ],
   "source": [
    "x_train.shape"
   ]
  },
  {
   "cell_type": "code",
   "execution_count": 31,
   "id": "984a8608",
   "metadata": {},
   "outputs": [
    {
     "data": {
      "text/plain": [
       "5"
      ]
     },
     "execution_count": 31,
     "metadata": {},
     "output_type": "execute_result"
    }
   ],
   "source": [
    "num_continuous"
   ]
  },
  {
   "cell_type": "code",
   "execution_count": 32,
   "id": "0eae5190",
   "metadata": {},
   "outputs": [
    {
     "data": {
      "text/plain": [
       "[40, 39, 6, 30, 41, 61, 34, 52, 7, 21, 6, 34, 44, 8, 6, 10, 7, 10]"
      ]
     },
     "execution_count": 32,
     "metadata": {},
     "output_type": "execute_result"
    }
   ],
   "source": [
    "num_categories"
   ]
  },
  {
   "cell_type": "markdown",
   "id": "e7c169e7",
   "metadata": {},
   "source": [
    "## Creation & Training of VAE\n",
    "\n",
    "We can adapt certain parameters of the model e.g. batch size, latent dimension size etc. This model implements early stopping and these values can be adapted.\n",
    "\n",
    "We can also activate differential privacy by implementing dp-sgd through the opacus library."
   ]
  },
  {
   "cell_type": "code",
   "execution_count": 71,
   "id": "50e027f9",
   "metadata": {
    "pycharm": {
     "name": "#%% -------- Create & Train VAE -------- #\n"
    }
   },
   "outputs": [
    {
     "name": "stdout",
     "output_type": "stream",
     "text": [
      "Encoder: gpu specified, cpu used\n",
      "Decoder: gpu specified, cpu used\n",
      "VAE(\n",
      "  (encoder): Encoder(\n",
      "    (net): Sequential(\n",
      "      (0): Linear(in_features=461, out_features=1024, bias=True)\n",
      "      (1): Tanh()\n",
      "      (2): Linear(in_features=1024, out_features=1024, bias=True)\n",
      "      (3): Tanh()\n",
      "      (4): Linear(in_features=1024, out_features=1024, bias=True)\n",
      "    )\n",
      "  )\n",
      "  (decoder): Decoder(\n",
      "    (net): Sequential(\n",
      "      (0): Linear(in_features=512, out_features=1024, bias=True)\n",
      "      (1): Tanh()\n",
      "      (2): Linear(in_features=1024, out_features=1024, bias=True)\n",
      "      (3): Tanh()\n",
      "      (4): Linear(in_features=1024, out_features=461, bias=True)\n",
      "    )\n",
      "  )\n",
      "  (noiser): Noiser(\n",
      "    (output_logsigma_fn): Linear(in_features=5, out_features=5, bias=True)\n",
      "  )\n",
      ")\n"
     ]
    },
    {
     "name": "stderr",
     "output_type": "stream",
     "text": [
      "100%|██████████| 86/86 [00:01<00:00, 44.06it/s]\n"
     ]
    },
    {
     "name": "stdout",
     "output_type": "stream",
     "text": [
      "\tEpoch:  0. Elbo:    43910.32. Reconstruction Loss:    42913.98. KL Divergence:      996.34. Categorical Loss:    -4035.24. Numerical Loss:   -38878.75\n"
     ]
    },
    {
     "name": "stderr",
     "output_type": "stream",
     "text": [
      "100%|██████████| 86/86 [00:01<00:00, 45.46it/s]\n"
     ]
    },
    {
     "name": "stdout",
     "output_type": "stream",
     "text": [
      "\tEpoch:  1. Elbo:    39537.49. Reconstruction Loss:    39510.79. KL Divergence:       26.70. Categorical Loss:    -3801.76. Numerical Loss:   -35709.03\n"
     ]
    },
    {
     "name": "stderr",
     "output_type": "stream",
     "text": [
      "100%|██████████| 86/86 [00:01<00:00, 45.39it/s]\n"
     ]
    },
    {
     "name": "stdout",
     "output_type": "stream",
     "text": [
      "\tEpoch:  2. Elbo:    35677.24. Reconstruction Loss:    35658.52. KL Divergence:       18.72. Categorical Loss:    -3809.30. Numerical Loss:   -31849.22\n"
     ]
    },
    {
     "name": "stderr",
     "output_type": "stream",
     "text": [
      "100%|██████████| 86/86 [00:01<00:00, 45.51it/s]\n"
     ]
    },
    {
     "name": "stdout",
     "output_type": "stream",
     "text": [
      "\tEpoch:  3. Elbo:    32512.01. Reconstruction Loss:    32487.35. KL Divergence:       24.66. Categorical Loss:    -3810.66. Numerical Loss:   -28676.69\n"
     ]
    },
    {
     "name": "stderr",
     "output_type": "stream",
     "text": [
      "100%|██████████| 86/86 [00:01<00:00, 45.52it/s]\n"
     ]
    },
    {
     "name": "stdout",
     "output_type": "stream",
     "text": [
      "\tEpoch:  4. Elbo:    29236.28. Reconstruction Loss:    29195.21. KL Divergence:       41.07. Categorical Loss:    -3819.87. Numerical Loss:   -25375.34\n"
     ]
    },
    {
     "name": "stderr",
     "output_type": "stream",
     "text": [
      "100%|██████████| 86/86 [00:01<00:00, 45.57it/s]\n"
     ]
    },
    {
     "name": "stdout",
     "output_type": "stream",
     "text": [
      "\tEpoch:  5. Elbo:    26371.80. Reconstruction Loss:    26300.48. KL Divergence:       71.32. Categorical Loss:    -3835.06. Numerical Loss:   -22465.42\n"
     ]
    },
    {
     "name": "stderr",
     "output_type": "stream",
     "text": [
      "100%|██████████| 86/86 [00:01<00:00, 45.61it/s]\n"
     ]
    },
    {
     "name": "stdout",
     "output_type": "stream",
     "text": [
      "\tEpoch:  6. Elbo:    23082.57. Reconstruction Loss:    23002.81. KL Divergence:       79.76. Categorical Loss:    -3821.46. Numerical Loss:   -19181.35\n"
     ]
    },
    {
     "name": "stderr",
     "output_type": "stream",
     "text": [
      "100%|██████████| 86/86 [00:01<00:00, 45.66it/s]\n"
     ]
    },
    {
     "name": "stdout",
     "output_type": "stream",
     "text": [
      "\tEpoch:  7. Elbo:    20351.56. Reconstruction Loss:    20215.70. KL Divergence:      135.86. Categorical Loss:    -3827.09. Numerical Loss:   -16388.61\n"
     ]
    },
    {
     "name": "stderr",
     "output_type": "stream",
     "text": [
      "100%|██████████| 86/86 [00:02<00:00, 42.99it/s]\n"
     ]
    },
    {
     "name": "stdout",
     "output_type": "stream",
     "text": [
      "\tEpoch:  8. Elbo:    17914.41. Reconstruction Loss:    17727.73. KL Divergence:      186.68. Categorical Loss:    -3843.86. Numerical Loss:   -13883.87\n"
     ]
    },
    {
     "name": "stderr",
     "output_type": "stream",
     "text": [
      "100%|██████████| 86/86 [00:02<00:00, 41.88it/s]"
     ]
    },
    {
     "name": "stdout",
     "output_type": "stream",
     "text": [
      "\tEpoch:  9. Elbo:    15552.44. Reconstruction Loss:    15293.10. KL Divergence:      259.34. Categorical Loss:    -3859.56. Numerical Loss:   -11433.54\n"
     ]
    },
    {
     "name": "stderr",
     "output_type": "stream",
     "text": [
      "\n"
     ]
    }
   ],
   "source": [
    "# User defined hyperparams\n",
    "# General training\n",
    "batch_size = 100\n",
    "latent_dim = 512\n",
    "hidden_dim = 1024\n",
    "n_epochs = 10\n",
    "logging_freq = 1  # Number of epochs we should log the results to the user\n",
    "patience = 50  # How many epochs should we allow the model train to see if\n",
    "# improvement is made\n",
    "delta = 10  # The difference between elbo values that registers an improvement\n",
    "filepath = None  # Where to save the best model\n",
    "\n",
    "\n",
    "# Privacy params\n",
    "differential_privacy = False  # Do we want to implement differential privacy\n",
    "sample_rate = 0.1  # Sampling rate\n",
    "C = 1e16  # Clipping threshold any gradients above this are clipped\n",
    "noise_scale = 0.2  # Noise multiplier - influences how much noise to add\n",
    "target_eps = 10  # Target epsilon for privacy accountant\n",
    "target_delta = 1e-5  # Target delta for privacy accountant\n",
    "\n",
    "# Prepare data for interaction with torch VAE\n",
    "Y = torch.Tensor(x_train)\n",
    "dataset = TensorDataset(Y)\n",
    "\n",
    "generator = None\n",
    "sample_rate = batch_size / len(dataset)\n",
    "data_loader = DataLoader(\n",
    "    dataset,\n",
    "    batch_sampler=UniformWithReplacementSampler(\n",
    "        num_samples=len(dataset), sample_rate=sample_rate, generator=generator\n",
    "    ),\n",
    "    pin_memory=True,\n",
    "    generator=generator,\n",
    ")\n",
    "\n",
    "# Create VAE\n",
    "encoder = Encoder(x_train.shape[1], latent_dim, hidden_dim=hidden_dim)\n",
    "decoder = Decoder(latent_dim, num_continuous, hidden_dim=hidden_dim, num_categories=num_categories)\n",
    "\n",
    "vae = VAE(encoder, decoder)\n",
    "\n",
    "print(vae)\n",
    "\n",
    "if differential_privacy == False:\n",
    "    (\n",
    "        training_epochs,\n",
    "        log_elbo,\n",
    "        log_reconstruction,\n",
    "        log_divergence,\n",
    "        log_categorical,\n",
    "        log_numerical,\n",
    "    ) = vae.train(\n",
    "        data_loader, \n",
    "        n_epochs=n_epochs,\n",
    "        logging_freq=logging_freq,\n",
    "        patience=patience,\n",
    "        delta=delta,\n",
    "    )\n",
    "\n",
    "elif differential_privacy == True:\n",
    "    (\n",
    "        training_epochs,\n",
    "        log_elbo,\n",
    "        log_reconstruction,\n",
    "        log_divergence,\n",
    "        log_categorical,\n",
    "        log_numerical,\n",
    "    ) = vae.diff_priv_train(\n",
    "        data_loader,\n",
    "        n_epochs=n_epochs,\n",
    "        logging_freq=logging_freq,\n",
    "        patience=patience,\n",
    "        delta=delta,\n",
    "        C=C,\n",
    "        target_eps=target_eps,\n",
    "        target_delta=target_delta,\n",
    "        sample_rate=sample_rate,\n",
    "        noise_scale=noise_scale,\n",
    "    )\n",
    "    print(f\"(epsilon, delta): {vae.get_privacy_spent(target_delta)}\")\n",
    "\n",
    "# save the model\n",
    "PATH = \"vae_model.pt\"\n",
    "torch.save(vae.state_dict(), PATH)"
   ]
  },
  {
   "cell_type": "markdown",
   "id": "7527a95f",
   "metadata": {},
   "source": [
    "## Plotting Elbo Functionality\n",
    "\n",
    "Here we can plot and save the ELBO graph for the training run"
   ]
  },
  {
   "cell_type": "code",
   "execution_count": null,
   "id": "9bcd8be1",
   "metadata": {
    "pycharm": {
     "name": "#%% -------- Plot Loss Features ELBO Breakdown -------- #\n"
    }
   },
   "outputs": [],
   "source": [
    "\n",
    "elbo_fig = plot_elbo(\n",
    "    n_epochs=training_epochs,\n",
    "    log_elbo=log_elbo,\n",
    "    log_reconstruction=log_reconstruction,\n",
    "    log_divergence=log_divergence,\n",
    "    saving_filepath=\"\",\n",
    ")\n"
   ]
  },
  {
   "cell_type": "markdown",
   "id": "7a7d8d8c",
   "metadata": {},
   "source": [
    "## Plotting Reconstruction Breakdown\n",
    "\n",
    "Here we can plot the breakdown of reconstruction loss i.e. visualise how the categorical and numerical losses change over training"
   ]
  },
  {
   "cell_type": "code",
   "execution_count": 35,
   "id": "00075d23",
   "metadata": {
    "pycharm": {
     "name": "#%% -------- Plot Loss Features Reconstruction Breakdown -------- #\n"
    }
   },
   "outputs": [
    {
     "data": {
      "image/png": "[encoded data removed]",
      "text/plain": [
       "<Figure size 432x288 with 2 Axes>"
      ]
     },
     "metadata": {
      "needs_background": "light"
     },
     "output_type": "display_data"
    }
   ],
   "source": [
    "\n",
    "likelihood_fig = plot_likelihood_breakdown(\n",
    "    n_epochs=training_epochs,\n",
    "    log_categorical=log_categorical,\n",
    "    log_numerical=log_numerical,\n",
    "    saving_filepath=\"\",\n",
    "    pre_proc_method=pre_proc_method,\n",
    ")\n"
   ]
  },
  {
   "cell_type": "markdown",
   "id": "fc7ccb88",
   "metadata": {},
   "source": [
    "## Synthetic Data Generation\n",
    "\n",
    "Here we create synthetic data ready for metric testing as well as visualisation of variable reconstruction. For this we simply generate from our generative model and then reverse transformations using the prior transformers."
   ]
  },
  {
   "cell_type": "code",
   "execution_count": 34,
   "id": "b9218b96",
   "metadata": {},
   "outputs": [],
   "source": [
    "synthetic_sample = vae.generate(x_train.shape[0])\n",
    "\n",
    "if torch.cuda.is_available():\n",
    "    synthetic_sample = pd.DataFrame(\n",
    "        synthetic_sample.cpu().detach().numpy(), \n",
    "        columns=reordered_dataframe_columns\n",
    "    )\n",
    "else:\n",
    "    synthetic_sample = pd.DataFrame(\n",
    "        synthetic_sample.detach().numpy(), \n",
    "        columns=reordered_dataframe_columns\n",
    "    )\n",
    "# Reverse the transformations\n",
    "\n",
    "synthetic_supp = reverse_transformers(\n",
    "    synthetic_set=synthetic_sample,\n",
    "    data_supp_columns=tmp_df.columns,\n",
    "    cont_transformers=continuous_transformers,\n",
    "    cat_transformers=categorical_transformers,\n",
    "    pre_proc_method=pre_proc_method,\n",
    ")\n"
   ]
  },
  {
   "cell_type": "markdown",
   "id": "9551f747",
   "metadata": {},
   "source": [
    "## Synthetic Variable Visualisation\n",
    "\n",
    "Here we want to visualise the synthetic variables generated and compare them to the original set"
   ]
  },
  {
   "cell_type": "code",
   "execution_count": 25,
   "id": "717713d2",
   "metadata": {
    "pycharm": {
     "name": "#%% -------- Plot Histograms For All The Variable Distributions -------- #\n"
    }
   },
   "outputs": [
    {
     "data": {
      "image/png": "[encoded data removed]",
      "text/plain": [
       "<Figure size 432x288 with 2 Axes>"
      ]
     },
     "metadata": {
      "needs_background": "light"
     },
     "output_type": "display_data"
    },
    {
     "data": {
      "image/png": "[encoded data removed]",
      "text/plain": [
       "<Figure size 432x288 with 2 Axes>"
      ]
     },
     "metadata": {
      "needs_background": "light"
     },
     "output_type": "display_data"
    },
    {
     "data": {
      "image/png": "[encoded data removed]",
      "text/plain": [
       "<Figure size 432x288 with 2 Axes>"
      ]
     },
     "metadata": {
      "needs_background": "light"
     },
     "output_type": "display_data"
    },
    {
     "data": {
      "image/png": "[encoded data removed]",
      "text/plain": [
       "<Figure size 432x288 with 2 Axes>"
      ]
     },
     "metadata": {
      "needs_background": "light"
     },
     "output_type": "display_data"
    },
    {
     "data": {
      "image/png": "[encoded data removed]",
      "text/plain": [
       "<Figure size 432x288 with 2 Axes>"
      ]
     },
     "metadata": {
      "needs_background": "light"
     },
     "output_type": "display_data"
    },
    {
     "data": {
      "image/png": "[encoded data removed]",
      "text/plain": [
       "<Figure size 432x288 with 2 Axes>"
      ]
     },
     "metadata": {
      "needs_background": "light"
     },
     "output_type": "display_data"
    },
    {
     "data": {
      "image/png": "[encoded data removed]",
      "text/plain": [
       "<Figure size 432x288 with 2 Axes>"
      ]
     },
     "metadata": {
      "needs_background": "light"
     },
     "output_type": "display_data"
    },
    {
     "data": {
      "image/png": "[encoded data removed]",
      "text/plain": [
       "<Figure size 432x288 with 2 Axes>"
      ]
     },
     "metadata": {
      "needs_background": "light"
     },
     "output_type": "display_data"
    },
    {
     "data": {
      "image/png": "[encoded data removed]",
      "text/plain": [
       "<Figure size 432x288 with 2 Axes>"
      ]
     },
     "metadata": {
      "needs_background": "light"
     },
     "output_type": "display_data"
    },
    {
     "data": {
      "image/png": "[encoded data removed]",
      "text/plain": [
       "<Figure size 432x288 with 2 Axes>"
      ]
     },
     "metadata": {
      "needs_background": "light"
     },
     "output_type": "display_data"
    },
    {
     "data": {
      "image/png": "[encoded data removed]",
      "text/plain": [
       "<Figure size 432x288 with 2 Axes>"
      ]
     },
     "metadata": {
      "needs_background": "light"
     },
     "output_type": "display_data"
    },
    {
     "data": {
      "image/png": "[encoded data removed]",
      "text/plain": [
       "<Figure size 432x288 with 2 Axes>"
      ]
     },
     "metadata": {
      "needs_background": "light"
     },
     "output_type": "display_data"
    },
    {
     "data": {
      "image/png": "[encoded data removed]",
      "text/plain": [
       "<Figure size 432x288 with 2 Axes>"
      ]
     },
     "metadata": {
      "needs_background": "light"
     },
     "output_type": "display_data"
    },
    {
     "data": {
      "image/png": "[encoded data removed]",
      "text/plain": [
       "<Figure size 432x288 with 2 Axes>"
      ]
     },
     "metadata": {
      "needs_background": "light"
     },
     "output_type": "display_data"
    }
   ],
   "source": [
    "\n",
    "plot_variable_distributions(\n",
    "    categorical_columns=original_categorical_columns,\n",
    "    continuous_columns=original_continuous_columns,\n",
    "    data_supp=input_df,\n",
    "    synthetic_supp=synthetic_supp,\n",
    "    saving_filepath=\"figs/\",\n",
    "    pre_proc_method=pre_proc_method,\n",
    ")\n"
   ]
  },
  {
   "cell_type": "markdown",
   "id": "1547f84e",
   "metadata": {},
   "source": [
    "## Metric evaluation\n",
    "\n",
    "We use the SDV evaluation framework. Supply the metrics you wish to find in the distributional_metrics list from SDV guidance. Can start here: https://sdv.dev/SDV/user_guides/evaluation/single_table_metrics.html\n",
    "\n",
    "Note that not all of these will work, some are hit and miss. We predominantly rely on continuous and discrete KL divergence measures. You can also input <b>\"gower\"</b> and this will calculate the gower distance using the gower library."
   ]
  },
  {
   "cell_type": "code",
   "execution_count": 48,
   "id": "b10e141e",
   "metadata": {},
   "outputs": [],
   "source": [
    "import matplotlib.pyplot as plt\n",
    "plt.rcParams['font.size'] = 14\n",
    "pd.set_option(\"display.precision\", 3)\n",
    "\n",
    "def cal_err_rate(synthetic_data, real_data):\n",
    "    err_rate = (synthetic_data - real_data)/real_data\n",
    "    return err_rate"
   ]
  },
  {
   "cell_type": "markdown",
   "id": "9d996116",
   "metadata": {},
   "source": [
    "## Query metric 1: mean"
   ]
  },
  {
   "cell_type": "code",
   "execution_count": 57,
   "id": "78f0a488",
   "metadata": {},
   "outputs": [
    {
     "data": {
      "text/plain": [
       "<function matplotlib.pyplot.show(close=None, block=None)>"
      ]
     },
     "execution_count": 57,
     "metadata": {},
     "output_type": "execute_result"
    },
    {
     "data": {
      "image/png": "[encoded data removed]",
      "text/plain": [
       "<Figure size 432x288 with 1 Axes>"
      ]
     },
     "metadata": {
      "needs_background": "light"
     },
     "output_type": "display_data"
    }
   ],
   "source": [
    "vae_generation_mean = cal_err_rate(synthetic_supp.mean(), input_df.mean())\n",
    "noise_mean = cal_err_rate(noisy_tmp_df.mean(), input_df.mean())\n",
    "\n",
    "x = [i for i in range(18)]\n",
    "x1 = [i+0.5 for i in range(18)]\n",
    "\n",
    "fig = plt.figure()\n",
    "ax = fig.add_subplot(111)\n",
    "ax.bar(x, vae_generation_mean, width=0.4, color='blue', label='VAE output Y VS X')\n",
    "ax.bar(x1, noise_mean, width=0.4, color='orange', label='X+noise VS X')\n",
    "\n",
    "plt.legend()\n",
    "plt.ylabel('Error rate')\n",
    "# plt.ylim(0, 4)\n",
    "plt.xlabel( 'Different dimension of telemetry data' )\n",
    "plt.title('Mean value')\n",
    "plt.show"
   ]
  },
  {
   "cell_type": "markdown",
   "id": "8591f992",
   "metadata": {},
   "source": [
    "## Query metric 2: quantile"
   ]
  },
  {
   "cell_type": "code",
   "execution_count": 59,
   "id": "68b12c71",
   "metadata": {},
   "outputs": [
    {
     "data": {
      "text/plain": [
       "<function matplotlib.pyplot.show(close=None, block=None)>"
      ]
     },
     "execution_count": 59,
     "metadata": {},
     "output_type": "execute_result"
    },
    {
     "data": {
      "image/png": "[encoded data removed]",
      "text/plain": [
       "<Figure size 432x288 with 1 Axes>"
      ]
     },
     "metadata": {
      "needs_background": "light"
     },
     "output_type": "display_data"
    }
   ],
   "source": [
    "vae_generation_mean = cal_err_rate(synthetic_supp.quantile(0.9), input_df.quantile(0.9))\n",
    "noise_mean = cal_err_rate(noisy_tmp_df.quantile(0.9), input_df.quantile(0.9))\n",
    "\n",
    "x = [i for i in range(18)]\n",
    "x1 = [i+0.5 for i in range(18)]\n",
    "\n",
    "fig = plt.figure()\n",
    "ax = fig.add_subplot(111)\n",
    "ax.bar(x, vae_generation_mean, width=0.4, color='blue', label='VAE output Y VS X')\n",
    "ax.bar(x1, noise_mean, width=0.4, color='orange', label='X+noise VS X')\n",
    "\n",
    "plt.legend()\n",
    "plt.ylabel('Error rate')\n",
    "plt.ylim(0, 5)\n",
    "plt.xlabel( 'Different dimension of telemetry data' )\n",
    "plt.title('90% quantile value')\n",
    "plt.show"
   ]
  },
  {
   "cell_type": "markdown",
   "id": "94116d59",
   "metadata": {},
   "source": [
    "## Distribution metric: KSTest"
   ]
  },
  {
   "cell_type": "code",
   "execution_count": 62,
   "id": "55c10826",
   "metadata": {
    "pycharm": {
     "name": "#%% -------- SDV Metrics -------- #\n"
    }
   },
   "outputs": [],
   "source": [
    "# Define distributional metrics required - for sdv_baselines this is set by default\n",
    "# distributional_metrics = [\n",
    "#     \"SVCDetection\",\n",
    "#     \"GMLogLikelihood\",\n",
    "#     \"CSTest\",\n",
    "#     \"KSTest\",\n",
    "#     \"KSTestExtended\",\n",
    "#     \"ContinuousKLDivergence\",\n",
    "#     \"DiscreteKLDivergence\",\n",
    "# ]\n",
    "\n",
    "distributional_metrics = [\n",
    "    \"KSTest\",\n",
    "#     \"ContinuousKLDivergence\",\n",
    "#     \"DiscreteKLDivergence\",\n",
    "]\n",
    "\n",
    "gower = False\n",
    "\n",
    "vae_metrics = distribution_metrics(\n",
    "    distributional_metrics=distributional_metrics,\n",
    "    data_supp=input_df,\n",
    "    synthetic_supp=synthetic_supp,\n",
    "    categorical_columns=original_categorical_columns\n",
    ")\n",
    "\n",
    "manual_noise_metrics = distribution_metrics(\n",
    "    distributional_metrics=distributional_metrics,\n",
    "    data_supp=input_df,\n",
    "    synthetic_supp=noisy_tmp_df,\n",
    "    categorical_columns=original_categorical_columns\n",
    ")"
   ]
  },
  {
   "cell_type": "code",
   "execution_count": 63,
   "id": "9494f90e",
   "metadata": {},
   "outputs": [
    {
     "data": {
      "text/plain": [
       "<function matplotlib.pyplot.show(close=None, block=None)>"
      ]
     },
     "execution_count": 63,
     "metadata": {},
     "output_type": "execute_result"
    },
    {
     "data": {
      "image/png": "[encoded data removed]",
      "text/plain": [
       "<Figure size 432x288 with 1 Axes>"
      ]
     },
     "metadata": {
      "needs_background": "light"
     },
     "output_type": "display_data"
    }
   ],
   "source": [
    "vae_ks_score=vae_metrics['KSTest_score'].to_list()\n",
    "manual_ks_score=manual_noise_metrics['KSTest_score'].to_list()\n",
    "\n",
    "x = [i for i in range(18)]\n",
    "x1 = [i+0.5 for i in range(18)]\n",
    "\n",
    "fig = plt.figure()\n",
    "ax = fig.add_subplot(111)\n",
    "ax.bar(x, vae_ks_score, width=0.4, color='blue', label='VAE output Y VS X')\n",
    "ax.bar(x1, manual_ks_score, width=0.4, color='orange', label='X+noise VS X')\n",
    "\n",
    "plt.legend()\n",
    "plt.ylabel('value')\n",
    "plt.ylim(0, 1.5)\n",
    "plt.xlabel( 'Different dimension of telemetry data' )\n",
    "plt.title('KSTest score')\n",
    "plt.show"
   ]
  },
  {
   "cell_type": "code",
   "execution_count": 68,
   "id": "94e9e2d2",
   "metadata": {},
   "outputs": [
    {
     "data": {
      "text/plain": [
       "<function matplotlib.pyplot.show(close=None, block=None)>"
      ]
     },
     "execution_count": 68,
     "metadata": {},
     "output_type": "execute_result"
    },
    {
     "data": {
      "image/png": "[encoded data removed]",
      "text/plain": [
       "<Figure size 432x288 with 1 Axes>"
      ]
     },
     "metadata": {
      "needs_background": "light"
     },
     "output_type": "display_data"
    }
   ],
   "source": [
    "vae_ks_pvalue=vae_metrics['KSTest_p_value'].to_list()\n",
    "manual_ks_pvalue=manual_noise_metrics['KSTest_p_value'].to_list()\n",
    "\n",
    "x = [i for i in range(18)]\n",
    "x1 = [i+0.5 for i in range(18)]\n",
    "\n",
    "fig = plt.figure()\n",
    "ax = fig.add_subplot(111)\n",
    "ax.bar(x, vae_ks_pvalue, width=0.4, color='blue', label='VAE output Y VS X')\n",
    "ax.bar(x1, manual_ks_pvalue, width=0.4, color='orange', label='X+noise VS X')\n",
    "\n",
    "plt.legend()\n",
    "plt.ylabel('value')\n",
    "# plt.ylim(0, 1e-30)\n",
    "plt.xlabel( 'Different dimension of telemetry data' )\n",
    "plt.title('KSTest p-value')\n",
    "plt.show"
   ]
  },
  {
   "cell_type": "markdown",
   "id": "b32d17fb",
   "metadata": {},
   "source": [
    "# Privacy Metric Evaluation\n",
    "\n",
    "Using SDV privacy metrics we can get an insight into how privacy is conserved when utilising dp-sgd methods. SDV's privacy metrics are limited in that they can only be used on similar data types. E.g. if we choose age to be the sensitive variably, we can build ML based models to predict a users age using the other columns. However we are forced to only use columns that are also continuous variables."
   ]
  },
  {
   "cell_type": "code",
   "execution_count": null,
   "id": "8a7b2315",
   "metadata": {},
   "outputs": [],
   "source": [
    "# Specify our private variable\n",
    "\n",
    "private_variable = \"input-data-rate\"\n",
    "\n",
    "privacy_metric = privacy_metrics(\n",
    "    private_variable=private_variable,\n",
    "    data_supp=tmp_df,\n",
    "    synthetic_supp=synthetic_supp,\n",
    "    categorical_columns=original_categorical_columns,\n",
    "    continuous_columns=original_continuous_columns,\n",
    "    saving_filepath=None,\n",
    "    pre_proc_method=pre_proc_method,\n",
    ")\n",
    "\n"
   ]
  },
  {
   "cell_type": "code",
   "execution_count": null,
   "id": "6e091acb",
   "metadata": {},
   "outputs": [],
   "source": [
    "privacy_metric"
   ]
  },
  {
   "cell_type": "code",
   "execution_count": null,
   "id": "2b4792c4",
   "metadata": {},
   "outputs": [],
   "source": []
  }
 ],
 "metadata": {
  "kernelspec": {
   "display_name": "Python 3",
   "language": "python",
   "name": "python3"
  },
  "language_info": {
   "codemirror_mode": {
    "name": "ipython",
    "version": 3
   },
   "file_extension": ".py",
   "mimetype": "text/x-python",
   "name": "python",
   "nbconvert_exporter": "python",
   "pygments_lexer": "ipython3",
   "version": "3.8.16"
  }
 },
 "nbformat": 4,
 "nbformat_minor": 5
}
