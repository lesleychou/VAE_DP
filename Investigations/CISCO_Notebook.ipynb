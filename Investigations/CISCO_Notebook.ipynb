{
 "cells": [
  {
   "cell_type": "markdown",
   "id": "9eca4994",
   "metadata": {},
   "source": [
    "\n",
    "# CISCO data with VAE\n",
    "\n",
    "This notebook runs VAE model on the open access CISCO dataset."
   ]
  },
  {
   "cell_type": "code",
   "execution_count": 1,
   "id": "82b6b0f7",
   "metadata": {
    "pycharm": {
     "name": "#%% -------- Import Libraries -------- #\n"
    }
   },
   "outputs": [],
   "source": [
    "# Standard imports\n",
    "import numpy as np\n",
    "import pandas as pd\n",
    "import torch\n",
    "import math\n",
    "\n",
    "# VAE is in other folder as well as opacus adapted library\n",
    "import sys\n",
    "\n",
    "sys.path.append(\"../\")\n",
    "\n",
    "# Opacus support for differential privacy\n",
    "from opacus.utils.uniform_sampler import UniformWithReplacementSampler\n",
    "\n",
    "# For the SUPPORT dataset\n",
    "from pycox.datasets import support\n",
    "\n",
    "# For VAE dataset formatting\n",
    "from torch.utils.data import TensorDataset, DataLoader\n",
    "\n",
    "# VAE functions\n",
    "from VAE import Decoder, Encoder, VAE\n",
    "\n",
    "# Utility file contains all functions required to run notebook\n",
    "from utils import (\n",
    "    set_seed,\n",
    "    mimic_pre_proc,\n",
    "    plot_elbo,\n",
    "    plot_likelihood_breakdown,\n",
    "    plot_variable_distributions,\n",
    "    reverse_transformers,\n",
    ")\n",
    "from metrics import distribution_metrics, privacy_metrics\n",
    "\n",
    "import warnings\n",
    "warnings.filterwarnings(\"ignore\")  \n",
    "# We suppress warnings to avoid SDMETRICS throwing unique synthetic data warnings (i.e.\n",
    "# data in synthetic set is not in the real data set) as well as SKLEARN throwing convergence warnings (pre-processing uses\n",
    "# GMM from sklearn and this throws non convergence warnings)\n"
   ]
  },
  {
   "cell_type": "markdown",
   "id": "38c7f103",
   "metadata": {},
   "source": [
    "## Data Loading & Column Definitions\n",
    "\n",
    "First we load in the SUPPORT dataset from pycox datasets. Then we define the continuous and categorical columns in that dataset"
   ]
  },
  {
   "cell_type": "code",
   "execution_count": 2,
   "id": "c9ad14a0",
   "metadata": {},
   "outputs": [],
   "source": [
    "# load data to pandas dataframe\n",
    "df = pd.read_csv(\"data/baseline_no_anomaly_500Gbps.csv\")\n",
    "# Check the type for each column/feature\n",
    "# df.dtypes"
   ]
  },
  {
   "cell_type": "code",
   "execution_count": 3,
   "id": "5dcc7725",
   "metadata": {},
   "outputs": [
    {
     "name": "stdout",
     "output_type": "stream",
     "text": [
      "Unique producers: ['leaf4' 'spine1' 'leaf5' 'leaf6' 'dr01' 'leaf3' 'leaf1' 'spine2' 'leaf7'\n",
      " 'dr02' 'spine4' 'leaf8' 'leaf2' 'spine3' 'dr03']\n",
      "Unique names: ['Cisco-IOS-XR-fib-common-oper:fib-statistics/nodes/node/drops'\n",
      " 'Cisco-IOS-XR-infra-statsd-oper:infra-statistics/interfaces/interface/latest/data-rate'\n",
      " 'Cisco-IOS-XR-infra-statsd-oper:infra-statistics/interfaces/interface/latest/generic-counters'\n",
      " 'Cisco-IOS-XR-ip-rib-ipv4-oper:rib/vrfs/vrf/afs/af/safs/saf/ip-rib-route-table-names/ip-rib-route-table-name/protocol/bgp/as/information'\n",
      " 'Cisco-IOS-XR-ipv4-bgp-oper:bgp/instances/instance/instance-active/default-vrf/process-info'\n",
      " 'Cisco-IOS-XR-nto-misc-oper:memory-summary/nodes/node/summary'\n",
      " 'Cisco-IOS-XR-wdsysmon-fd-oper:system-monitoring/cpu-utilization']\n"
     ]
    }
   ],
   "source": [
    "# Cisco data specific, to seperate the entire data based on producer & name groups\n",
    "print('Unique producers:', df['Producer'].unique())\n",
    "print('Unique names:', df['name'].unique())"
   ]
  },
  {
   "cell_type": "code",
   "execution_count": 4,
   "id": "f938f2ac",
   "metadata": {},
   "outputs": [
    {
     "data": {
      "text/html": [
       "<div>\n",
       "<style scoped>\n",
       "    .dataframe tbody tr th:only-of-type {\n",
       "        vertical-align: middle;\n",
       "    }\n",
       "\n",
       "    .dataframe tbody tr th {\n",
       "        vertical-align: top;\n",
       "    }\n",
       "\n",
       "    .dataframe thead th {\n",
       "        text-align: right;\n",
       "    }\n",
       "</style>\n",
       "<table border=\"1\" class=\"dataframe\">\n",
       "  <thead>\n",
       "    <tr style=\"text-align: right;\">\n",
       "      <th></th>\n",
       "      <th>input-data-rate</th>\n",
       "      <th>input-load</th>\n",
       "      <th>input-packet-rate</th>\n",
       "      <th>load-interval</th>\n",
       "      <th>output-data-rate</th>\n",
       "      <th>output-load</th>\n",
       "      <th>output-packet-rate</th>\n",
       "      <th>peak-input-data-rate</th>\n",
       "      <th>peak-input-packet-rate</th>\n",
       "      <th>peak-output-data-rate</th>\n",
       "      <th>peak-output-packet-rate</th>\n",
       "      <th>reliability</th>\n",
       "    </tr>\n",
       "  </thead>\n",
       "  <tbody>\n",
       "    <tr>\n",
       "      <th>15739</th>\n",
       "      <td>2018880.0</td>\n",
       "      <td>5.0</td>\n",
       "      <td>124974.0</td>\n",
       "      <td>0.0</td>\n",
       "      <td>3075568.0</td>\n",
       "      <td>7.0</td>\n",
       "      <td>329097.0</td>\n",
       "      <td>0.0</td>\n",
       "      <td>0.0</td>\n",
       "      <td>0.0</td>\n",
       "      <td>0.0</td>\n",
       "      <td>255.0</td>\n",
       "    </tr>\n",
       "    <tr>\n",
       "      <th>15740</th>\n",
       "      <td>3060451.0</td>\n",
       "      <td>7.0</td>\n",
       "      <td>193464.0</td>\n",
       "      <td>0.0</td>\n",
       "      <td>3041142.0</td>\n",
       "      <td>7.0</td>\n",
       "      <td>261292.0</td>\n",
       "      <td>0.0</td>\n",
       "      <td>0.0</td>\n",
       "      <td>0.0</td>\n",
       "      <td>0.0</td>\n",
       "      <td>255.0</td>\n",
       "    </tr>\n",
       "    <tr>\n",
       "      <th>15741</th>\n",
       "      <td>1824393.0</td>\n",
       "      <td>4.0</td>\n",
       "      <td>177426.0</td>\n",
       "      <td>0.0</td>\n",
       "      <td>2989099.0</td>\n",
       "      <td>7.0</td>\n",
       "      <td>237856.0</td>\n",
       "      <td>0.0</td>\n",
       "      <td>0.0</td>\n",
       "      <td>0.0</td>\n",
       "      <td>0.0</td>\n",
       "      <td>255.0</td>\n",
       "    </tr>\n",
       "    <tr>\n",
       "      <th>15742</th>\n",
       "      <td>2239501.0</td>\n",
       "      <td>5.0</td>\n",
       "      <td>132391.0</td>\n",
       "      <td>0.0</td>\n",
       "      <td>4233590.0</td>\n",
       "      <td>10.0</td>\n",
       "      <td>372600.0</td>\n",
       "      <td>0.0</td>\n",
       "      <td>0.0</td>\n",
       "      <td>0.0</td>\n",
       "      <td>0.0</td>\n",
       "      <td>255.0</td>\n",
       "    </tr>\n",
       "    <tr>\n",
       "      <th>15743</th>\n",
       "      <td>3018871.0</td>\n",
       "      <td>7.0</td>\n",
       "      <td>158834.0</td>\n",
       "      <td>0.0</td>\n",
       "      <td>3501113.0</td>\n",
       "      <td>8.0</td>\n",
       "      <td>302182.0</td>\n",
       "      <td>0.0</td>\n",
       "      <td>0.0</td>\n",
       "      <td>0.0</td>\n",
       "      <td>0.0</td>\n",
       "      <td>255.0</td>\n",
       "    </tr>\n",
       "    <tr>\n",
       "      <th>...</th>\n",
       "      <td>...</td>\n",
       "      <td>...</td>\n",
       "      <td>...</td>\n",
       "      <td>...</td>\n",
       "      <td>...</td>\n",
       "      <td>...</td>\n",
       "      <td>...</td>\n",
       "      <td>...</td>\n",
       "      <td>...</td>\n",
       "      <td>...</td>\n",
       "      <td>...</td>\n",
       "      <td>...</td>\n",
       "    </tr>\n",
       "    <tr>\n",
       "      <th>469218</th>\n",
       "      <td>0.0</td>\n",
       "      <td>0.0</td>\n",
       "      <td>0.0</td>\n",
       "      <td>0.0</td>\n",
       "      <td>0.0</td>\n",
       "      <td>0.0</td>\n",
       "      <td>0.0</td>\n",
       "      <td>0.0</td>\n",
       "      <td>0.0</td>\n",
       "      <td>0.0</td>\n",
       "      <td>0.0</td>\n",
       "      <td>255.0</td>\n",
       "    </tr>\n",
       "    <tr>\n",
       "      <th>469219</th>\n",
       "      <td>0.0</td>\n",
       "      <td>0.0</td>\n",
       "      <td>0.0</td>\n",
       "      <td>0.0</td>\n",
       "      <td>0.0</td>\n",
       "      <td>0.0</td>\n",
       "      <td>0.0</td>\n",
       "      <td>0.0</td>\n",
       "      <td>0.0</td>\n",
       "      <td>0.0</td>\n",
       "      <td>0.0</td>\n",
       "      <td>255.0</td>\n",
       "    </tr>\n",
       "    <tr>\n",
       "      <th>469220</th>\n",
       "      <td>0.0</td>\n",
       "      <td>0.0</td>\n",
       "      <td>0.0</td>\n",
       "      <td>0.0</td>\n",
       "      <td>0.0</td>\n",
       "      <td>0.0</td>\n",
       "      <td>0.0</td>\n",
       "      <td>0.0</td>\n",
       "      <td>0.0</td>\n",
       "      <td>0.0</td>\n",
       "      <td>0.0</td>\n",
       "      <td>255.0</td>\n",
       "    </tr>\n",
       "    <tr>\n",
       "      <th>469221</th>\n",
       "      <td>14164136.0</td>\n",
       "      <td>36.0</td>\n",
       "      <td>1002474.0</td>\n",
       "      <td>0.0</td>\n",
       "      <td>13148083.0</td>\n",
       "      <td>33.0</td>\n",
       "      <td>1093880.0</td>\n",
       "      <td>0.0</td>\n",
       "      <td>0.0</td>\n",
       "      <td>0.0</td>\n",
       "      <td>0.0</td>\n",
       "      <td>255.0</td>\n",
       "    </tr>\n",
       "    <tr>\n",
       "      <th>469222</th>\n",
       "      <td>13998724.0</td>\n",
       "      <td>35.0</td>\n",
       "      <td>998433.0</td>\n",
       "      <td>0.0</td>\n",
       "      <td>14070719.0</td>\n",
       "      <td>35.0</td>\n",
       "      <td>1290912.0</td>\n",
       "      <td>0.0</td>\n",
       "      <td>0.0</td>\n",
       "      <td>0.0</td>\n",
       "      <td>0.0</td>\n",
       "      <td>255.0</td>\n",
       "    </tr>\n",
       "  </tbody>\n",
       "</table>\n",
       "<p>27228 rows × 12 columns</p>\n",
       "</div>"
      ],
      "text/plain": [
       "        input-data-rate  input-load  input-packet-rate  load-interval  \\\n",
       "15739         2018880.0         5.0           124974.0            0.0   \n",
       "15740         3060451.0         7.0           193464.0            0.0   \n",
       "15741         1824393.0         4.0           177426.0            0.0   \n",
       "15742         2239501.0         5.0           132391.0            0.0   \n",
       "15743         3018871.0         7.0           158834.0            0.0   \n",
       "...                 ...         ...                ...            ...   \n",
       "469218              0.0         0.0                0.0            0.0   \n",
       "469219              0.0         0.0                0.0            0.0   \n",
       "469220              0.0         0.0                0.0            0.0   \n",
       "469221       14164136.0        36.0          1002474.0            0.0   \n",
       "469222       13998724.0        35.0           998433.0            0.0   \n",
       "\n",
       "        output-data-rate  output-load  output-packet-rate  \\\n",
       "15739          3075568.0          7.0            329097.0   \n",
       "15740          3041142.0          7.0            261292.0   \n",
       "15741          2989099.0          7.0            237856.0   \n",
       "15742          4233590.0         10.0            372600.0   \n",
       "15743          3501113.0          8.0            302182.0   \n",
       "...                  ...          ...                 ...   \n",
       "469218               0.0          0.0                 0.0   \n",
       "469219               0.0          0.0                 0.0   \n",
       "469220               0.0          0.0                 0.0   \n",
       "469221        13148083.0         33.0           1093880.0   \n",
       "469222        14070719.0         35.0           1290912.0   \n",
       "\n",
       "        peak-input-data-rate  peak-input-packet-rate  peak-output-data-rate  \\\n",
       "15739                    0.0                     0.0                    0.0   \n",
       "15740                    0.0                     0.0                    0.0   \n",
       "15741                    0.0                     0.0                    0.0   \n",
       "15742                    0.0                     0.0                    0.0   \n",
       "15743                    0.0                     0.0                    0.0   \n",
       "...                      ...                     ...                    ...   \n",
       "469218                   0.0                     0.0                    0.0   \n",
       "469219                   0.0                     0.0                    0.0   \n",
       "469220                   0.0                     0.0                    0.0   \n",
       "469221                   0.0                     0.0                    0.0   \n",
       "469222                   0.0                     0.0                    0.0   \n",
       "\n",
       "        peak-output-packet-rate  reliability  \n",
       "15739                       0.0        255.0  \n",
       "15740                       0.0        255.0  \n",
       "15741                       0.0        255.0  \n",
       "15742                       0.0        255.0  \n",
       "15743                       0.0        255.0  \n",
       "...                         ...          ...  \n",
       "469218                      0.0        255.0  \n",
       "469219                      0.0        255.0  \n",
       "469220                      0.0        255.0  \n",
       "469221                      0.0        255.0  \n",
       "469222                      0.0        255.0  \n",
       "\n",
       "[27228 rows x 12 columns]"
      ]
     },
     "execution_count": 4,
     "metadata": {},
     "output_type": "execute_result"
    }
   ],
   "source": [
    "# Define one sub-datset, that name==data-rate, Producer==leaf4\n",
    "tmp_df = df[(df['name']=='Cisco-IOS-XR-infra-statsd-oper:infra-statistics/interfaces/interface/latest/data-rate') & (df['Producer']=='leaf5')]\n",
    "# Exclude up the features that we do not need to learn\n",
    "tmp_df = tmp_df.dropna(axis=1, how='all')\n",
    "tmp_df = tmp_df.select_dtypes(exclude=['object'])\n",
    "tmp_df = tmp_df.drop(['time'], axis=1)\n",
    "input_df = tmp_df.drop(['bandwidth'], axis=1)\n",
    "# Model input\n",
    "input_df"
   ]
  },
  {
   "cell_type": "code",
   "execution_count": 5,
   "id": "76c602c0",
   "metadata": {},
   "outputs": [
    {
     "data": {
      "text/plain": [
       "['input-load',\n",
       " 'load-interval',\n",
       " 'output-load',\n",
       " 'peak-input-data-rate',\n",
       " 'peak-input-packet-rate',\n",
       " 'peak-output-data-rate',\n",
       " 'peak-output-packet-rate',\n",
       " 'reliability']"
      ]
     },
     "execution_count": 5,
     "metadata": {},
     "output_type": "execute_result"
    }
   ],
   "source": [
    "# Find all column/features with categorical value\n",
    "original_categorical_columns=[]\n",
    "categorical_len_count=0\n",
    "for col in input_df:\n",
    "    if len(input_df[col].unique()) <= 100:\n",
    "        original_categorical_columns.append(col)\n",
    "        categorical_len_count += len(input_df[col].unique())\n",
    "original_categorical_columns"
   ]
  },
  {
   "cell_type": "code",
   "execution_count": 6,
   "id": "35ae3f28",
   "metadata": {},
   "outputs": [
    {
     "data": {
      "text/plain": [
       "['output-data-rate',\n",
       " 'input-packet-rate',\n",
       " 'output-packet-rate',\n",
       " 'input-data-rate']"
      ]
     },
     "execution_count": 6,
     "metadata": {},
     "output_type": "execute_result"
    }
   ],
   "source": [
    "# The rest column/features are continuous value\n",
    "original_continuous_columns = list(set(input_df.columns.values.tolist()) - set(original_categorical_columns))\n",
    "original_continuous_columns"
   ]
  },
  {
   "cell_type": "markdown",
   "id": "0baa6925",
   "metadata": {},
   "source": [
    "## Create noise-added data for training \n",
    "Manually add noise for model training."
   ]
  },
  {
   "cell_type": "code",
   "execution_count": 61,
   "id": "930a0500",
   "metadata": {},
   "outputs": [],
   "source": [
    "# Create noise-added data for continous features and categorical features\n",
    "df_continuous_columns = list(original_continuous_columns)\n",
    "continuous_df = input_df[df_continuous_columns]\n",
    "\n",
    "df_categorical_columns = list(original_categorical_columns)\n",
    "discrete_df = input_df[df_categorical_columns]\n",
    "\n",
    "continuous_data = continuous_df.to_numpy()\n",
    "discrete_data = discrete_df.to_numpy()\n",
    "\n",
    "# Define the original data tensor\n",
    "continuous_data = torch.tensor(continuous_data)\n",
    "discrete_data = torch.tensor(discrete_data)\n",
    "\n",
    "\n",
    "# Add Gaussian noise to continous features\n",
    "continuous_noisy_data = continuous_data + torch.tensor(np.random.normal(loc=0, scale=0.1, size=continuous_data.shape))\n",
    "\n",
    "# # Add int noise to categorical features\n",
    "discrete_noisy_data = discrete_data + torch.tensor(np.random.randint(low=0, high=1.0, size=discrete_data.shape))"
   ]
  },
  {
   "cell_type": "code",
   "execution_count": 35,
   "id": "bf355b87",
   "metadata": {},
   "outputs": [
    {
     "data": {
      "text/html": [
       "<div>\n",
       "<style scoped>\n",
       "    .dataframe tbody tr th:only-of-type {\n",
       "        vertical-align: middle;\n",
       "    }\n",
       "\n",
       "    .dataframe tbody tr th {\n",
       "        vertical-align: top;\n",
       "    }\n",
       "\n",
       "    .dataframe thead th {\n",
       "        text-align: right;\n",
       "    }\n",
       "</style>\n",
       "<table border=\"1\" class=\"dataframe\">\n",
       "  <thead>\n",
       "    <tr style=\"text-align: right;\">\n",
       "      <th></th>\n",
       "      <th>output-data-rate</th>\n",
       "      <th>input-packet-rate</th>\n",
       "      <th>output-packet-rate</th>\n",
       "      <th>input-data-rate</th>\n",
       "    </tr>\n",
       "  </thead>\n",
       "  <tbody>\n",
       "    <tr>\n",
       "      <th>15739</th>\n",
       "      <td>3.1e+06</td>\n",
       "      <td>1.2e+05</td>\n",
       "      <td>3.3e+05</td>\n",
       "      <td>2.0e+06</td>\n",
       "    </tr>\n",
       "    <tr>\n",
       "      <th>15740</th>\n",
       "      <td>3.0e+06</td>\n",
       "      <td>1.9e+05</td>\n",
       "      <td>2.6e+05</td>\n",
       "      <td>3.1e+06</td>\n",
       "    </tr>\n",
       "    <tr>\n",
       "      <th>15741</th>\n",
       "      <td>3.0e+06</td>\n",
       "      <td>1.8e+05</td>\n",
       "      <td>2.4e+05</td>\n",
       "      <td>1.8e+06</td>\n",
       "    </tr>\n",
       "    <tr>\n",
       "      <th>15742</th>\n",
       "      <td>4.2e+06</td>\n",
       "      <td>1.3e+05</td>\n",
       "      <td>3.7e+05</td>\n",
       "      <td>2.2e+06</td>\n",
       "    </tr>\n",
       "    <tr>\n",
       "      <th>15743</th>\n",
       "      <td>3.5e+06</td>\n",
       "      <td>1.6e+05</td>\n",
       "      <td>3.0e+05</td>\n",
       "      <td>3.0e+06</td>\n",
       "    </tr>\n",
       "    <tr>\n",
       "      <th>...</th>\n",
       "      <td>...</td>\n",
       "      <td>...</td>\n",
       "      <td>...</td>\n",
       "      <td>...</td>\n",
       "    </tr>\n",
       "    <tr>\n",
       "      <th>469218</th>\n",
       "      <td>0.0e+00</td>\n",
       "      <td>0.0e+00</td>\n",
       "      <td>0.0e+00</td>\n",
       "      <td>0.0e+00</td>\n",
       "    </tr>\n",
       "    <tr>\n",
       "      <th>469219</th>\n",
       "      <td>0.0e+00</td>\n",
       "      <td>0.0e+00</td>\n",
       "      <td>0.0e+00</td>\n",
       "      <td>0.0e+00</td>\n",
       "    </tr>\n",
       "    <tr>\n",
       "      <th>469220</th>\n",
       "      <td>0.0e+00</td>\n",
       "      <td>0.0e+00</td>\n",
       "      <td>0.0e+00</td>\n",
       "      <td>0.0e+00</td>\n",
       "    </tr>\n",
       "    <tr>\n",
       "      <th>469221</th>\n",
       "      <td>1.3e+07</td>\n",
       "      <td>1.0e+06</td>\n",
       "      <td>1.1e+06</td>\n",
       "      <td>1.4e+07</td>\n",
       "    </tr>\n",
       "    <tr>\n",
       "      <th>469222</th>\n",
       "      <td>1.4e+07</td>\n",
       "      <td>1.0e+06</td>\n",
       "      <td>1.3e+06</td>\n",
       "      <td>1.4e+07</td>\n",
       "    </tr>\n",
       "  </tbody>\n",
       "</table>\n",
       "<p>27228 rows × 4 columns</p>\n",
       "</div>"
      ],
      "text/plain": [
       "        output-data-rate  input-packet-rate  output-packet-rate  \\\n",
       "15739            3.1e+06            1.2e+05             3.3e+05   \n",
       "15740            3.0e+06            1.9e+05             2.6e+05   \n",
       "15741            3.0e+06            1.8e+05             2.4e+05   \n",
       "15742            4.2e+06            1.3e+05             3.7e+05   \n",
       "15743            3.5e+06            1.6e+05             3.0e+05   \n",
       "...                  ...                ...                 ...   \n",
       "469218           0.0e+00            0.0e+00             0.0e+00   \n",
       "469219           0.0e+00            0.0e+00             0.0e+00   \n",
       "469220           0.0e+00            0.0e+00             0.0e+00   \n",
       "469221           1.3e+07            1.0e+06             1.1e+06   \n",
       "469222           1.4e+07            1.0e+06             1.3e+06   \n",
       "\n",
       "        input-data-rate  \n",
       "15739           2.0e+06  \n",
       "15740           3.1e+06  \n",
       "15741           1.8e+06  \n",
       "15742           2.2e+06  \n",
       "15743           3.0e+06  \n",
       "...                 ...  \n",
       "469218          0.0e+00  \n",
       "469219          0.0e+00  \n",
       "469220          0.0e+00  \n",
       "469221          1.4e+07  \n",
       "469222          1.4e+07  \n",
       "\n",
       "[27228 rows x 4 columns]"
      ]
     },
     "execution_count": 35,
     "metadata": {},
     "output_type": "execute_result"
    }
   ],
   "source": [
    "continuous_df"
   ]
  },
  {
   "cell_type": "code",
   "execution_count": 36,
   "id": "3933821e",
   "metadata": {},
   "outputs": [
    {
     "data": {
      "text/html": [
       "<div>\n",
       "<style scoped>\n",
       "    .dataframe tbody tr th:only-of-type {\n",
       "        vertical-align: middle;\n",
       "    }\n",
       "\n",
       "    .dataframe tbody tr th {\n",
       "        vertical-align: top;\n",
       "    }\n",
       "\n",
       "    .dataframe thead th {\n",
       "        text-align: right;\n",
       "    }\n",
       "</style>\n",
       "<table border=\"1\" class=\"dataframe\">\n",
       "  <thead>\n",
       "    <tr style=\"text-align: right;\">\n",
       "      <th></th>\n",
       "      <th>output-data-rate</th>\n",
       "      <th>input-packet-rate</th>\n",
       "      <th>output-packet-rate</th>\n",
       "      <th>input-data-rate</th>\n",
       "    </tr>\n",
       "  </thead>\n",
       "  <tbody>\n",
       "    <tr>\n",
       "      <th>0</th>\n",
       "      <td>3.1e+06</td>\n",
       "      <td>1.2e+05</td>\n",
       "      <td>3.3e+05</td>\n",
       "      <td>2.0e+06</td>\n",
       "    </tr>\n",
       "    <tr>\n",
       "      <th>1</th>\n",
       "      <td>3.0e+06</td>\n",
       "      <td>1.9e+05</td>\n",
       "      <td>2.6e+05</td>\n",
       "      <td>3.1e+06</td>\n",
       "    </tr>\n",
       "    <tr>\n",
       "      <th>2</th>\n",
       "      <td>3.0e+06</td>\n",
       "      <td>1.8e+05</td>\n",
       "      <td>2.4e+05</td>\n",
       "      <td>1.8e+06</td>\n",
       "    </tr>\n",
       "    <tr>\n",
       "      <th>3</th>\n",
       "      <td>4.2e+06</td>\n",
       "      <td>1.3e+05</td>\n",
       "      <td>3.7e+05</td>\n",
       "      <td>2.2e+06</td>\n",
       "    </tr>\n",
       "    <tr>\n",
       "      <th>4</th>\n",
       "      <td>3.5e+06</td>\n",
       "      <td>1.6e+05</td>\n",
       "      <td>3.0e+05</td>\n",
       "      <td>3.0e+06</td>\n",
       "    </tr>\n",
       "    <tr>\n",
       "      <th>...</th>\n",
       "      <td>...</td>\n",
       "      <td>...</td>\n",
       "      <td>...</td>\n",
       "      <td>...</td>\n",
       "    </tr>\n",
       "    <tr>\n",
       "      <th>27223</th>\n",
       "      <td>1.1e-01</td>\n",
       "      <td>5.6e-02</td>\n",
       "      <td>1.9e-01</td>\n",
       "      <td>3.3e-02</td>\n",
       "    </tr>\n",
       "    <tr>\n",
       "      <th>27224</th>\n",
       "      <td>-1.5e-03</td>\n",
       "      <td>-1.5e-01</td>\n",
       "      <td>3.0e-02</td>\n",
       "      <td>3.2e-02</td>\n",
       "    </tr>\n",
       "    <tr>\n",
       "      <th>27225</th>\n",
       "      <td>-1.1e-01</td>\n",
       "      <td>9.7e-02</td>\n",
       "      <td>2.2e-01</td>\n",
       "      <td>-9.7e-03</td>\n",
       "    </tr>\n",
       "    <tr>\n",
       "      <th>27226</th>\n",
       "      <td>1.3e+07</td>\n",
       "      <td>1.0e+06</td>\n",
       "      <td>1.1e+06</td>\n",
       "      <td>1.4e+07</td>\n",
       "    </tr>\n",
       "    <tr>\n",
       "      <th>27227</th>\n",
       "      <td>1.4e+07</td>\n",
       "      <td>1.0e+06</td>\n",
       "      <td>1.3e+06</td>\n",
       "      <td>1.4e+07</td>\n",
       "    </tr>\n",
       "  </tbody>\n",
       "</table>\n",
       "<p>27228 rows × 4 columns</p>\n",
       "</div>"
      ],
      "text/plain": [
       "       output-data-rate  input-packet-rate  output-packet-rate  \\\n",
       "0               3.1e+06            1.2e+05             3.3e+05   \n",
       "1               3.0e+06            1.9e+05             2.6e+05   \n",
       "2               3.0e+06            1.8e+05             2.4e+05   \n",
       "3               4.2e+06            1.3e+05             3.7e+05   \n",
       "4               3.5e+06            1.6e+05             3.0e+05   \n",
       "...                 ...                ...                 ...   \n",
       "27223           1.1e-01            5.6e-02             1.9e-01   \n",
       "27224          -1.5e-03           -1.5e-01             3.0e-02   \n",
       "27225          -1.1e-01            9.7e-02             2.2e-01   \n",
       "27226           1.3e+07            1.0e+06             1.1e+06   \n",
       "27227           1.4e+07            1.0e+06             1.3e+06   \n",
       "\n",
       "       input-data-rate  \n",
       "0              2.0e+06  \n",
       "1              3.1e+06  \n",
       "2              1.8e+06  \n",
       "3              2.2e+06  \n",
       "4              3.0e+06  \n",
       "...                ...  \n",
       "27223          3.3e-02  \n",
       "27224          3.2e-02  \n",
       "27225         -9.7e-03  \n",
       "27226          1.4e+07  \n",
       "27227          1.4e+07  \n",
       "\n",
       "[27228 rows x 4 columns]"
      ]
     },
     "execution_count": 36,
     "metadata": {},
     "output_type": "execute_result"
    }
   ],
   "source": [
    "discrete_noisy_df = pd.DataFrame(discrete_noisy_data, columns=df_categorical_columns)\n",
    "continuous_noisy_df = pd.DataFrame(continuous_noisy_data, columns=df_continuous_columns)\n",
    "\n",
    "continuous_noisy_df"
   ]
  },
  {
   "cell_type": "code",
   "execution_count": 37,
   "id": "2798a8d7",
   "metadata": {},
   "outputs": [],
   "source": [
    "noisy_tmp_df = pd.concat([discrete_noisy_df, continuous_noisy_df], axis=1)"
   ]
  },
  {
   "cell_type": "markdown",
   "id": "a39c4d92",
   "metadata": {},
   "source": [
    "## Data Pre-Processing\n",
    "\n",
    "Data can be pre-processed in 2 ways. Either we use <b>\"standard\"</b> option which performs a standard scaler on continuous variables - This has known limitations as:\n",
    "\n",
    "- Data in tables is usually non-gaussian and SynthVAE implements a gaussian loss, so this will perform worse unless the data is KNOWN to follow a gaussian distribution already.\n",
    "\n",
    "Or we use the second option of <b>\"GMM\"</b>. This performs a variational gaussian mixture model to scale the data & transform it to a gaussian distribution. We use a maximum number of clusters of 10 but the variational method will select the best number of clusters for that continuous variable. This also has known limitations:\n",
    "\n",
    "- 10 Clusters is arbitrary and may not be enough for certain variables.\n",
    "- We are fitting a model to transform the data and hence we are approximating before model is trained. This will lose fidelity as the distribution will not be transformed perfectly.\n",
    "\n",
    "SUPPORT is a limited dataset as it has no missingness (which our model currently does NOT handle) and it has no datetime columns or other data types. Be wary drawing any conclusions from this set due to these constraints as well as the dataset size. Testing/training new models with this set could be useful but conclusive results should be tested on other sets."
   ]
  },
  {
   "cell_type": "code",
   "execution_count": 38,
   "id": "062fde6e",
   "metadata": {
    "pycharm": {
     "name": "#%% -------- Data Pre-Processing -------- #\n"
    }
   },
   "outputs": [
    {
     "name": "stdout",
     "output_type": "stream",
     "text": [
      "0 input-load ------index, column\n",
      "1 load-interval ------index, column\n",
      "2 output-load ------index, column\n",
      "3 peak-input-data-rate ------index, column\n",
      "4 peak-input-packet-rate ------index, column\n",
      "5 peak-output-data-rate ------index, column\n",
      "6 peak-output-packet-rate ------index, column\n",
      "7 reliability ------index, column\n",
      "8 output-data-rate.component ------index, column\n",
      "9 input-packet-rate.component ------index, column\n",
      "10 output-packet-rate.component ------index, column\n",
      "11 input-data-rate.component ------index, column\n"
     ]
    }
   ],
   "source": [
    "pre_proc_method = \"GMM\"\n",
    "\n",
    "(\n",
    "    input_transformed,\n",
    "    input_original,\n",
    "    reordered_dataframe_columns,\n",
    "    continuous_transformers,\n",
    "    categorical_transformers,\n",
    "    num_categories,\n",
    "    num_continuous,\n",
    ") = mimic_pre_proc(noisy_tmp_df,\n",
    "                   original_continuous_columns,\n",
    "                   original_categorical_columns,\n",
    "                   pre_proc_method=pre_proc_method)\n",
    "\n"
   ]
  },
  {
   "cell_type": "code",
   "execution_count": 39,
   "id": "88e5828e",
   "metadata": {},
   "outputs": [
    {
     "name": "stdout",
     "output_type": "stream",
     "text": [
      "Training data shape: (21782, 73)\n",
      "Testing data shape: (5446, 73)\n"
     ]
    }
   ],
   "source": [
    "from sklearn.model_selection import train_test_split\n",
    "\n",
    "# Splitting the noise-added transformed data into training and testing sets\n",
    "X_train, X_test = train_test_split(input_transformed, test_size=0.2, random_state=42)\n",
    "\n",
    "# Splitting the original df into training and testing sets for later evaluation\n",
    "original_X_train, original_X_test = train_test_split(input_df, test_size=0.2, random_state=42)\n",
    "\n",
    "\n",
    "# Printing the shapes of the resulting datasets\n",
    "print(\"Training data shape:\", X_train.shape)\n",
    "print(\"Testing data shape:\", X_test.shape)"
   ]
  },
  {
   "cell_type": "code",
   "execution_count": 40,
   "id": "984a8608",
   "metadata": {},
   "outputs": [
    {
     "data": {
      "text/plain": [
       "4"
      ]
     },
     "execution_count": 40,
     "metadata": {},
     "output_type": "execute_result"
    }
   ],
   "source": [
    "num_continuous"
   ]
  },
  {
   "cell_type": "code",
   "execution_count": 41,
   "id": "0eae5190",
   "metadata": {},
   "outputs": [
    {
     "data": {
      "text/plain": [
       "[14, 2, 12, 1, 1, 1, 1, 4, 8, 8, 8, 9]"
      ]
     },
     "execution_count": 41,
     "metadata": {},
     "output_type": "execute_result"
    }
   ],
   "source": [
    "num_categories"
   ]
  },
  {
   "cell_type": "markdown",
   "id": "e7c169e7",
   "metadata": {},
   "source": [
    "## Creation & Training of VAE\n",
    "\n",
    "We can adapt certain parameters of the model e.g. batch size, latent dimension size etc. This model implements early stopping and these values can be adapted.\n",
    "\n",
    "We can also activate differential privacy by implementing dp-sgd through the opacus library."
   ]
  },
  {
   "cell_type": "code",
   "execution_count": 42,
   "id": "50e027f9",
   "metadata": {
    "pycharm": {
     "name": "#%% -------- Create & Train VAE -------- #\n"
    }
   },
   "outputs": [
    {
     "name": "stdout",
     "output_type": "stream",
     "text": [
      "Encoder: gpu specified, cpu used\n",
      "Decoder: gpu specified, cpu used\n",
      "VAE(\n",
      "  (encoder): Encoder(\n",
      "    (net): Sequential(\n",
      "      (0): Linear(in_features=73, out_features=1024, bias=True)\n",
      "      (1): Tanh()\n",
      "      (2): Linear(in_features=1024, out_features=1024, bias=True)\n",
      "      (3): Tanh()\n",
      "      (4): Linear(in_features=1024, out_features=1024, bias=True)\n",
      "    )\n",
      "  )\n",
      "  (decoder): Decoder(\n",
      "    (net): Sequential(\n",
      "      (0): Linear(in_features=512, out_features=1024, bias=True)\n",
      "      (1): Tanh()\n",
      "      (2): Linear(in_features=1024, out_features=1024, bias=True)\n",
      "      (3): Tanh()\n",
      "      (4): Linear(in_features=1024, out_features=73, bias=True)\n",
      "    )\n",
      "  )\n",
      "  (noiser): Noiser(\n",
      "    (output_logsigma_fn): Linear(in_features=4, out_features=4, bias=True)\n",
      "  )\n",
      ")\n"
     ]
    },
    {
     "name": "stderr",
     "output_type": "stream",
     "text": [
      "100%|██████████| 217/217 [00:03<00:00, 55.73it/s]\n"
     ]
    },
    {
     "name": "stdout",
     "output_type": "stream",
     "text": [
      "\tEpoch:  0. Elbo:    78172.51. Reconstruction Loss:    75270.38. KL Divergence:     2902.13. Categorical Loss:    -2661.03. Numerical Loss:   -72609.35\n"
     ]
    },
    {
     "name": "stderr",
     "output_type": "stream",
     "text": [
      "100%|██████████| 217/217 [00:03<00:00, 57.11it/s]\n"
     ]
    },
    {
     "name": "stdout",
     "output_type": "stream",
     "text": [
      "\tEpoch:  1. Elbo:    56886.86. Reconstruction Loss:    56790.00. KL Divergence:       96.86. Categorical Loss:    -2558.27. Numerical Loss:   -54231.73\n"
     ]
    },
    {
     "name": "stderr",
     "output_type": "stream",
     "text": [
      "100%|██████████| 217/217 [00:03<00:00, 56.84it/s]\n"
     ]
    },
    {
     "name": "stdout",
     "output_type": "stream",
     "text": [
      "\tEpoch:  2. Elbo:    40371.47. Reconstruction Loss:    40300.71. KL Divergence:       70.76. Categorical Loss:    -2563.68. Numerical Loss:   -37737.03\n"
     ]
    },
    {
     "name": "stderr",
     "output_type": "stream",
     "text": [
      "100%|██████████| 217/217 [00:03<00:00, 56.75it/s]\n"
     ]
    },
    {
     "name": "stdout",
     "output_type": "stream",
     "text": [
      "\tEpoch:  3. Elbo:    24677.65. Reconstruction Loss:    24538.46. KL Divergence:      139.18. Categorical Loss:    -2564.91. Numerical Loss:   -21973.55\n"
     ]
    },
    {
     "name": "stderr",
     "output_type": "stream",
     "text": [
      "100%|██████████| 217/217 [00:03<00:00, 56.64it/s]\n"
     ]
    },
    {
     "name": "stdout",
     "output_type": "stream",
     "text": [
      "\tEpoch:  4. Elbo:    11614.80. Reconstruction Loss:    11390.25. KL Divergence:      224.55. Categorical Loss:    -2571.53. Numerical Loss:    -8818.72\n"
     ]
    },
    {
     "name": "stderr",
     "output_type": "stream",
     "text": [
      "100%|██████████| 217/217 [00:03<00:00, 56.79it/s]\n"
     ]
    },
    {
     "name": "stdout",
     "output_type": "stream",
     "text": [
      "\tEpoch:  5. Elbo:     1178.35. Reconstruction Loss:      834.49. KL Divergence:      343.86. Categorical Loss:    -2578.36. Numerical Loss:     1743.87\n"
     ]
    },
    {
     "name": "stderr",
     "output_type": "stream",
     "text": [
      "100%|██████████| 217/217 [00:03<00:00, 54.56it/s]\n"
     ]
    },
    {
     "name": "stdout",
     "output_type": "stream",
     "text": [
      "\tEpoch:  6. Elbo:    -6855.92. Reconstruction Loss:    -7412.90. KL Divergence:      556.98. Categorical Loss:    -2579.77. Numerical Loss:     9992.67\n"
     ]
    },
    {
     "name": "stderr",
     "output_type": "stream",
     "text": [
      "100%|██████████| 217/217 [00:03<00:00, 56.88it/s]\n"
     ]
    },
    {
     "name": "stdout",
     "output_type": "stream",
     "text": [
      "\tEpoch:  7. Elbo:   -11922.66. Reconstruction Loss:   -12830.47. KL Divergence:      907.81. Categorical Loss:    -2592.98. Numerical Loss:    15423.45\n"
     ]
    },
    {
     "name": "stderr",
     "output_type": "stream",
     "text": [
      "100%|██████████| 217/217 [00:03<00:00, 56.99it/s]\n"
     ]
    },
    {
     "name": "stdout",
     "output_type": "stream",
     "text": [
      "\tEpoch:  8. Elbo:   -15077.86. Reconstruction Loss:   -16408.96. KL Divergence:     1331.10. Categorical Loss:    -2596.41. Numerical Loss:    19005.37\n"
     ]
    },
    {
     "name": "stderr",
     "output_type": "stream",
     "text": [
      "100%|██████████| 217/217 [00:03<00:00, 57.07it/s]"
     ]
    },
    {
     "name": "stdout",
     "output_type": "stream",
     "text": [
      "\tEpoch:  9. Elbo:   -16563.23. Reconstruction Loss:   -18197.98. KL Divergence:     1634.75. Categorical Loss:    -2593.17. Numerical Loss:    20791.15\n"
     ]
    },
    {
     "name": "stderr",
     "output_type": "stream",
     "text": [
      "\n"
     ]
    }
   ],
   "source": [
    "\n",
    "# User defined hyperparams\n",
    "# General training\n",
    "batch_size = 100\n",
    "latent_dim = 512\n",
    "hidden_dim = 1024\n",
    "n_epochs = 10\n",
    "logging_freq = 1  # Number of epochs we should log the results to the user\n",
    "patience = 50  # How many epochs should we allow the model train to see if\n",
    "# improvement is made\n",
    "delta = 10  # The difference between elbo values that registers an improvement\n",
    "filepath = None  # Where to save the best model\n",
    "\n",
    "\n",
    "# Privacy params\n",
    "differential_privacy = False  # Do we want to implement differential privacy\n",
    "sample_rate = 0.1  # Sampling rate\n",
    "C = 1e16  # Clipping threshold any gradients above this are clipped\n",
    "noise_scale = 0.2  # Noise multiplier - influences how much noise to add\n",
    "target_eps = 10  # Target epsilon for privacy accountant\n",
    "target_delta = 1e-5  # Target delta for privacy accountant\n",
    "\n",
    "# Prepare data for interaction with torch VAE\n",
    "Y = torch.Tensor(X_train)\n",
    "dataset = TensorDataset(Y)\n",
    "\n",
    "generator = None\n",
    "sample_rate = batch_size / len(dataset)\n",
    "data_loader = DataLoader(\n",
    "    dataset,\n",
    "    batch_sampler=UniformWithReplacementSampler(num_samples=len(dataset), \n",
    "                                                sample_rate=sample_rate, \n",
    "                                                generator=generator),\n",
    "    pin_memory=True,\n",
    "    generator=generator,\n",
    ")\n",
    "\n",
    "# Create VAE\n",
    "encoder = Encoder(X_train.shape[1], latent_dim, hidden_dim=hidden_dim)\n",
    "decoder = Decoder(latent_dim, num_continuous, hidden_dim=hidden_dim, num_categories=num_categories)\n",
    "\n",
    "vae = VAE(encoder, decoder)\n",
    "\n",
    "print(vae)\n",
    "\n",
    "if differential_privacy == False:\n",
    "    (\n",
    "        training_epochs,\n",
    "        log_elbo,\n",
    "        log_reconstruction,\n",
    "        log_divergence,\n",
    "        log_categorical,\n",
    "        log_numerical,\n",
    "    ) = vae.train(\n",
    "        data_loader, \n",
    "        n_epochs=n_epochs,\n",
    "        logging_freq=logging_freq,\n",
    "        patience=patience,\n",
    "        delta=delta,\n",
    "    )\n",
    "\n",
    "elif differential_privacy == True:\n",
    "    (\n",
    "        training_epochs,\n",
    "        log_elbo,\n",
    "        log_reconstruction,\n",
    "        log_divergence,\n",
    "        log_categorical,\n",
    "        log_numerical,\n",
    "    ) = vae.diff_priv_train(\n",
    "        data_loader,\n",
    "        n_epochs=n_epochs,\n",
    "        logging_freq=logging_freq,\n",
    "        patience=patience,\n",
    "        delta=delta,\n",
    "        C=C,\n",
    "        target_eps=target_eps,\n",
    "        target_delta=target_delta,\n",
    "        sample_rate=sample_rate,\n",
    "        noise_scale=noise_scale,\n",
    "    )\n",
    "    print(f\"(epsilon, delta): {vae.get_privacy_spent(target_delta)}\")\n"
   ]
  },
  {
   "cell_type": "markdown",
   "id": "fc7ccb88",
   "metadata": {},
   "source": [
    "## Synthetic Data Generation\n",
    "\n",
    "Here we create synthetic data ready for metric testing as well as visualisation of variable reconstruction. For this we simply generate from our generative model and then reverse transformations using the prior transformers."
   ]
  },
  {
   "cell_type": "code",
   "execution_count": 43,
   "id": "b9218b96",
   "metadata": {},
   "outputs": [],
   "source": [
    "# Generate synthetic data with X_train\n",
    "train_synthetic_sample = vae.generate(X_train.shape[0])\n",
    "\n",
    "if torch.cuda.is_available():\n",
    "    train_synthetic_sample = pd.DataFrame(\n",
    "        train_synthetic_sample.cpu().detach().numpy(), \n",
    "        columns=reordered_dataframe_columns\n",
    "    )\n",
    "else:\n",
    "    train_synthetic_sample = pd.DataFrame(\n",
    "        train_synthetic_sample.detach().numpy(), \n",
    "        columns=reordered_dataframe_columns\n",
    "    )\n",
    "# Reverse the transformations\n",
    "\n",
    "train_synthetic_supp = reverse_transformers(\n",
    "    synthetic_set=train_synthetic_sample,\n",
    "    data_supp_columns=input_df.columns,\n",
    "    cont_transformers=continuous_transformers,\n",
    "    cat_transformers=categorical_transformers,\n",
    "    pre_proc_method=pre_proc_method,\n",
    ")\n"
   ]
  },
  {
   "cell_type": "code",
   "execution_count": 44,
   "id": "28a74cef",
   "metadata": {},
   "outputs": [],
   "source": [
    "# Generate synthetic data with X_test\n",
    "test_synthetic_sample = vae.generate(X_test.shape[0])\n",
    "\n",
    "if torch.cuda.is_available():\n",
    "    test_synthetic_sample = pd.DataFrame(\n",
    "        test_synthetic_sample.cpu().detach().numpy(), \n",
    "        columns=reordered_dataframe_columns\n",
    "    )\n",
    "else:\n",
    "    test_synthetic_sample = pd.DataFrame(\n",
    "        test_synthetic_sample.detach().numpy(), \n",
    "        columns=reordered_dataframe_columns\n",
    "    )\n",
    "# Reverse the transformations\n",
    "\n",
    "test_synthetic_supp = reverse_transformers(\n",
    "    synthetic_set=test_synthetic_sample,\n",
    "    data_supp_columns=input_df.columns,\n",
    "    cont_transformers=continuous_transformers,\n",
    "    cat_transformers=categorical_transformers,\n",
    "    pre_proc_method=pre_proc_method,\n",
    ")\n"
   ]
  },
  {
   "cell_type": "markdown",
   "id": "9551f747",
   "metadata": {},
   "source": [
    "## Synthetic Variable Visualisation\n",
    "\n",
    "Here we want to visualise the synthetic variables generated and compare them to the original set"
   ]
  },
  {
   "cell_type": "code",
   "execution_count": 45,
   "id": "717713d2",
   "metadata": {
    "pycharm": {
     "name": "#%% -------- Plot Histograms For All The Variable Distributions -------- #\n"
    }
   },
   "outputs": [
    {
     "data": {
      "image/png": "[encoded data removed]",
      "text/plain": [
       "<Figure size 432x288 with 2 Axes>"
      ]
     },
     "metadata": {
      "needs_background": "light"
     },
     "output_type": "display_data"
    },
    {
     "data": {
      "image/png": "[encoded data removed]",
      "text/plain": [
       "<Figure size 432x288 with 2 Axes>"
      ]
     },
     "metadata": {
      "needs_background": "light"
     },
     "output_type": "display_data"
    },
    {
     "data": {
      "image/png": "[encoded data removed]",
      "text/plain": [
       "<Figure size 432x288 with 2 Axes>"
      ]
     },
     "metadata": {
      "needs_background": "light"
     },
     "output_type": "display_data"
    },
    {
     "data": {
      "image/png": "[encoded data removed]",
      "text/plain": [
       "<Figure size 432x288 with 2 Axes>"
      ]
     },
     "metadata": {
      "needs_background": "light"
     },
     "output_type": "display_data"
    },
    {
     "data": {
      "image/png": "[encoded data removed]",
      "text/plain": [
       "<Figure size 432x288 with 2 Axes>"
      ]
     },
     "metadata": {
      "needs_background": "light"
     },
     "output_type": "display_data"
    },
    {
     "data": {
      "image/png": "[encoded data removed]",
      "text/plain": [
       "<Figure size 432x288 with 2 Axes>"
      ]
     },
     "metadata": {
      "needs_background": "light"
     },
     "output_type": "display_data"
    },
    {
     "data": {
      "image/png": "[encoded data removed]",
      "text/plain": [
       "<Figure size 432x288 with 2 Axes>"
      ]
     },
     "metadata": {
      "needs_background": "light"
     },
     "output_type": "display_data"
    },
    {
     "data": {
      "image/png": "[encoded data removed]",
      "text/plain": [
       "<Figure size 432x288 with 2 Axes>"
      ]
     },
     "metadata": {
      "needs_background": "light"
     },
     "output_type": "display_data"
    },
    {
     "data": {
      "image/png": "[encoded data removed]",
      "text/plain": [
       "<Figure size 432x288 with 2 Axes>"
      ]
     },
     "metadata": {
      "needs_background": "light"
     },
     "output_type": "display_data"
    }
   ],
   "source": [
    "\n",
    "plot_variable_distributions(\n",
    "    categorical_columns=original_categorical_columns,\n",
    "    continuous_columns=original_continuous_columns,\n",
    "    data_supp=original_X_test,\n",
    "    synthetic_supp=test_synthetic_supp,\n",
    "    saving_filepath=\"figs/\",\n",
    "    pre_proc_method=pre_proc_method,\n",
    ")\n"
   ]
  },
  {
   "cell_type": "markdown",
   "id": "1547f84e",
   "metadata": {},
   "source": [
    "# Accuracy Metric Evaluation\n",
    "\n",
    "We use the SDV evaluation framework. Supply the metrics you wish to find in the distributional_metrics list from SDV guidance. Can start here: https://sdv.dev/SDV/user_guides/evaluation/single_table_metrics.html"
   ]
  },
  {
   "cell_type": "code",
   "execution_count": 55,
   "id": "b10e141e",
   "metadata": {},
   "outputs": [
    {
     "data": {
      "text/plain": [
       "input-data-rate            3.4163279e+06\n",
       "input-load                 8.4050679e+00\n",
       "input-packet-rate          2.2304281e+05\n",
       "load-interval              5.2056555e-01\n",
       "output-data-rate           3.4047365e+06\n",
       "output-load                8.3319868e+00\n",
       "output-packet-rate         2.9475370e+05\n",
       "peak-input-data-rate       0.0000000e+00\n",
       "peak-input-packet-rate     0.0000000e+00\n",
       "peak-output-data-rate      0.0000000e+00\n",
       "peak-output-packet-rate    0.0000000e+00\n",
       "reliability                2.5494638e+02\n",
       "dtype: float64"
      ]
     },
     "execution_count": 55,
     "metadata": {},
     "output_type": "execute_result"
    }
   ],
   "source": [
    "pd.set_option(\"display.precision\", 7)\n",
    "original_X_test.mean()"
   ]
  },
  {
   "cell_type": "code",
   "execution_count": 50,
   "id": "782228c1",
   "metadata": {},
   "outputs": [
    {
     "data": {
      "text/plain": [
       "input-data-rate            1.5577246e+07\n",
       "input-load                 3.9000000e+01\n",
       "input-packet-rate          1.0745365e+06\n",
       "load-interval              9.0000000e+00\n",
       "output-data-rate           1.4812489e+07\n",
       "output-load                3.7000000e+01\n",
       "output-packet-rate         1.2951920e+06\n",
       "peak-input-data-rate       0.0000000e+00\n",
       "peak-input-packet-rate     0.0000000e+00\n",
       "peak-output-data-rate      0.0000000e+00\n",
       "peak-output-packet-rate    0.0000000e+00\n",
       "reliability                2.5500000e+02\n",
       "Name: 0.99, dtype: float64"
      ]
     },
     "execution_count": 50,
     "metadata": {},
     "output_type": "execute_result"
    }
   ],
   "source": [
    "test_synthetic_supp.quantile(0.99)"
   ]
  },
  {
   "cell_type": "code",
   "execution_count": 51,
   "id": "abb4a630",
   "metadata": {},
   "outputs": [
    {
     "data": {
      "text/plain": [
       "input-data-rate            15504559.1\n",
       "input-load                       39.0\n",
       "input-packet-rate           1066056.8\n",
       "load-interval                     9.0\n",
       "output-data-rate           14793546.9\n",
       "output-load                      37.0\n",
       "output-packet-rate          1281788.2\n",
       "peak-input-data-rate              0.0\n",
       "peak-input-packet-rate            0.0\n",
       "peak-output-data-rate             0.0\n",
       "peak-output-packet-rate           0.0\n",
       "reliability                     255.0\n",
       "Name: 0.99, dtype: float64"
      ]
     },
     "execution_count": 51,
     "metadata": {},
     "output_type": "execute_result"
    }
   ],
   "source": [
    "original_X_test.quantile(0.99)"
   ]
  },
  {
   "cell_type": "code",
   "execution_count": null,
   "id": "90524ee4",
   "metadata": {},
   "outputs": [],
   "source": [
    "# vae_generation_diff_list = input_df.quantile(0.9) - synthetic_supp.quantile(0.9)\n",
    "# noise_diff_list = input_df.quantile(0.9) - noisy_tmp_df.quantile(0.9)\n",
    "\n",
    "vae_generation_diff_list = input_df.mean() - synthetic_supp.mean()\n",
    "noise_diff_list = input_df.mean() - noisy_tmp_df.mean()\n",
    "vae_generation_diff_list\n",
    "# noise_diff_list"
   ]
  },
  {
   "cell_type": "code",
   "execution_count": null,
   "id": "78f0a488",
   "metadata": {},
   "outputs": [],
   "source": [
    "import matplotlib.pyplot as plt\n",
    "plt.rcParams['font.size'] = 14\n",
    "x = [0, 1, 2, 3, 4, 5, 6, 7, 8, 9, 10, 11]\n",
    "x1 = [1, 2, 3, 4, 5, 6, 7, 8, 9, 10, 11, 12]\n",
    "\n",
    "fig = plt.figure()\n",
    "ax = fig.add_subplot(111)\n",
    "ax.bar(x, vae_generation_diff_list, width=0.4, color='blue', label='VAE output Y compared with X')\n",
    "ax.bar(x1, noise_diff_list, width=0.4, color='orange', label='X+noise compared with X')\n",
    "\n",
    "plt.legend()\n",
    "plt.ylabel('Real - Synthetic')\n",
    "plt.xlabel( 'Different dimension of telemetry data' )\n",
    "plt.title('Mean value')\n",
    "plt.show"
   ]
  },
  {
   "cell_type": "code",
   "execution_count": null,
   "id": "55c10826",
   "metadata": {
    "pycharm": {
     "name": "#%% -------- SDV Metrics -------- #\n"
    }
   },
   "outputs": [],
   "source": [
    "distributional_metrics = [\n",
    "    \"KSTest\",\n",
    "    \"ContinuousKLDivergence\",\n",
    "    \"DiscreteKLDivergence\",\n",
    "]\n",
    "\n",
    "gower = False\n",
    "\n",
    "metrics = distribution_metrics(\n",
    "    gower_bool=gower,\n",
    "    distributional_metrics=distributional_metrics,\n",
    "    data_supp=input_df,\n",
    "    synthetic_supp=synthetic_supp,\n",
    "    categorical_columns=original_categorical_columns,\n",
    "    continuous_columns=original_continuous_columns,\n",
    "    saving_filepath=None,\n",
    "    pre_proc_method=pre_proc_method,\n",
    ")\n",
    "metrics"
   ]
  },
  {
   "cell_type": "code",
   "execution_count": null,
   "id": "4f5dffc0",
   "metadata": {},
   "outputs": [],
   "source": [
    "manual_noise_metrics = distribution_metrics(\n",
    "    gower_bool=gower,\n",
    "    distributional_metrics=distributional_metrics,\n",
    "    data_supp=input_df,\n",
    "    synthetic_supp=noisy_tmp_df,\n",
    "    categorical_columns=original_categorical_columns,\n",
    "    continuous_columns=original_continuous_columns,\n",
    "    saving_filepath=None,\n",
    "    pre_proc_method=pre_proc_method,\n",
    ")\n",
    "manual_noise_metrics"
   ]
  },
  {
   "cell_type": "markdown",
   "id": "b32d17fb",
   "metadata": {},
   "source": [
    "# Privacy Metric Evaluation\n",
    "\n",
    "Using SDV privacy metrics we can get an insight into how privacy is conserved when utilising dp-sgd methods. SDV's privacy metrics are limited in that they can only be used on similar data types. E.g. if we choose age to be the sensitive variably, we can build ML based models to predict a users age using the other columns. However we are forced to only use columns that are also continuous variables."
   ]
  },
  {
   "cell_type": "code",
   "execution_count": 79,
   "id": "8a7b2315",
   "metadata": {},
   "outputs": [
    {
     "data": {
      "text/plain": [
       "0.018421907815181434"
      ]
     },
     "execution_count": 79,
     "metadata": {},
     "output_type": "execute_result"
    }
   ],
   "source": [
    "# Specify our private variable\n",
    "\n",
    "private_variable = \"input-data-rate\"\n",
    "\n",
    "privacy_metric = privacy_metrics(\n",
    "    private_variable=private_variable,\n",
    "    data_supp=original_X_test,\n",
    "    synthetic_supp=test_synthetic_supp,\n",
    "    categorical_columns=original_categorical_columns,\n",
    "    continuous_columns=original_continuous_columns\n",
    ")\n",
    "\n",
    "privacy_metric"
   ]
  },
  {
   "cell_type": "code",
   "execution_count": 69,
   "id": "1cd78541",
   "metadata": {},
   "outputs": [
    {
     "name": "stdout",
     "output_type": "stream",
     "text": [
      "The function satisfies differential privacy with epsilon =  0.5446000000000001\n"
     ]
    }
   ],
   "source": [
    "all_data = torch.tensor(original_X_test.to_numpy())\n",
    "\n",
    "# Define the privacy budget\n",
    "privacy_budget = 1e-4\n",
    "\n",
    "# Calculate the sensitivity of the function (maximum difference between two adjacent datasets)\n",
    "sensitivity = torch.max(torch.abs(all_data - (all_data + torch.ones_like(all_data))) )\n",
    "\n",
    "# Calculate delta (probability of the function output deviating from the true output by more than epsilon)\n",
    "delta = 1 / len(all_data)\n",
    "\n",
    "# Calculate the epsilon value\n",
    "epsilon = privacy_budget / delta\n",
    "\n",
    "# Check if the privacy guarantee is satisfied\n",
    "if epsilon <= sensitivity / noise_scale:\n",
    "    print(\"The function satisfies differential privacy with epsilon = \", epsilon)\n",
    "else:\n",
    "    print(\"The function does not satisfy differential privacy with epsilon = \", epsilon)\n"
   ]
  },
  {
   "cell_type": "code",
   "execution_count": 60,
   "id": "2b4792c4",
   "metadata": {},
   "outputs": [
    {
     "name": "stdout",
     "output_type": "stream",
     "text": [
      "Actual Epsilon: 5945093545126779.0\n"
     ]
    }
   ],
   "source": [
    "# A is original, B is new generated data\n",
    "# Compare each data point to calculate the epsilon\n",
    "epsilon = 1.0\n",
    "A = original_X_test['input-load'].tolist()\n",
    "B = test_synthetic_supp['input-load'].tolist()\n",
    "# print(B)\n",
    "probabilities = []\n",
    "for i in range(len(A)):\n",
    "    prob = np.exp(epsilon * np.abs(B[i] - A[i])) / 2.0 / noise_scale\n",
    "    probabilities.append(prob)\n",
    "epsilon_actual = np.mean(probabilities)\n",
    "\n",
    "# Print the epsilon value\n",
    "print(\"Actual Epsilon:\", epsilon_actual)"
   ]
  },
  {
   "cell_type": "code",
   "execution_count": null,
   "id": "700d957e",
   "metadata": {},
   "outputs": [],
   "source": []
  }
 ],
 "metadata": {
  "kernelspec": {
   "display_name": "Python 3",
   "language": "python",
   "name": "python3"
  },
  "language_info": {
   "codemirror_mode": {
    "name": "ipython",
    "version": 3
   },
   "file_extension": ".py",
   "mimetype": "text/x-python",
   "name": "python",
   "nbconvert_exporter": "python",
   "pygments_lexer": "ipython3",
   "version": "3.8.16"
  }
 },
 "nbformat": 4,
 "nbformat_minor": 5
}
