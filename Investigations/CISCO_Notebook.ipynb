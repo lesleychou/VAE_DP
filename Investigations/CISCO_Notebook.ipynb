{
 "cells": [
  {
   "cell_type": "markdown",
   "id": "9eca4994",
   "metadata": {},
   "source": [
    "\n",
    "# SUPPORT Notebook\n",
    "\n",
    "This notebook runs through investigations on the open access SUPPORT dataset.\n",
    "\n",
    "For users who do not have lots of computational resources or do not have access to MIMIC-III then this notebook should be used."
   ]
  },
  {
   "cell_type": "code",
   "execution_count": 1,
   "id": "82b6b0f7",
   "metadata": {
    "pycharm": {
     "name": "#%% -------- Import Libraries -------- #\n"
    }
   },
   "outputs": [],
   "source": [
    "\n",
    "# Standard imports\n",
    "import numpy as np\n",
    "import pandas as pd\n",
    "import torch\n",
    "\n",
    "# VAE is in other folder as well as opacus adapted library\n",
    "import sys\n",
    "\n",
    "sys.path.append(\"../\")\n",
    "\n",
    "# Opacus support for differential privacy\n",
    "from opacus.utils.uniform_sampler import UniformWithReplacementSampler\n",
    "\n",
    "# For the SUPPORT dataset\n",
    "from pycox.datasets import support\n",
    "\n",
    "# For VAE dataset formatting\n",
    "from torch.utils.data import TensorDataset, DataLoader\n",
    "\n",
    "# VAE functions\n",
    "from VAE import Decoder, Encoder, VAE\n",
    "\n",
    "# Utility file contains all functions required to run notebook\n",
    "from utils import (\n",
    "    set_seed,\n",
    "    mimic_pre_proc,\n",
    "    plot_elbo,\n",
    "    plot_likelihood_breakdown,\n",
    "    plot_variable_distributions,\n",
    "    reverse_transformers,\n",
    ")\n",
    "from metrics import distribution_metrics, privacy_metrics\n",
    "\n",
    "import warnings\n",
    "\n",
    "warnings.filterwarnings(\"ignore\")  # We suppress warnings to avoid SDMETRICS throwing unique synthetic data warnings (i.e.\n",
    "# data in synthetic set is not in the real data set) as well as SKLEARN throwing convergence warnings (pre-processing uses\n",
    "# GMM from sklearn and this throws non convergence warnings)\n"
   ]
  },
  {
   "cell_type": "markdown",
   "id": "38c7f103",
   "metadata": {},
   "source": [
    "## Data Loading & Column Definitions\n",
    "\n",
    "First we load in the SUPPORT dataset from pycox datasets. Then we define the continuous and categorical columns in that dataset"
   ]
  },
  {
   "cell_type": "code",
   "execution_count": 2,
   "id": "c9ad14a0",
   "metadata": {},
   "outputs": [],
   "source": [
    "df = pd.read_csv(\"data/baseline_no_anomaly_500Gbps.csv\")\n",
    "# check how many NaN does each column have?\n",
    "# 37/87 cols, 98% NaN\n",
    "# 46/87 cols, 53% NaN\n",
    "# replace all of NaN with negative huge numbers?\n",
    "# df.isna().sum()\n",
    "# df.fillna(-100, inplace=True)\n",
    "# exclude all of object dtypes\n",
    "# df = df.select_dtypes(exclude=['object'])\n",
    "# data_supp = df.drop(['time'], axis=1) # column 'time' is dropped bc we do not need to learn it for now\n",
    "# data_supp"
   ]
  },
  {
   "cell_type": "code",
   "execution_count": 3,
   "id": "5dcc7725",
   "metadata": {},
   "outputs": [
    {
     "data": {
      "text/plain": [
       "array(['leaf4', 'spine1', 'leaf5', 'leaf6', 'dr01', 'leaf3', 'leaf1',\n",
       "       'spine2', 'leaf7', 'dr02', 'spine4', 'leaf8', 'leaf2', 'spine3',\n",
       "       'dr03'], dtype=object)"
      ]
     },
     "execution_count": 3,
     "metadata": {},
     "output_type": "execute_result"
    }
   ],
   "source": [
    "df['Producer'].unique()"
   ]
  },
  {
   "cell_type": "code",
   "execution_count": 4,
   "id": "6d09c34a",
   "metadata": {},
   "outputs": [
    {
     "data": {
      "text/plain": [
       "array(['Cisco-IOS-XR-fib-common-oper:fib-statistics/nodes/node/drops',\n",
       "       'Cisco-IOS-XR-infra-statsd-oper:infra-statistics/interfaces/interface/latest/data-rate',\n",
       "       'Cisco-IOS-XR-infra-statsd-oper:infra-statistics/interfaces/interface/latest/generic-counters',\n",
       "       'Cisco-IOS-XR-ip-rib-ipv4-oper:rib/vrfs/vrf/afs/af/safs/saf/ip-rib-route-table-names/ip-rib-route-table-name/protocol/bgp/as/information',\n",
       "       'Cisco-IOS-XR-ipv4-bgp-oper:bgp/instances/instance/instance-active/default-vrf/process-info',\n",
       "       'Cisco-IOS-XR-nto-misc-oper:memory-summary/nodes/node/summary',\n",
       "       'Cisco-IOS-XR-wdsysmon-fd-oper:system-monitoring/cpu-utilization'],\n",
       "      dtype=object)"
      ]
     },
     "execution_count": 4,
     "metadata": {},
     "output_type": "execute_result"
    }
   ],
   "source": [
    "df['name'].unique()"
   ]
  },
  {
   "cell_type": "code",
   "execution_count": 5,
   "id": "f938f2ac",
   "metadata": {},
   "outputs": [
    {
     "data": {
      "text/html": [
       "<div>\n",
       "<style scoped>\n",
       "    .dataframe tbody tr th:only-of-type {\n",
       "        vertical-align: middle;\n",
       "    }\n",
       "\n",
       "    .dataframe tbody tr th {\n",
       "        vertical-align: top;\n",
       "    }\n",
       "\n",
       "    .dataframe thead th {\n",
       "        text-align: right;\n",
       "    }\n",
       "</style>\n",
       "<table border=\"1\" class=\"dataframe\">\n",
       "  <thead>\n",
       "    <tr style=\"text-align: right;\">\n",
       "      <th></th>\n",
       "      <th>input-data-rate</th>\n",
       "      <th>input-load</th>\n",
       "      <th>input-packet-rate</th>\n",
       "      <th>load-interval</th>\n",
       "      <th>output-data-rate</th>\n",
       "      <th>output-load</th>\n",
       "      <th>output-packet-rate</th>\n",
       "      <th>peak-input-data-rate</th>\n",
       "      <th>peak-input-packet-rate</th>\n",
       "      <th>peak-output-data-rate</th>\n",
       "      <th>peak-output-packet-rate</th>\n",
       "      <th>reliability</th>\n",
       "    </tr>\n",
       "  </thead>\n",
       "  <tbody>\n",
       "    <tr>\n",
       "      <th>15739</th>\n",
       "      <td>2018880.0</td>\n",
       "      <td>5.0</td>\n",
       "      <td>124974.0</td>\n",
       "      <td>0.0</td>\n",
       "      <td>3075568.0</td>\n",
       "      <td>7.0</td>\n",
       "      <td>329097.0</td>\n",
       "      <td>0.0</td>\n",
       "      <td>0.0</td>\n",
       "      <td>0.0</td>\n",
       "      <td>0.0</td>\n",
       "      <td>255.0</td>\n",
       "    </tr>\n",
       "    <tr>\n",
       "      <th>15740</th>\n",
       "      <td>3060451.0</td>\n",
       "      <td>7.0</td>\n",
       "      <td>193464.0</td>\n",
       "      <td>0.0</td>\n",
       "      <td>3041142.0</td>\n",
       "      <td>7.0</td>\n",
       "      <td>261292.0</td>\n",
       "      <td>0.0</td>\n",
       "      <td>0.0</td>\n",
       "      <td>0.0</td>\n",
       "      <td>0.0</td>\n",
       "      <td>255.0</td>\n",
       "    </tr>\n",
       "    <tr>\n",
       "      <th>15741</th>\n",
       "      <td>1824393.0</td>\n",
       "      <td>4.0</td>\n",
       "      <td>177426.0</td>\n",
       "      <td>0.0</td>\n",
       "      <td>2989099.0</td>\n",
       "      <td>7.0</td>\n",
       "      <td>237856.0</td>\n",
       "      <td>0.0</td>\n",
       "      <td>0.0</td>\n",
       "      <td>0.0</td>\n",
       "      <td>0.0</td>\n",
       "      <td>255.0</td>\n",
       "    </tr>\n",
       "    <tr>\n",
       "      <th>15742</th>\n",
       "      <td>2239501.0</td>\n",
       "      <td>5.0</td>\n",
       "      <td>132391.0</td>\n",
       "      <td>0.0</td>\n",
       "      <td>4233590.0</td>\n",
       "      <td>10.0</td>\n",
       "      <td>372600.0</td>\n",
       "      <td>0.0</td>\n",
       "      <td>0.0</td>\n",
       "      <td>0.0</td>\n",
       "      <td>0.0</td>\n",
       "      <td>255.0</td>\n",
       "    </tr>\n",
       "    <tr>\n",
       "      <th>15743</th>\n",
       "      <td>3018871.0</td>\n",
       "      <td>7.0</td>\n",
       "      <td>158834.0</td>\n",
       "      <td>0.0</td>\n",
       "      <td>3501113.0</td>\n",
       "      <td>8.0</td>\n",
       "      <td>302182.0</td>\n",
       "      <td>0.0</td>\n",
       "      <td>0.0</td>\n",
       "      <td>0.0</td>\n",
       "      <td>0.0</td>\n",
       "      <td>255.0</td>\n",
       "    </tr>\n",
       "    <tr>\n",
       "      <th>...</th>\n",
       "      <td>...</td>\n",
       "      <td>...</td>\n",
       "      <td>...</td>\n",
       "      <td>...</td>\n",
       "      <td>...</td>\n",
       "      <td>...</td>\n",
       "      <td>...</td>\n",
       "      <td>...</td>\n",
       "      <td>...</td>\n",
       "      <td>...</td>\n",
       "      <td>...</td>\n",
       "      <td>...</td>\n",
       "    </tr>\n",
       "    <tr>\n",
       "      <th>469218</th>\n",
       "      <td>0.0</td>\n",
       "      <td>0.0</td>\n",
       "      <td>0.0</td>\n",
       "      <td>0.0</td>\n",
       "      <td>0.0</td>\n",
       "      <td>0.0</td>\n",
       "      <td>0.0</td>\n",
       "      <td>0.0</td>\n",
       "      <td>0.0</td>\n",
       "      <td>0.0</td>\n",
       "      <td>0.0</td>\n",
       "      <td>255.0</td>\n",
       "    </tr>\n",
       "    <tr>\n",
       "      <th>469219</th>\n",
       "      <td>0.0</td>\n",
       "      <td>0.0</td>\n",
       "      <td>0.0</td>\n",
       "      <td>0.0</td>\n",
       "      <td>0.0</td>\n",
       "      <td>0.0</td>\n",
       "      <td>0.0</td>\n",
       "      <td>0.0</td>\n",
       "      <td>0.0</td>\n",
       "      <td>0.0</td>\n",
       "      <td>0.0</td>\n",
       "      <td>255.0</td>\n",
       "    </tr>\n",
       "    <tr>\n",
       "      <th>469220</th>\n",
       "      <td>0.0</td>\n",
       "      <td>0.0</td>\n",
       "      <td>0.0</td>\n",
       "      <td>0.0</td>\n",
       "      <td>0.0</td>\n",
       "      <td>0.0</td>\n",
       "      <td>0.0</td>\n",
       "      <td>0.0</td>\n",
       "      <td>0.0</td>\n",
       "      <td>0.0</td>\n",
       "      <td>0.0</td>\n",
       "      <td>255.0</td>\n",
       "    </tr>\n",
       "    <tr>\n",
       "      <th>469221</th>\n",
       "      <td>14164136.0</td>\n",
       "      <td>36.0</td>\n",
       "      <td>1002474.0</td>\n",
       "      <td>0.0</td>\n",
       "      <td>13148083.0</td>\n",
       "      <td>33.0</td>\n",
       "      <td>1093880.0</td>\n",
       "      <td>0.0</td>\n",
       "      <td>0.0</td>\n",
       "      <td>0.0</td>\n",
       "      <td>0.0</td>\n",
       "      <td>255.0</td>\n",
       "    </tr>\n",
       "    <tr>\n",
       "      <th>469222</th>\n",
       "      <td>13998724.0</td>\n",
       "      <td>35.0</td>\n",
       "      <td>998433.0</td>\n",
       "      <td>0.0</td>\n",
       "      <td>14070719.0</td>\n",
       "      <td>35.0</td>\n",
       "      <td>1290912.0</td>\n",
       "      <td>0.0</td>\n",
       "      <td>0.0</td>\n",
       "      <td>0.0</td>\n",
       "      <td>0.0</td>\n",
       "      <td>255.0</td>\n",
       "    </tr>\n",
       "  </tbody>\n",
       "</table>\n",
       "<p>27228 rows × 12 columns</p>\n",
       "</div>"
      ],
      "text/plain": [
       "        input-data-rate  input-load  input-packet-rate  load-interval  \\\n",
       "15739         2018880.0         5.0           124974.0            0.0   \n",
       "15740         3060451.0         7.0           193464.0            0.0   \n",
       "15741         1824393.0         4.0           177426.0            0.0   \n",
       "15742         2239501.0         5.0           132391.0            0.0   \n",
       "15743         3018871.0         7.0           158834.0            0.0   \n",
       "...                 ...         ...                ...            ...   \n",
       "469218              0.0         0.0                0.0            0.0   \n",
       "469219              0.0         0.0                0.0            0.0   \n",
       "469220              0.0         0.0                0.0            0.0   \n",
       "469221       14164136.0        36.0          1002474.0            0.0   \n",
       "469222       13998724.0        35.0           998433.0            0.0   \n",
       "\n",
       "        output-data-rate  output-load  output-packet-rate  \\\n",
       "15739          3075568.0          7.0            329097.0   \n",
       "15740          3041142.0          7.0            261292.0   \n",
       "15741          2989099.0          7.0            237856.0   \n",
       "15742          4233590.0         10.0            372600.0   \n",
       "15743          3501113.0          8.0            302182.0   \n",
       "...                  ...          ...                 ...   \n",
       "469218               0.0          0.0                 0.0   \n",
       "469219               0.0          0.0                 0.0   \n",
       "469220               0.0          0.0                 0.0   \n",
       "469221        13148083.0         33.0           1093880.0   \n",
       "469222        14070719.0         35.0           1290912.0   \n",
       "\n",
       "        peak-input-data-rate  peak-input-packet-rate  peak-output-data-rate  \\\n",
       "15739                    0.0                     0.0                    0.0   \n",
       "15740                    0.0                     0.0                    0.0   \n",
       "15741                    0.0                     0.0                    0.0   \n",
       "15742                    0.0                     0.0                    0.0   \n",
       "15743                    0.0                     0.0                    0.0   \n",
       "...                      ...                     ...                    ...   \n",
       "469218                   0.0                     0.0                    0.0   \n",
       "469219                   0.0                     0.0                    0.0   \n",
       "469220                   0.0                     0.0                    0.0   \n",
       "469221                   0.0                     0.0                    0.0   \n",
       "469222                   0.0                     0.0                    0.0   \n",
       "\n",
       "        peak-output-packet-rate  reliability  \n",
       "15739                       0.0        255.0  \n",
       "15740                       0.0        255.0  \n",
       "15741                       0.0        255.0  \n",
       "15742                       0.0        255.0  \n",
       "15743                       0.0        255.0  \n",
       "...                         ...          ...  \n",
       "469218                      0.0        255.0  \n",
       "469219                      0.0        255.0  \n",
       "469220                      0.0        255.0  \n",
       "469221                      0.0        255.0  \n",
       "469222                      0.0        255.0  \n",
       "\n",
       "[27228 rows x 12 columns]"
      ]
     },
     "execution_count": 5,
     "metadata": {},
     "output_type": "execute_result"
    }
   ],
   "source": [
    "# Find one sub datset that name==data-rate, Producer==leaf4\n",
    "tmp_df = df[(df['name']=='Cisco-IOS-XR-infra-statsd-oper:infra-statistics/interfaces/interface/latest/data-rate') & (df['Producer']=='leaf5')]\n",
    "tmp_df = tmp_df.dropna(axis=1, how='all')\n",
    "tmp_df = tmp_df.select_dtypes(exclude=['object'])\n",
    "tmp_df = tmp_df.drop(['time'], axis=1)\n",
    "input_df = tmp_df.drop(['bandwidth'], axis=1)\n",
    "input_df"
   ]
  },
  {
   "cell_type": "code",
   "execution_count": 6,
   "id": "76c602c0",
   "metadata": {},
   "outputs": [],
   "source": [
    "categorical_column_name=[]\n",
    "categorical_len_count=0\n",
    "for col in input_df:\n",
    "    if len(input_df[col].unique()) <= 100:\n",
    "        categorical_column_name.append(col)\n",
    "        categorical_len_count += len(input_df[col].unique())"
   ]
  },
  {
   "cell_type": "code",
   "execution_count": 7,
   "id": "a17fb13b",
   "metadata": {},
   "outputs": [
    {
     "data": {
      "text/plain": [
       "['input-load',\n",
       " 'load-interval',\n",
       " 'output-load',\n",
       " 'peak-input-data-rate',\n",
       " 'peak-input-packet-rate',\n",
       " 'peak-output-data-rate',\n",
       " 'peak-output-packet-rate',\n",
       " 'reliability']"
      ]
     },
     "execution_count": 7,
     "metadata": {},
     "output_type": "execute_result"
    }
   ],
   "source": [
    "categorical_column_name"
   ]
  },
  {
   "cell_type": "code",
   "execution_count": 8,
   "id": "35ae3f28",
   "metadata": {},
   "outputs": [],
   "source": [
    "# Column Definitions\n",
    "original_continuous_columns = list(set(input_df.columns.values.tolist()) - set(categorical_column_name))\n",
    "original_categorical_columns = categorical_column_name\n",
    "# original_continuous_columns = ['output-packet-rate']\n",
    "# original_categorical_columns = ['load-interval']\n",
    "# tmp_df = tmp_df[['load-interval', 'output-packet-rate']]\n"
   ]
  },
  {
   "cell_type": "code",
   "execution_count": 9,
   "id": "905eea20",
   "metadata": {},
   "outputs": [
    {
     "data": {
      "text/html": [
       "<div>\n",
       "<style scoped>\n",
       "    .dataframe tbody tr th:only-of-type {\n",
       "        vertical-align: middle;\n",
       "    }\n",
       "\n",
       "    .dataframe tbody tr th {\n",
       "        vertical-align: top;\n",
       "    }\n",
       "\n",
       "    .dataframe thead th {\n",
       "        text-align: right;\n",
       "    }\n",
       "</style>\n",
       "<table border=\"1\" class=\"dataframe\">\n",
       "  <thead>\n",
       "    <tr style=\"text-align: right;\">\n",
       "      <th></th>\n",
       "      <th>input-data-rate</th>\n",
       "      <th>input-load</th>\n",
       "      <th>input-packet-rate</th>\n",
       "      <th>load-interval</th>\n",
       "      <th>output-data-rate</th>\n",
       "      <th>output-load</th>\n",
       "      <th>output-packet-rate</th>\n",
       "      <th>peak-input-data-rate</th>\n",
       "      <th>peak-input-packet-rate</th>\n",
       "      <th>peak-output-data-rate</th>\n",
       "      <th>peak-output-packet-rate</th>\n",
       "      <th>reliability</th>\n",
       "    </tr>\n",
       "  </thead>\n",
       "  <tbody>\n",
       "    <tr>\n",
       "      <th>15739</th>\n",
       "      <td>2018880.0</td>\n",
       "      <td>5.0</td>\n",
       "      <td>124974.0</td>\n",
       "      <td>0.0</td>\n",
       "      <td>3075568.0</td>\n",
       "      <td>7.0</td>\n",
       "      <td>329097.0</td>\n",
       "      <td>0.0</td>\n",
       "      <td>0.0</td>\n",
       "      <td>0.0</td>\n",
       "      <td>0.0</td>\n",
       "      <td>255.0</td>\n",
       "    </tr>\n",
       "    <tr>\n",
       "      <th>15740</th>\n",
       "      <td>3060451.0</td>\n",
       "      <td>7.0</td>\n",
       "      <td>193464.0</td>\n",
       "      <td>0.0</td>\n",
       "      <td>3041142.0</td>\n",
       "      <td>7.0</td>\n",
       "      <td>261292.0</td>\n",
       "      <td>0.0</td>\n",
       "      <td>0.0</td>\n",
       "      <td>0.0</td>\n",
       "      <td>0.0</td>\n",
       "      <td>255.0</td>\n",
       "    </tr>\n",
       "    <tr>\n",
       "      <th>15741</th>\n",
       "      <td>1824393.0</td>\n",
       "      <td>4.0</td>\n",
       "      <td>177426.0</td>\n",
       "      <td>0.0</td>\n",
       "      <td>2989099.0</td>\n",
       "      <td>7.0</td>\n",
       "      <td>237856.0</td>\n",
       "      <td>0.0</td>\n",
       "      <td>0.0</td>\n",
       "      <td>0.0</td>\n",
       "      <td>0.0</td>\n",
       "      <td>255.0</td>\n",
       "    </tr>\n",
       "    <tr>\n",
       "      <th>15742</th>\n",
       "      <td>2239501.0</td>\n",
       "      <td>5.0</td>\n",
       "      <td>132391.0</td>\n",
       "      <td>0.0</td>\n",
       "      <td>4233590.0</td>\n",
       "      <td>10.0</td>\n",
       "      <td>372600.0</td>\n",
       "      <td>0.0</td>\n",
       "      <td>0.0</td>\n",
       "      <td>0.0</td>\n",
       "      <td>0.0</td>\n",
       "      <td>255.0</td>\n",
       "    </tr>\n",
       "    <tr>\n",
       "      <th>15743</th>\n",
       "      <td>3018871.0</td>\n",
       "      <td>7.0</td>\n",
       "      <td>158834.0</td>\n",
       "      <td>0.0</td>\n",
       "      <td>3501113.0</td>\n",
       "      <td>8.0</td>\n",
       "      <td>302182.0</td>\n",
       "      <td>0.0</td>\n",
       "      <td>0.0</td>\n",
       "      <td>0.0</td>\n",
       "      <td>0.0</td>\n",
       "      <td>255.0</td>\n",
       "    </tr>\n",
       "    <tr>\n",
       "      <th>...</th>\n",
       "      <td>...</td>\n",
       "      <td>...</td>\n",
       "      <td>...</td>\n",
       "      <td>...</td>\n",
       "      <td>...</td>\n",
       "      <td>...</td>\n",
       "      <td>...</td>\n",
       "      <td>...</td>\n",
       "      <td>...</td>\n",
       "      <td>...</td>\n",
       "      <td>...</td>\n",
       "      <td>...</td>\n",
       "    </tr>\n",
       "    <tr>\n",
       "      <th>469218</th>\n",
       "      <td>0.0</td>\n",
       "      <td>0.0</td>\n",
       "      <td>0.0</td>\n",
       "      <td>0.0</td>\n",
       "      <td>0.0</td>\n",
       "      <td>0.0</td>\n",
       "      <td>0.0</td>\n",
       "      <td>0.0</td>\n",
       "      <td>0.0</td>\n",
       "      <td>0.0</td>\n",
       "      <td>0.0</td>\n",
       "      <td>255.0</td>\n",
       "    </tr>\n",
       "    <tr>\n",
       "      <th>469219</th>\n",
       "      <td>0.0</td>\n",
       "      <td>0.0</td>\n",
       "      <td>0.0</td>\n",
       "      <td>0.0</td>\n",
       "      <td>0.0</td>\n",
       "      <td>0.0</td>\n",
       "      <td>0.0</td>\n",
       "      <td>0.0</td>\n",
       "      <td>0.0</td>\n",
       "      <td>0.0</td>\n",
       "      <td>0.0</td>\n",
       "      <td>255.0</td>\n",
       "    </tr>\n",
       "    <tr>\n",
       "      <th>469220</th>\n",
       "      <td>0.0</td>\n",
       "      <td>0.0</td>\n",
       "      <td>0.0</td>\n",
       "      <td>0.0</td>\n",
       "      <td>0.0</td>\n",
       "      <td>0.0</td>\n",
       "      <td>0.0</td>\n",
       "      <td>0.0</td>\n",
       "      <td>0.0</td>\n",
       "      <td>0.0</td>\n",
       "      <td>0.0</td>\n",
       "      <td>255.0</td>\n",
       "    </tr>\n",
       "    <tr>\n",
       "      <th>469221</th>\n",
       "      <td>14164136.0</td>\n",
       "      <td>36.0</td>\n",
       "      <td>1002474.0</td>\n",
       "      <td>0.0</td>\n",
       "      <td>13148083.0</td>\n",
       "      <td>33.0</td>\n",
       "      <td>1093880.0</td>\n",
       "      <td>0.0</td>\n",
       "      <td>0.0</td>\n",
       "      <td>0.0</td>\n",
       "      <td>0.0</td>\n",
       "      <td>255.0</td>\n",
       "    </tr>\n",
       "    <tr>\n",
       "      <th>469222</th>\n",
       "      <td>13998724.0</td>\n",
       "      <td>35.0</td>\n",
       "      <td>998433.0</td>\n",
       "      <td>0.0</td>\n",
       "      <td>14070719.0</td>\n",
       "      <td>35.0</td>\n",
       "      <td>1290912.0</td>\n",
       "      <td>0.0</td>\n",
       "      <td>0.0</td>\n",
       "      <td>0.0</td>\n",
       "      <td>0.0</td>\n",
       "      <td>255.0</td>\n",
       "    </tr>\n",
       "  </tbody>\n",
       "</table>\n",
       "<p>27228 rows × 12 columns</p>\n",
       "</div>"
      ],
      "text/plain": [
       "        input-data-rate  input-load  input-packet-rate  load-interval  \\\n",
       "15739         2018880.0         5.0           124974.0            0.0   \n",
       "15740         3060451.0         7.0           193464.0            0.0   \n",
       "15741         1824393.0         4.0           177426.0            0.0   \n",
       "15742         2239501.0         5.0           132391.0            0.0   \n",
       "15743         3018871.0         7.0           158834.0            0.0   \n",
       "...                 ...         ...                ...            ...   \n",
       "469218              0.0         0.0                0.0            0.0   \n",
       "469219              0.0         0.0                0.0            0.0   \n",
       "469220              0.0         0.0                0.0            0.0   \n",
       "469221       14164136.0        36.0          1002474.0            0.0   \n",
       "469222       13998724.0        35.0           998433.0            0.0   \n",
       "\n",
       "        output-data-rate  output-load  output-packet-rate  \\\n",
       "15739          3075568.0          7.0            329097.0   \n",
       "15740          3041142.0          7.0            261292.0   \n",
       "15741          2989099.0          7.0            237856.0   \n",
       "15742          4233590.0         10.0            372600.0   \n",
       "15743          3501113.0          8.0            302182.0   \n",
       "...                  ...          ...                 ...   \n",
       "469218               0.0          0.0                 0.0   \n",
       "469219               0.0          0.0                 0.0   \n",
       "469220               0.0          0.0                 0.0   \n",
       "469221        13148083.0         33.0           1093880.0   \n",
       "469222        14070719.0         35.0           1290912.0   \n",
       "\n",
       "        peak-input-data-rate  peak-input-packet-rate  peak-output-data-rate  \\\n",
       "15739                    0.0                     0.0                    0.0   \n",
       "15740                    0.0                     0.0                    0.0   \n",
       "15741                    0.0                     0.0                    0.0   \n",
       "15742                    0.0                     0.0                    0.0   \n",
       "15743                    0.0                     0.0                    0.0   \n",
       "...                      ...                     ...                    ...   \n",
       "469218                   0.0                     0.0                    0.0   \n",
       "469219                   0.0                     0.0                    0.0   \n",
       "469220                   0.0                     0.0                    0.0   \n",
       "469221                   0.0                     0.0                    0.0   \n",
       "469222                   0.0                     0.0                    0.0   \n",
       "\n",
       "        peak-output-packet-rate  reliability  \n",
       "15739                       0.0        255.0  \n",
       "15740                       0.0        255.0  \n",
       "15741                       0.0        255.0  \n",
       "15742                       0.0        255.0  \n",
       "15743                       0.0        255.0  \n",
       "...                         ...          ...  \n",
       "469218                      0.0        255.0  \n",
       "469219                      0.0        255.0  \n",
       "469220                      0.0        255.0  \n",
       "469221                      0.0        255.0  \n",
       "469222                      0.0        255.0  \n",
       "\n",
       "[27228 rows x 12 columns]"
      ]
     },
     "execution_count": 9,
     "metadata": {},
     "output_type": "execute_result"
    }
   ],
   "source": [
    "input_df"
   ]
  },
  {
   "cell_type": "code",
   "execution_count": 10,
   "id": "930a0500",
   "metadata": {},
   "outputs": [
    {
     "name": "stdout",
     "output_type": "stream",
     "text": [
      "The function satisfies differential privacy with epsilon =  0.27228\n"
     ]
    }
   ],
   "source": [
    "import math\n",
    "\n",
    "df_continuous_columns = list(original_continuous_columns)\n",
    "continuous_df = input_df[df_continuous_columns]\n",
    "\n",
    "df_categorical_columns = list(original_categorical_columns)\n",
    "discrete_df = input_df[df_categorical_columns]\n",
    "\n",
    "continuous_data = continuous_df.to_numpy()\n",
    "discrete_data = discrete_df.to_numpy()\n",
    "\n",
    "# Define the original data tensor\n",
    "continuous_data = torch.tensor(continuous_data)\n",
    "discrete_data = torch.tensor(discrete_data)\n",
    "\n",
    "# Define the privacy budget\n",
    "privacy_budget = 1e-5\n",
    "\n",
    "# Define the noise scale (standard deviation of the Gaussian noise)\n",
    "noise_scale = 1.0\n",
    "\n",
    "# Add the Gaussian noise to the data\n",
    "continuous_noisy_data = continuous_data + torch.tensor(np.random.normal(-noise_scale, noise_scale, size=continuous_data.shape))\n",
    "\n",
    "# # Add the int noise to the data\n",
    "discrete_noisy_data = discrete_data + torch.tensor(np.random.randint(-noise_scale, noise_scale, size=discrete_data.shape))\n",
    "\n",
    "# Calculate the sensitivity of the function (maximum difference between two adjacent datasets)\n",
    "sensitivity = torch.max(torch.abs(continuous_data - (continuous_data + torch.ones_like(continuous_data))) )\n",
    "\n",
    "# Calculate delta (probability of the function output deviating from the true output by more than epsilon)\n",
    "delta = 1 / len(continuous_data)\n",
    "\n",
    "# Calculate the epsilon value\n",
    "epsilon = privacy_budget / delta\n",
    "\n",
    "# Check if the privacy guarantee is satisfied\n",
    "if epsilon <= sensitivity / noise_scale:\n",
    "    print(\"The function satisfies differential privacy with epsilon = \", epsilon)\n",
    "else:\n",
    "    print(\"The function does not satisfy differential privacy with epsilon = \", epsilon)\n"
   ]
  },
  {
   "cell_type": "code",
   "execution_count": 11,
   "id": "bf355b87",
   "metadata": {},
   "outputs": [
    {
     "data": {
      "text/html": [
       "<div>\n",
       "<style scoped>\n",
       "    .dataframe tbody tr th:only-of-type {\n",
       "        vertical-align: middle;\n",
       "    }\n",
       "\n",
       "    .dataframe tbody tr th {\n",
       "        vertical-align: top;\n",
       "    }\n",
       "\n",
       "    .dataframe thead th {\n",
       "        text-align: right;\n",
       "    }\n",
       "</style>\n",
       "<table border=\"1\" class=\"dataframe\">\n",
       "  <thead>\n",
       "    <tr style=\"text-align: right;\">\n",
       "      <th></th>\n",
       "      <th>output-packet-rate</th>\n",
       "      <th>input-packet-rate</th>\n",
       "      <th>output-data-rate</th>\n",
       "      <th>input-data-rate</th>\n",
       "    </tr>\n",
       "  </thead>\n",
       "  <tbody>\n",
       "    <tr>\n",
       "      <th>15739</th>\n",
       "      <td>329097.0</td>\n",
       "      <td>124974.0</td>\n",
       "      <td>3075568.0</td>\n",
       "      <td>2018880.0</td>\n",
       "    </tr>\n",
       "    <tr>\n",
       "      <th>15740</th>\n",
       "      <td>261292.0</td>\n",
       "      <td>193464.0</td>\n",
       "      <td>3041142.0</td>\n",
       "      <td>3060451.0</td>\n",
       "    </tr>\n",
       "    <tr>\n",
       "      <th>15741</th>\n",
       "      <td>237856.0</td>\n",
       "      <td>177426.0</td>\n",
       "      <td>2989099.0</td>\n",
       "      <td>1824393.0</td>\n",
       "    </tr>\n",
       "    <tr>\n",
       "      <th>15742</th>\n",
       "      <td>372600.0</td>\n",
       "      <td>132391.0</td>\n",
       "      <td>4233590.0</td>\n",
       "      <td>2239501.0</td>\n",
       "    </tr>\n",
       "    <tr>\n",
       "      <th>15743</th>\n",
       "      <td>302182.0</td>\n",
       "      <td>158834.0</td>\n",
       "      <td>3501113.0</td>\n",
       "      <td>3018871.0</td>\n",
       "    </tr>\n",
       "    <tr>\n",
       "      <th>...</th>\n",
       "      <td>...</td>\n",
       "      <td>...</td>\n",
       "      <td>...</td>\n",
       "      <td>...</td>\n",
       "    </tr>\n",
       "    <tr>\n",
       "      <th>469218</th>\n",
       "      <td>0.0</td>\n",
       "      <td>0.0</td>\n",
       "      <td>0.0</td>\n",
       "      <td>0.0</td>\n",
       "    </tr>\n",
       "    <tr>\n",
       "      <th>469219</th>\n",
       "      <td>0.0</td>\n",
       "      <td>0.0</td>\n",
       "      <td>0.0</td>\n",
       "      <td>0.0</td>\n",
       "    </tr>\n",
       "    <tr>\n",
       "      <th>469220</th>\n",
       "      <td>0.0</td>\n",
       "      <td>0.0</td>\n",
       "      <td>0.0</td>\n",
       "      <td>0.0</td>\n",
       "    </tr>\n",
       "    <tr>\n",
       "      <th>469221</th>\n",
       "      <td>1093880.0</td>\n",
       "      <td>1002474.0</td>\n",
       "      <td>13148083.0</td>\n",
       "      <td>14164136.0</td>\n",
       "    </tr>\n",
       "    <tr>\n",
       "      <th>469222</th>\n",
       "      <td>1290912.0</td>\n",
       "      <td>998433.0</td>\n",
       "      <td>14070719.0</td>\n",
       "      <td>13998724.0</td>\n",
       "    </tr>\n",
       "  </tbody>\n",
       "</table>\n",
       "<p>27228 rows × 4 columns</p>\n",
       "</div>"
      ],
      "text/plain": [
       "        output-packet-rate  input-packet-rate  output-data-rate  \\\n",
       "15739             329097.0           124974.0         3075568.0   \n",
       "15740             261292.0           193464.0         3041142.0   \n",
       "15741             237856.0           177426.0         2989099.0   \n",
       "15742             372600.0           132391.0         4233590.0   \n",
       "15743             302182.0           158834.0         3501113.0   \n",
       "...                    ...                ...               ...   \n",
       "469218                 0.0                0.0               0.0   \n",
       "469219                 0.0                0.0               0.0   \n",
       "469220                 0.0                0.0               0.0   \n",
       "469221           1093880.0          1002474.0        13148083.0   \n",
       "469222           1290912.0           998433.0        14070719.0   \n",
       "\n",
       "        input-data-rate  \n",
       "15739         2018880.0  \n",
       "15740         3060451.0  \n",
       "15741         1824393.0  \n",
       "15742         2239501.0  \n",
       "15743         3018871.0  \n",
       "...                 ...  \n",
       "469218              0.0  \n",
       "469219              0.0  \n",
       "469220              0.0  \n",
       "469221       14164136.0  \n",
       "469222       13998724.0  \n",
       "\n",
       "[27228 rows x 4 columns]"
      ]
     },
     "execution_count": 11,
     "metadata": {},
     "output_type": "execute_result"
    }
   ],
   "source": [
    "continuous_df"
   ]
  },
  {
   "cell_type": "code",
   "execution_count": 12,
   "id": "3933821e",
   "metadata": {},
   "outputs": [
    {
     "data": {
      "text/html": [
       "<div>\n",
       "<style scoped>\n",
       "    .dataframe tbody tr th:only-of-type {\n",
       "        vertical-align: middle;\n",
       "    }\n",
       "\n",
       "    .dataframe tbody tr th {\n",
       "        vertical-align: top;\n",
       "    }\n",
       "\n",
       "    .dataframe thead th {\n",
       "        text-align: right;\n",
       "    }\n",
       "</style>\n",
       "<table border=\"1\" class=\"dataframe\">\n",
       "  <thead>\n",
       "    <tr style=\"text-align: right;\">\n",
       "      <th></th>\n",
       "      <th>output-packet-rate</th>\n",
       "      <th>input-packet-rate</th>\n",
       "      <th>output-data-rate</th>\n",
       "      <th>input-data-rate</th>\n",
       "    </tr>\n",
       "  </thead>\n",
       "  <tbody>\n",
       "    <tr>\n",
       "      <th>0</th>\n",
       "      <td>3.290959e+05</td>\n",
       "      <td>1.249724e+05</td>\n",
       "      <td>3.075567e+06</td>\n",
       "      <td>2.018878e+06</td>\n",
       "    </tr>\n",
       "    <tr>\n",
       "      <th>1</th>\n",
       "      <td>2.612909e+05</td>\n",
       "      <td>1.934621e+05</td>\n",
       "      <td>3.041138e+06</td>\n",
       "      <td>3.060449e+06</td>\n",
       "    </tr>\n",
       "    <tr>\n",
       "      <th>2</th>\n",
       "      <td>2.378562e+05</td>\n",
       "      <td>1.774233e+05</td>\n",
       "      <td>2.989099e+06</td>\n",
       "      <td>1.824393e+06</td>\n",
       "    </tr>\n",
       "    <tr>\n",
       "      <th>3</th>\n",
       "      <td>3.725991e+05</td>\n",
       "      <td>1.323899e+05</td>\n",
       "      <td>4.233590e+06</td>\n",
       "      <td>2.239500e+06</td>\n",
       "    </tr>\n",
       "    <tr>\n",
       "      <th>4</th>\n",
       "      <td>3.021798e+05</td>\n",
       "      <td>1.588317e+05</td>\n",
       "      <td>3.501112e+06</td>\n",
       "      <td>3.018869e+06</td>\n",
       "    </tr>\n",
       "    <tr>\n",
       "      <th>...</th>\n",
       "      <td>...</td>\n",
       "      <td>...</td>\n",
       "      <td>...</td>\n",
       "      <td>...</td>\n",
       "    </tr>\n",
       "    <tr>\n",
       "      <th>27223</th>\n",
       "      <td>-8.549937e-01</td>\n",
       "      <td>-1.297431e+00</td>\n",
       "      <td>-7.456012e-02</td>\n",
       "      <td>-2.631699e+00</td>\n",
       "    </tr>\n",
       "    <tr>\n",
       "      <th>27224</th>\n",
       "      <td>-2.232882e+00</td>\n",
       "      <td>3.350088e-01</td>\n",
       "      <td>-1.338864e+00</td>\n",
       "      <td>-7.590124e-01</td>\n",
       "    </tr>\n",
       "    <tr>\n",
       "      <th>27225</th>\n",
       "      <td>-2.539045e+00</td>\n",
       "      <td>-1.871476e+00</td>\n",
       "      <td>-2.796784e-01</td>\n",
       "      <td>-2.167414e+00</td>\n",
       "    </tr>\n",
       "    <tr>\n",
       "      <th>27226</th>\n",
       "      <td>1.093880e+06</td>\n",
       "      <td>1.002473e+06</td>\n",
       "      <td>1.314808e+07</td>\n",
       "      <td>1.416414e+07</td>\n",
       "    </tr>\n",
       "    <tr>\n",
       "      <th>27227</th>\n",
       "      <td>1.290910e+06</td>\n",
       "      <td>9.984334e+05</td>\n",
       "      <td>1.407072e+07</td>\n",
       "      <td>1.399872e+07</td>\n",
       "    </tr>\n",
       "  </tbody>\n",
       "</table>\n",
       "<p>27228 rows × 4 columns</p>\n",
       "</div>"
      ],
      "text/plain": [
       "       output-packet-rate  input-packet-rate  output-data-rate  \\\n",
       "0            3.290959e+05       1.249724e+05      3.075567e+06   \n",
       "1            2.612909e+05       1.934621e+05      3.041138e+06   \n",
       "2            2.378562e+05       1.774233e+05      2.989099e+06   \n",
       "3            3.725991e+05       1.323899e+05      4.233590e+06   \n",
       "4            3.021798e+05       1.588317e+05      3.501112e+06   \n",
       "...                   ...                ...               ...   \n",
       "27223       -8.549937e-01      -1.297431e+00     -7.456012e-02   \n",
       "27224       -2.232882e+00       3.350088e-01     -1.338864e+00   \n",
       "27225       -2.539045e+00      -1.871476e+00     -2.796784e-01   \n",
       "27226        1.093880e+06       1.002473e+06      1.314808e+07   \n",
       "27227        1.290910e+06       9.984334e+05      1.407072e+07   \n",
       "\n",
       "       input-data-rate  \n",
       "0         2.018878e+06  \n",
       "1         3.060449e+06  \n",
       "2         1.824393e+06  \n",
       "3         2.239500e+06  \n",
       "4         3.018869e+06  \n",
       "...                ...  \n",
       "27223    -2.631699e+00  \n",
       "27224    -7.590124e-01  \n",
       "27225    -2.167414e+00  \n",
       "27226     1.416414e+07  \n",
       "27227     1.399872e+07  \n",
       "\n",
       "[27228 rows x 4 columns]"
      ]
     },
     "execution_count": 12,
     "metadata": {},
     "output_type": "execute_result"
    }
   ],
   "source": [
    "discrete_noisy_df = pd.DataFrame(discrete_noisy_data, columns=df_categorical_columns)\n",
    "continuous_noisy_df = pd.DataFrame(continuous_noisy_data, columns=df_continuous_columns)\n",
    "\n",
    "continuous_noisy_df"
   ]
  },
  {
   "cell_type": "code",
   "execution_count": 13,
   "id": "2798a8d7",
   "metadata": {},
   "outputs": [
    {
     "data": {
      "text/html": [
       "<div>\n",
       "<style scoped>\n",
       "    .dataframe tbody tr th:only-of-type {\n",
       "        vertical-align: middle;\n",
       "    }\n",
       "\n",
       "    .dataframe tbody tr th {\n",
       "        vertical-align: top;\n",
       "    }\n",
       "\n",
       "    .dataframe thead th {\n",
       "        text-align: right;\n",
       "    }\n",
       "</style>\n",
       "<table border=\"1\" class=\"dataframe\">\n",
       "  <thead>\n",
       "    <tr style=\"text-align: right;\">\n",
       "      <th></th>\n",
       "      <th>input-load</th>\n",
       "      <th>load-interval</th>\n",
       "      <th>output-load</th>\n",
       "      <th>peak-input-data-rate</th>\n",
       "      <th>peak-input-packet-rate</th>\n",
       "      <th>peak-output-data-rate</th>\n",
       "      <th>peak-output-packet-rate</th>\n",
       "      <th>reliability</th>\n",
       "      <th>output-packet-rate</th>\n",
       "      <th>input-packet-rate</th>\n",
       "      <th>output-data-rate</th>\n",
       "      <th>input-data-rate</th>\n",
       "    </tr>\n",
       "  </thead>\n",
       "  <tbody>\n",
       "    <tr>\n",
       "      <th>0</th>\n",
       "      <td>4.0</td>\n",
       "      <td>-1.0</td>\n",
       "      <td>7.0</td>\n",
       "      <td>0.0</td>\n",
       "      <td>0.0</td>\n",
       "      <td>0.0</td>\n",
       "      <td>0.0</td>\n",
       "      <td>254.0</td>\n",
       "      <td>3.290959e+05</td>\n",
       "      <td>1.249724e+05</td>\n",
       "      <td>3.075567e+06</td>\n",
       "      <td>2.018878e+06</td>\n",
       "    </tr>\n",
       "    <tr>\n",
       "      <th>1</th>\n",
       "      <td>6.0</td>\n",
       "      <td>0.0</td>\n",
       "      <td>6.0</td>\n",
       "      <td>0.0</td>\n",
       "      <td>0.0</td>\n",
       "      <td>-1.0</td>\n",
       "      <td>-1.0</td>\n",
       "      <td>254.0</td>\n",
       "      <td>2.612909e+05</td>\n",
       "      <td>1.934621e+05</td>\n",
       "      <td>3.041138e+06</td>\n",
       "      <td>3.060449e+06</td>\n",
       "    </tr>\n",
       "    <tr>\n",
       "      <th>2</th>\n",
       "      <td>4.0</td>\n",
       "      <td>0.0</td>\n",
       "      <td>6.0</td>\n",
       "      <td>0.0</td>\n",
       "      <td>0.0</td>\n",
       "      <td>0.0</td>\n",
       "      <td>0.0</td>\n",
       "      <td>254.0</td>\n",
       "      <td>2.378562e+05</td>\n",
       "      <td>1.774233e+05</td>\n",
       "      <td>2.989099e+06</td>\n",
       "      <td>1.824393e+06</td>\n",
       "    </tr>\n",
       "    <tr>\n",
       "      <th>3</th>\n",
       "      <td>5.0</td>\n",
       "      <td>0.0</td>\n",
       "      <td>9.0</td>\n",
       "      <td>-1.0</td>\n",
       "      <td>0.0</td>\n",
       "      <td>-1.0</td>\n",
       "      <td>0.0</td>\n",
       "      <td>254.0</td>\n",
       "      <td>3.725991e+05</td>\n",
       "      <td>1.323899e+05</td>\n",
       "      <td>4.233590e+06</td>\n",
       "      <td>2.239500e+06</td>\n",
       "    </tr>\n",
       "    <tr>\n",
       "      <th>4</th>\n",
       "      <td>6.0</td>\n",
       "      <td>-1.0</td>\n",
       "      <td>7.0</td>\n",
       "      <td>-1.0</td>\n",
       "      <td>-1.0</td>\n",
       "      <td>-1.0</td>\n",
       "      <td>0.0</td>\n",
       "      <td>254.0</td>\n",
       "      <td>3.021798e+05</td>\n",
       "      <td>1.588317e+05</td>\n",
       "      <td>3.501112e+06</td>\n",
       "      <td>3.018869e+06</td>\n",
       "    </tr>\n",
       "    <tr>\n",
       "      <th>...</th>\n",
       "      <td>...</td>\n",
       "      <td>...</td>\n",
       "      <td>...</td>\n",
       "      <td>...</td>\n",
       "      <td>...</td>\n",
       "      <td>...</td>\n",
       "      <td>...</td>\n",
       "      <td>...</td>\n",
       "      <td>...</td>\n",
       "      <td>...</td>\n",
       "      <td>...</td>\n",
       "      <td>...</td>\n",
       "    </tr>\n",
       "    <tr>\n",
       "      <th>27223</th>\n",
       "      <td>0.0</td>\n",
       "      <td>0.0</td>\n",
       "      <td>-1.0</td>\n",
       "      <td>0.0</td>\n",
       "      <td>-1.0</td>\n",
       "      <td>0.0</td>\n",
       "      <td>-1.0</td>\n",
       "      <td>254.0</td>\n",
       "      <td>-8.549937e-01</td>\n",
       "      <td>-1.297431e+00</td>\n",
       "      <td>-7.456012e-02</td>\n",
       "      <td>-2.631699e+00</td>\n",
       "    </tr>\n",
       "    <tr>\n",
       "      <th>27224</th>\n",
       "      <td>0.0</td>\n",
       "      <td>-1.0</td>\n",
       "      <td>-1.0</td>\n",
       "      <td>0.0</td>\n",
       "      <td>0.0</td>\n",
       "      <td>0.0</td>\n",
       "      <td>-1.0</td>\n",
       "      <td>254.0</td>\n",
       "      <td>-2.232882e+00</td>\n",
       "      <td>3.350088e-01</td>\n",
       "      <td>-1.338864e+00</td>\n",
       "      <td>-7.590124e-01</td>\n",
       "    </tr>\n",
       "    <tr>\n",
       "      <th>27225</th>\n",
       "      <td>-1.0</td>\n",
       "      <td>0.0</td>\n",
       "      <td>0.0</td>\n",
       "      <td>0.0</td>\n",
       "      <td>-1.0</td>\n",
       "      <td>0.0</td>\n",
       "      <td>-1.0</td>\n",
       "      <td>255.0</td>\n",
       "      <td>-2.539045e+00</td>\n",
       "      <td>-1.871476e+00</td>\n",
       "      <td>-2.796784e-01</td>\n",
       "      <td>-2.167414e+00</td>\n",
       "    </tr>\n",
       "    <tr>\n",
       "      <th>27226</th>\n",
       "      <td>35.0</td>\n",
       "      <td>-1.0</td>\n",
       "      <td>33.0</td>\n",
       "      <td>0.0</td>\n",
       "      <td>0.0</td>\n",
       "      <td>0.0</td>\n",
       "      <td>0.0</td>\n",
       "      <td>255.0</td>\n",
       "      <td>1.093880e+06</td>\n",
       "      <td>1.002473e+06</td>\n",
       "      <td>1.314808e+07</td>\n",
       "      <td>1.416414e+07</td>\n",
       "    </tr>\n",
       "    <tr>\n",
       "      <th>27227</th>\n",
       "      <td>35.0</td>\n",
       "      <td>-1.0</td>\n",
       "      <td>34.0</td>\n",
       "      <td>-1.0</td>\n",
       "      <td>-1.0</td>\n",
       "      <td>0.0</td>\n",
       "      <td>0.0</td>\n",
       "      <td>255.0</td>\n",
       "      <td>1.290910e+06</td>\n",
       "      <td>9.984334e+05</td>\n",
       "      <td>1.407072e+07</td>\n",
       "      <td>1.399872e+07</td>\n",
       "    </tr>\n",
       "  </tbody>\n",
       "</table>\n",
       "<p>27228 rows × 12 columns</p>\n",
       "</div>"
      ],
      "text/plain": [
       "       input-load  load-interval  output-load  peak-input-data-rate  \\\n",
       "0             4.0           -1.0          7.0                   0.0   \n",
       "1             6.0            0.0          6.0                   0.0   \n",
       "2             4.0            0.0          6.0                   0.0   \n",
       "3             5.0            0.0          9.0                  -1.0   \n",
       "4             6.0           -1.0          7.0                  -1.0   \n",
       "...           ...            ...          ...                   ...   \n",
       "27223         0.0            0.0         -1.0                   0.0   \n",
       "27224         0.0           -1.0         -1.0                   0.0   \n",
       "27225        -1.0            0.0          0.0                   0.0   \n",
       "27226        35.0           -1.0         33.0                   0.0   \n",
       "27227        35.0           -1.0         34.0                  -1.0   \n",
       "\n",
       "       peak-input-packet-rate  peak-output-data-rate  peak-output-packet-rate  \\\n",
       "0                         0.0                    0.0                      0.0   \n",
       "1                         0.0                   -1.0                     -1.0   \n",
       "2                         0.0                    0.0                      0.0   \n",
       "3                         0.0                   -1.0                      0.0   \n",
       "4                        -1.0                   -1.0                      0.0   \n",
       "...                       ...                    ...                      ...   \n",
       "27223                    -1.0                    0.0                     -1.0   \n",
       "27224                     0.0                    0.0                     -1.0   \n",
       "27225                    -1.0                    0.0                     -1.0   \n",
       "27226                     0.0                    0.0                      0.0   \n",
       "27227                    -1.0                    0.0                      0.0   \n",
       "\n",
       "       reliability  output-packet-rate  input-packet-rate  output-data-rate  \\\n",
       "0            254.0        3.290959e+05       1.249724e+05      3.075567e+06   \n",
       "1            254.0        2.612909e+05       1.934621e+05      3.041138e+06   \n",
       "2            254.0        2.378562e+05       1.774233e+05      2.989099e+06   \n",
       "3            254.0        3.725991e+05       1.323899e+05      4.233590e+06   \n",
       "4            254.0        3.021798e+05       1.588317e+05      3.501112e+06   \n",
       "...            ...                 ...                ...               ...   \n",
       "27223        254.0       -8.549937e-01      -1.297431e+00     -7.456012e-02   \n",
       "27224        254.0       -2.232882e+00       3.350088e-01     -1.338864e+00   \n",
       "27225        255.0       -2.539045e+00      -1.871476e+00     -2.796784e-01   \n",
       "27226        255.0        1.093880e+06       1.002473e+06      1.314808e+07   \n",
       "27227        255.0        1.290910e+06       9.984334e+05      1.407072e+07   \n",
       "\n",
       "       input-data-rate  \n",
       "0         2.018878e+06  \n",
       "1         3.060449e+06  \n",
       "2         1.824393e+06  \n",
       "3         2.239500e+06  \n",
       "4         3.018869e+06  \n",
       "...                ...  \n",
       "27223    -2.631699e+00  \n",
       "27224    -7.590124e-01  \n",
       "27225    -2.167414e+00  \n",
       "27226     1.416414e+07  \n",
       "27227     1.399872e+07  \n",
       "\n",
       "[27228 rows x 12 columns]"
      ]
     },
     "execution_count": 13,
     "metadata": {},
     "output_type": "execute_result"
    }
   ],
   "source": [
    "noisy_tmp_df = pd.concat([discrete_noisy_df, continuous_noisy_df], axis=1)\n",
    "noisy_tmp_df"
   ]
  },
  {
   "cell_type": "markdown",
   "id": "a39c4d92",
   "metadata": {},
   "source": [
    "## Data Pre-Processing\n",
    "\n",
    "Data can be pre-processed in 2 ways. Either we use <b>\"standard\"</b> option which performs a standard scaler on continuous variables - This has known limitations as:\n",
    "\n",
    "- Data in tables is usually non-gaussian and SynthVAE implements a gaussian loss, so this will perform worse unless the data is KNOWN to follow a gaussian distribution already.\n",
    "\n",
    "Or we use the second option of <b>\"GMM\"</b>. This performs a variational gaussian mixture model to scale the data & transform it to a gaussian distribution. We use a maximum number of clusters of 10 but the variational method will select the best number of clusters for that continuous variable. This also has known limitations:\n",
    "\n",
    "- 10 Clusters is arbitrary and may not be enough for certain variables.\n",
    "- We are fitting a model to transform the data and hence we are approximating before model is trained. This will lose fidelity as the distribution will not be transformed perfectly.\n",
    "\n",
    "SUPPORT is a limited dataset as it has no missingness (which our model currently does NOT handle) and it has no datetime columns or other data types. Be wary drawing any conclusions from this set due to these constraints as well as the dataset size. Testing/training new models with this set could be useful but conclusive results should be tested on other sets."
   ]
  },
  {
   "cell_type": "code",
   "execution_count": 14,
   "id": "062fde6e",
   "metadata": {
    "pycharm": {
     "name": "#%% -------- Data Pre-Processing -------- #\n"
    }
   },
   "outputs": [
    {
     "name": "stdout",
     "output_type": "stream",
     "text": [
      "0 input-load ------index, column\n",
      "1 load-interval ------index, column\n",
      "2 output-load ------index, column\n",
      "3 peak-input-data-rate ------index, column\n",
      "4 peak-input-packet-rate ------index, column\n",
      "5 peak-output-data-rate ------index, column\n",
      "6 peak-output-packet-rate ------index, column\n",
      "7 reliability ------index, column\n",
      "8 output-packet-rate.component ------index, column\n",
      "9 input-packet-rate.component ------index, column\n",
      "10 output-data-rate.component ------index, column\n",
      "11 input-data-rate.component ------index, column\n"
     ]
    }
   ],
   "source": [
    "\n",
    "pre_proc_method = \"GMM\"\n",
    "\n",
    "# (\n",
    "#     x_train,\n",
    "#     tmp_df,\n",
    "#     reordered_dataframe_columns,\n",
    "#     continuous_transformers,\n",
    "#     categorical_transformers,\n",
    "#     num_categories,\n",
    "#     num_continuous,\n",
    "# ) = support_pre_proc(data_supp=tmp_df, \n",
    "#                      continuous_columns=original_continuous_columns,\n",
    "#                      categorical_columns=original_categorical_columns,\n",
    "#                      all_possible_categories=categorical_len_count,\n",
    "#                      pre_proc_method=pre_proc_method)\n",
    "\n",
    "(\n",
    "    x_train,\n",
    "    tmp_df,\n",
    "    reordered_dataframe_columns,\n",
    "    continuous_transformers,\n",
    "    categorical_transformers,\n",
    "    num_categories,\n",
    "    num_continuous,\n",
    ") = mimic_pre_proc(noisy_tmp_df,\n",
    "                   original_continuous_columns,\n",
    "                   original_categorical_columns,\n",
    "                   pre_proc_method=pre_proc_method)\n",
    "\n"
   ]
  },
  {
   "cell_type": "code",
   "execution_count": 15,
   "id": "be46270a",
   "metadata": {},
   "outputs": [
    {
     "data": {
      "text/plain": [
       "(27228, 92)"
      ]
     },
     "execution_count": 15,
     "metadata": {},
     "output_type": "execute_result"
    }
   ],
   "source": [
    "x_train.shape"
   ]
  },
  {
   "cell_type": "code",
   "execution_count": 16,
   "id": "984a8608",
   "metadata": {},
   "outputs": [
    {
     "data": {
      "text/plain": [
       "4"
      ]
     },
     "execution_count": 16,
     "metadata": {},
     "output_type": "execute_result"
    }
   ],
   "source": [
    "num_continuous"
   ]
  },
  {
   "cell_type": "code",
   "execution_count": 17,
   "id": "0eae5190",
   "metadata": {},
   "outputs": [
    {
     "data": {
      "text/plain": [
       "[20, 4, 18, 2, 2, 2, 2, 5, 8, 8, 8, 9]"
      ]
     },
     "execution_count": 17,
     "metadata": {},
     "output_type": "execute_result"
    }
   ],
   "source": [
    "num_categories"
   ]
  },
  {
   "cell_type": "markdown",
   "id": "e7c169e7",
   "metadata": {},
   "source": [
    "## Creation & Training of VAE\n",
    "\n",
    "We can adapt certain parameters of the model e.g. batch size, latent dimension size etc. This model implements early stopping and these values can be adapted.\n",
    "\n",
    "We can also activate differential privacy by implementing dp-sgd through the opacus library."
   ]
  },
  {
   "cell_type": "code",
   "execution_count": 18,
   "id": "50e027f9",
   "metadata": {
    "pycharm": {
     "name": "#%% -------- Create & Train VAE -------- #\n"
    }
   },
   "outputs": [
    {
     "name": "stdout",
     "output_type": "stream",
     "text": [
      "Encoder: gpu specified, cpu used\n",
      "Decoder: gpu specified, cpu used\n",
      "VAE(\n",
      "  (encoder): Encoder(\n",
      "    (net): Sequential(\n",
      "      (0): Linear(in_features=92, out_features=1024, bias=True)\n",
      "      (1): Tanh()\n",
      "      (2): Linear(in_features=1024, out_features=1024, bias=True)\n",
      "      (3): Tanh()\n",
      "      (4): Linear(in_features=1024, out_features=1024, bias=True)\n",
      "    )\n",
      "  )\n",
      "  (decoder): Decoder(\n",
      "    (net): Sequential(\n",
      "      (0): Linear(in_features=512, out_features=1024, bias=True)\n",
      "      (1): Tanh()\n",
      "      (2): Linear(in_features=1024, out_features=1024, bias=True)\n",
      "      (3): Tanh()\n",
      "      (4): Linear(in_features=1024, out_features=92, bias=True)\n",
      "    )\n",
      "  )\n",
      "  (noiser): Noiser(\n",
      "    (output_logsigma_fn): Linear(in_features=4, out_features=4, bias=True)\n",
      "  )\n",
      ")\n"
     ]
    },
    {
     "name": "stderr",
     "output_type": "stream",
     "text": [
      "100%|██████████| 272/272 [00:05<00:00, 53.73it/s]\n"
     ]
    },
    {
     "name": "stdout",
     "output_type": "stream",
     "text": [
      "\tEpoch:  0. Elbo:    93848.49. Reconstruction Loss:    91934.47. KL Divergence:     1914.02. Categorical Loss:    -4677.70. Numerical Loss:   -87256.77\n"
     ]
    },
    {
     "name": "stderr",
     "output_type": "stream",
     "text": [
      "100%|██████████| 272/272 [00:05<00:00, 53.67it/s]\n"
     ]
    },
    {
     "name": "stdout",
     "output_type": "stream",
     "text": [
      "\tEpoch:  1. Elbo:    64287.87. Reconstruction Loss:    64199.62. KL Divergence:       88.25. Categorical Loss:    -4581.38. Numerical Loss:   -59618.24\n"
     ]
    },
    {
     "name": "stderr",
     "output_type": "stream",
     "text": [
      "100%|██████████| 272/272 [00:05<00:00, 54.04it/s]\n"
     ]
    },
    {
     "name": "stdout",
     "output_type": "stream",
     "text": [
      "\tEpoch:  2. Elbo:    38848.22. Reconstruction Loss:    38674.50. KL Divergence:      173.72. Categorical Loss:    -4594.62. Numerical Loss:   -34079.89\n"
     ]
    },
    {
     "name": "stderr",
     "output_type": "stream",
     "text": [
      "100%|██████████| 272/272 [00:05<00:00, 53.94it/s]\n"
     ]
    },
    {
     "name": "stdout",
     "output_type": "stream",
     "text": [
      "\tEpoch:  3. Elbo:    17774.85. Reconstruction Loss:    17447.25. KL Divergence:      327.60. Categorical Loss:    -4631.95. Numerical Loss:   -12815.30\n"
     ]
    },
    {
     "name": "stderr",
     "output_type": "stream",
     "text": [
      "100%|██████████| 272/272 [00:05<00:00, 53.87it/s]\n"
     ]
    },
    {
     "name": "stdout",
     "output_type": "stream",
     "text": [
      "\tEpoch:  4. Elbo:     1074.82. Reconstruction Loss:      428.85. KL Divergence:      645.97. Categorical Loss:    -4653.25. Numerical Loss:     4224.40\n"
     ]
    },
    {
     "name": "stderr",
     "output_type": "stream",
     "text": [
      "100%|██████████| 272/272 [00:05<00:00, 53.78it/s]\n"
     ]
    },
    {
     "name": "stdout",
     "output_type": "stream",
     "text": [
      "\tEpoch:  5. Elbo:   -10287.59. Reconstruction Loss:   -11387.26. KL Divergence:     1099.67. Categorical Loss:    -4655.49. Numerical Loss:    16042.75\n"
     ]
    },
    {
     "name": "stderr",
     "output_type": "stream",
     "text": [
      "100%|██████████| 272/272 [00:05<00:00, 53.79it/s]\n"
     ]
    },
    {
     "name": "stdout",
     "output_type": "stream",
     "text": [
      "\tEpoch:  6. Elbo:   -16163.14. Reconstruction Loss:   -17824.10. KL Divergence:     1660.96. Categorical Loss:    -4675.30. Numerical Loss:    22499.40\n"
     ]
    },
    {
     "name": "stderr",
     "output_type": "stream",
     "text": [
      "100%|██████████| 272/272 [00:05<00:00, 53.62it/s]\n"
     ]
    },
    {
     "name": "stdout",
     "output_type": "stream",
     "text": [
      "\tEpoch:  7. Elbo:   -19679.45. Reconstruction Loss:   -21860.30. KL Divergence:     2180.85. Categorical Loss:    -4668.63. Numerical Loss:    26528.93\n"
     ]
    },
    {
     "name": "stderr",
     "output_type": "stream",
     "text": [
      "100%|██████████| 272/272 [00:05<00:00, 53.72it/s]\n"
     ]
    },
    {
     "name": "stdout",
     "output_type": "stream",
     "text": [
      "\tEpoch:  8. Elbo:   -21696.43. Reconstruction Loss:   -24248.08. KL Divergence:     2551.65. Categorical Loss:    -4655.65. Numerical Loss:    28903.73\n"
     ]
    },
    {
     "name": "stderr",
     "output_type": "stream",
     "text": [
      "100%|██████████| 272/272 [00:05<00:00, 53.00it/s]"
     ]
    },
    {
     "name": "stdout",
     "output_type": "stream",
     "text": [
      "\tEpoch:  9. Elbo:   -22238.71. Reconstruction Loss:   -24951.52. KL Divergence:     2712.81. Categorical Loss:    -4671.04. Numerical Loss:    29622.57\n"
     ]
    },
    {
     "name": "stderr",
     "output_type": "stream",
     "text": [
      "\n"
     ]
    }
   ],
   "source": [
    "\n",
    "# User defined hyperparams\n",
    "# General training\n",
    "batch_size = 100\n",
    "latent_dim = 512\n",
    "hidden_dim = 1024\n",
    "n_epochs = 10\n",
    "logging_freq = 1  # Number of epochs we should log the results to the user\n",
    "patience = 50  # How many epochs should we allow the model train to see if\n",
    "# improvement is made\n",
    "delta = 10  # The difference between elbo values that registers an improvement\n",
    "filepath = None  # Where to save the best model\n",
    "\n",
    "\n",
    "# Privacy params\n",
    "differential_privacy = False  # Do we want to implement differential privacy\n",
    "sample_rate = 0.1  # Sampling rate\n",
    "C = 1e16  # Clipping threshold any gradients above this are clipped\n",
    "noise_scale = 0.2  # Noise multiplier - influences how much noise to add\n",
    "target_eps = 10  # Target epsilon for privacy accountant\n",
    "target_delta = 1e-5  # Target delta for privacy accountant\n",
    "\n",
    "# Prepare data for interaction with torch VAE\n",
    "Y = torch.Tensor(x_train)\n",
    "dataset = TensorDataset(Y)\n",
    "\n",
    "generator = None\n",
    "sample_rate = batch_size / len(dataset)\n",
    "data_loader = DataLoader(\n",
    "    dataset,\n",
    "    batch_sampler=UniformWithReplacementSampler(\n",
    "        num_samples=len(dataset), sample_rate=sample_rate, generator=generator\n",
    "    ),\n",
    "    pin_memory=True,\n",
    "    generator=generator,\n",
    ")\n",
    "\n",
    "# Create VAE\n",
    "encoder = Encoder(x_train.shape[1], latent_dim, hidden_dim=hidden_dim)\n",
    "decoder = Decoder(latent_dim, num_continuous, hidden_dim=hidden_dim, num_categories=num_categories)\n",
    "\n",
    "vae = VAE(encoder, decoder)\n",
    "\n",
    "print(vae)\n",
    "\n",
    "if differential_privacy == False:\n",
    "    (\n",
    "        training_epochs,\n",
    "        log_elbo,\n",
    "        log_reconstruction,\n",
    "        log_divergence,\n",
    "        log_categorical,\n",
    "        log_numerical,\n",
    "    ) = vae.train(\n",
    "        data_loader, \n",
    "        n_epochs=n_epochs,\n",
    "        logging_freq=logging_freq,\n",
    "        patience=patience,\n",
    "        delta=delta,\n",
    "    )\n",
    "\n",
    "elif differential_privacy == True:\n",
    "    (\n",
    "        training_epochs,\n",
    "        log_elbo,\n",
    "        log_reconstruction,\n",
    "        log_divergence,\n",
    "        log_categorical,\n",
    "        log_numerical,\n",
    "    ) = vae.diff_priv_train(\n",
    "        data_loader,\n",
    "        n_epochs=n_epochs,\n",
    "        logging_freq=logging_freq,\n",
    "        patience=patience,\n",
    "        delta=delta,\n",
    "        C=C,\n",
    "        target_eps=target_eps,\n",
    "        target_delta=target_delta,\n",
    "        sample_rate=sample_rate,\n",
    "        noise_scale=noise_scale,\n",
    "    )\n",
    "    print(f\"(epsilon, delta): {vae.get_privacy_spent(target_delta)}\")\n"
   ]
  },
  {
   "cell_type": "markdown",
   "id": "7527a95f",
   "metadata": {},
   "source": [
    "## Plotting Elbo Functionality\n",
    "\n",
    "Here we can plot and save the ELBO graph for the training run"
   ]
  },
  {
   "cell_type": "code",
   "execution_count": 38,
   "id": "9bcd8be1",
   "metadata": {
    "pycharm": {
     "name": "#%% -------- Plot Loss Features ELBO Breakdown -------- #\n"
    }
   },
   "outputs": [
    {
     "data": {
      "image/png": "[encoded data removed]",
      "text/plain": [
       "<Figure size 432x288 with 1 Axes>"
      ]
     },
     "metadata": {
      "needs_background": "light"
     },
     "output_type": "display_data"
    }
   ],
   "source": [
    "\n",
    "elbo_fig = plot_elbo(\n",
    "    n_epochs=training_epochs,\n",
    "    log_elbo=log_elbo,\n",
    "    log_reconstruction=log_reconstruction,\n",
    "    log_divergence=log_divergence,\n",
    "    saving_filepath=\"\",\n",
    ")\n"
   ]
  },
  {
   "cell_type": "markdown",
   "id": "7a7d8d8c",
   "metadata": {},
   "source": [
    "## Plotting Reconstruction Breakdown\n",
    "\n",
    "Here we can plot the breakdown of reconstruction loss i.e. visualise how the categorical and numerical losses change over training"
   ]
  },
  {
   "cell_type": "code",
   "execution_count": 19,
   "id": "00075d23",
   "metadata": {
    "pycharm": {
     "name": "#%% -------- Plot Loss Features Reconstruction Breakdown -------- #\n"
    }
   },
   "outputs": [
    {
     "data": {
      "image/png": "[encoded data removed]",
      "text/plain": [
       "<Figure size 432x288 with 2 Axes>"
      ]
     },
     "metadata": {
      "needs_background": "light"
     },
     "output_type": "display_data"
    }
   ],
   "source": [
    "\n",
    "likelihood_fig = plot_likelihood_breakdown(\n",
    "    n_epochs=training_epochs,\n",
    "    log_categorical=log_categorical,\n",
    "    log_numerical=log_numerical,\n",
    "    saving_filepath=\"\",\n",
    "    pre_proc_method=pre_proc_method,\n",
    ")\n"
   ]
  },
  {
   "cell_type": "markdown",
   "id": "fc7ccb88",
   "metadata": {},
   "source": [
    "## Synthetic Data Generation\n",
    "\n",
    "Here we create synthetic data ready for metric testing as well as visualisation of variable reconstruction. For this we simply generate from our generative model and then reverse transformations using the prior transformers."
   ]
  },
  {
   "cell_type": "code",
   "execution_count": 20,
   "id": "b9218b96",
   "metadata": {},
   "outputs": [],
   "source": [
    "synthetic_sample = vae.generate(x_train.shape[0])\n",
    "\n",
    "if torch.cuda.is_available():\n",
    "    synthetic_sample = pd.DataFrame(\n",
    "        synthetic_sample.cpu().detach().numpy(), \n",
    "        columns=reordered_dataframe_columns\n",
    "    )\n",
    "else:\n",
    "    synthetic_sample = pd.DataFrame(\n",
    "        synthetic_sample.detach().numpy(), \n",
    "        columns=reordered_dataframe_columns\n",
    "    )\n",
    "# Reverse the transformations\n",
    "\n",
    "synthetic_supp = reverse_transformers(\n",
    "    synthetic_set=synthetic_sample,\n",
    "    data_supp_columns=tmp_df.columns,\n",
    "    cont_transformers=continuous_transformers,\n",
    "    cat_transformers=categorical_transformers,\n",
    "    pre_proc_method=pre_proc_method,\n",
    ")\n"
   ]
  },
  {
   "cell_type": "markdown",
   "id": "9551f747",
   "metadata": {},
   "source": [
    "## Synthetic Variable Visualisation\n",
    "\n",
    "Here we want to visualise the synthetic variables generated and compare them to the original set"
   ]
  },
  {
   "cell_type": "code",
   "execution_count": 21,
   "id": "717713d2",
   "metadata": {
    "pycharm": {
     "name": "#%% -------- Plot Histograms For All The Variable Distributions -------- #\n"
    }
   },
   "outputs": [
    {
     "data": {
      "image/png": "[encoded data removed]",
      "text/plain": [
       "<Figure size 432x288 with 2 Axes>"
      ]
     },
     "metadata": {
      "needs_background": "light"
     },
     "output_type": "display_data"
    },
    {
     "data": {
      "image/png": "[encoded data removed]",
      "text/plain": [
       "<Figure size 432x288 with 2 Axes>"
      ]
     },
     "metadata": {
      "needs_background": "light"
     },
     "output_type": "display_data"
    },
    {
     "data": {
      "image/png": "[encoded data removed]",
      "text/plain": [
       "<Figure size 432x288 with 2 Axes>"
      ]
     },
     "metadata": {
      "needs_background": "light"
     },
     "output_type": "display_data"
    },
    {
     "data": {
      "image/png": "[encoded data removed]",
      "text/plain": [
       "<Figure size 432x288 with 2 Axes>"
      ]
     },
     "metadata": {
      "needs_background": "light"
     },
     "output_type": "display_data"
    },
    {
     "data": {
      "image/png": "[encoded data removed]",
      "text/plain": [
       "<Figure size 432x288 with 2 Axes>"
      ]
     },
     "metadata": {
      "needs_background": "light"
     },
     "output_type": "display_data"
    },
    {
     "data": {
      "image/png": "[encoded data removed]",
      "text/plain": [
       "<Figure size 432x288 with 2 Axes>"
      ]
     },
     "metadata": {
      "needs_background": "light"
     },
     "output_type": "display_data"
    },
    {
     "data": {
      "image/png": "[encoded data removed]",
      "text/plain": [
       "<Figure size 432x288 with 2 Axes>"
      ]
     },
     "metadata": {
      "needs_background": "light"
     },
     "output_type": "display_data"
    },
    {
     "data": {
      "image/png": "[encoded data removed]",
      "text/plain": [
       "<Figure size 432x288 with 2 Axes>"
      ]
     },
     "metadata": {
      "needs_background": "light"
     },
     "output_type": "display_data"
    },
    {
     "data": {
      "image/png": "[encoded data removed]",
      "text/plain": [
       "<Figure size 432x288 with 2 Axes>"
      ]
     },
     "metadata": {
      "needs_background": "light"
     },
     "output_type": "display_data"
    }
   ],
   "source": [
    "\n",
    "plot_variable_distributions(\n",
    "    categorical_columns=original_categorical_columns,\n",
    "    continuous_columns=original_continuous_columns,\n",
    "    data_supp=input_df,\n",
    "    synthetic_supp=synthetic_supp,\n",
    "    saving_filepath=\"figs/\",\n",
    "    pre_proc_method=pre_proc_method,\n",
    ")\n"
   ]
  },
  {
   "cell_type": "markdown",
   "id": "1547f84e",
   "metadata": {},
   "source": [
    "## Metric evaluation\n",
    "\n",
    "We use the SDV evaluation framework. Supply the metrics you wish to find in the distributional_metrics list from SDV guidance. Can start here: https://sdv.dev/SDV/user_guides/evaluation/single_table_metrics.html\n",
    "\n",
    "Note that not all of these will work, some are hit and miss. We predominantly rely on continuous and discrete KL divergence measures. You can also input <b>\"gower\"</b> and this will calculate the gower distance using the gower library."
   ]
  },
  {
   "cell_type": "code",
   "execution_count": null,
   "id": "d475b596",
   "metadata": {},
   "outputs": [],
   "source": [
    "input_df"
   ]
  },
  {
   "cell_type": "code",
   "execution_count": null,
   "id": "b10e141e",
   "metadata": {},
   "outputs": [],
   "source": [
    "# synthetic_supp = synthetic_supp.drop('bandwidth', axis=1)\n",
    "\n",
    "pd.set_option(\"display.precision\", 1)\n",
    "synthetic_supp.mean()"
   ]
  },
  {
   "cell_type": "code",
   "execution_count": null,
   "id": "782228c1",
   "metadata": {},
   "outputs": [],
   "source": [
    "synthetic_supp.quantile(0.9)"
   ]
  },
  {
   "cell_type": "code",
   "execution_count": null,
   "id": "abb4a630",
   "metadata": {},
   "outputs": [],
   "source": [
    "input_df.quantile(0.9)"
   ]
  },
  {
   "cell_type": "code",
   "execution_count": null,
   "id": "90524ee4",
   "metadata": {},
   "outputs": [],
   "source": [
    "# vae_generation_diff_list = input_df.quantile(0.9) - synthetic_supp.quantile(0.9)\n",
    "# noise_diff_list = input_df.quantile(0.9) - noisy_tmp_df.quantile(0.9)\n",
    "\n",
    "vae_generation_diff_list = input_df.mean() - synthetic_supp.mean()\n",
    "noise_diff_list = input_df.mean() - noisy_tmp_df.mean()\n",
    "vae_generation_diff_list\n",
    "noise_diff_list"
   ]
  },
  {
   "cell_type": "code",
   "execution_count": null,
   "id": "78f0a488",
   "metadata": {},
   "outputs": [],
   "source": [
    "import matplotlib.pyplot as plt\n",
    "plt.rcParams['font.size'] = 14\n",
    "x = [0, 1, 2, 3, 4, 5, 6, 7, 8, 9, 10, 11]\n",
    "x1 = [1, 2, 3, 4, 5, 6, 7, 8, 9, 10, 11, 12]\n",
    "\n",
    "fig = plt.figure()\n",
    "ax = fig.add_subplot(111)\n",
    "ax.bar(x, vae_generation_diff_list, width=0.4, color='blue', label='VAE output Y compared with X')\n",
    "ax.bar(x1, noise_diff_list, width=0.4, color='orange', label='X+noise compared with X')\n",
    "\n",
    "plt.legend()\n",
    "plt.ylabel('Real - Synthetic')\n",
    "plt.xlabel( 'Different dimension of telemetry data' )\n",
    "plt.title('Mean value')\n",
    "plt.show"
   ]
  },
  {
   "cell_type": "code",
   "execution_count": 15,
   "id": "55c10826",
   "metadata": {
    "pycharm": {
     "name": "#%% -------- SDV Metrics -------- #\n"
    }
   },
   "outputs": [
    {
     "data": {
      "text/html": [
       "<div>\n",
       "<style scoped>\n",
       "    .dataframe tbody tr th:only-of-type {\n",
       "        vertical-align: middle;\n",
       "    }\n",
       "\n",
       "    .dataframe tbody tr th {\n",
       "        vertical-align: top;\n",
       "    }\n",
       "\n",
       "    .dataframe thead th {\n",
       "        text-align: right;\n",
       "    }\n",
       "</style>\n",
       "<table border=\"1\" class=\"dataframe\">\n",
       "  <thead>\n",
       "    <tr style=\"text-align: right;\">\n",
       "      <th></th>\n",
       "      <th>KSTest</th>\n",
       "      <th>ContinuousKLDivergence</th>\n",
       "      <th>DiscreteKLDivergence</th>\n",
       "    </tr>\n",
       "  </thead>\n",
       "  <tbody>\n",
       "    <tr>\n",
       "      <th>0</th>\n",
       "      <td>1.0</td>\n",
       "      <td>1.0</td>\n",
       "      <td>1.0</td>\n",
       "    </tr>\n",
       "  </tbody>\n",
       "</table>\n",
       "</div>"
      ],
      "text/plain": [
       "   KSTest  ContinuousKLDivergence  DiscreteKLDivergence\n",
       "0     1.0                     1.0                   1.0"
      ]
     },
     "execution_count": 15,
     "metadata": {},
     "output_type": "execute_result"
    }
   ],
   "source": [
    "\n",
    "# Define the metrics you want the model to evaluate\n",
    "\n",
    "# Define distributional metrics required - for sdv_baselines this is set by default\n",
    "# distributional_metrics = [\n",
    "#     \"SVCDetection\",\n",
    "#     \"GMLogLikelihood\",\n",
    "#     \"CSTest\",\n",
    "#     \"KSTest\",\n",
    "#     \"KSTestExtended\",\n",
    "#     \"ContinuousKLDivergence\",\n",
    "#     \"DiscreteKLDivergence\",\n",
    "# ]\n",
    "\n",
    "distributional_metrics = [\n",
    "    \"KSTest\",\n",
    "    \"ContinuousKLDivergence\",\n",
    "    \"DiscreteKLDivergence\",\n",
    "]\n",
    "\n",
    "gower = False\n",
    "\n",
    "metrics = distribution_metrics(\n",
    "    gower_bool=gower,\n",
    "    distributional_metrics=distributional_metrics,\n",
    "    data_supp=input_df,\n",
    "    synthetic_supp=synthetic_supp,\n",
    "    categorical_columns=original_categorical_columns,\n",
    "    continuous_columns=original_continuous_columns,\n",
    "    saving_filepath=None,\n",
    "    pre_proc_method=pre_proc_method,\n",
    ")\n",
    "metrics"
   ]
  },
  {
   "cell_type": "code",
   "execution_count": null,
   "id": "4f5dffc0",
   "metadata": {},
   "outputs": [],
   "source": [
    "manual_noise_metrics = distribution_metrics(\n",
    "    gower_bool=gower,\n",
    "    distributional_metrics=distributional_metrics,\n",
    "    data_supp=input_df,\n",
    "    synthetic_supp=noisy_tmp_df,\n",
    "    categorical_columns=original_categorical_columns,\n",
    "    continuous_columns=original_continuous_columns,\n",
    "    saving_filepath=None,\n",
    "    pre_proc_method=pre_proc_method,\n",
    ")\n",
    "manual_noise_metrics"
   ]
  },
  {
   "cell_type": "markdown",
   "id": "b32d17fb",
   "metadata": {},
   "source": [
    "# Privacy Metric Evaluation\n",
    "\n",
    "Using SDV privacy metrics we can get an insight into how privacy is conserved when utilising dp-sgd methods. SDV's privacy metrics are limited in that they can only be used on similar data types. E.g. if we choose age to be the sensitive variably, we can build ML based models to predict a users age using the other columns. However we are forced to only use columns that are also continuous variables."
   ]
  },
  {
   "cell_type": "code",
   "execution_count": null,
   "id": "8a7b2315",
   "metadata": {},
   "outputs": [],
   "source": [
    "# Specify our private variable\n",
    "\n",
    "private_variable = \"input-data-rate\"\n",
    "\n",
    "privacy_metric = privacy_metrics(\n",
    "    private_variable=private_variable,\n",
    "    data_supp=tmp_df,\n",
    "    synthetic_supp=synthetic_supp,\n",
    "    categorical_columns=original_categorical_columns,\n",
    "    continuous_columns=original_continuous_columns,\n",
    "    saving_filepath=None,\n",
    "    pre_proc_method=pre_proc_method,\n",
    ")\n",
    "\n"
   ]
  },
  {
   "cell_type": "code",
   "execution_count": null,
   "id": "6e091acb",
   "metadata": {},
   "outputs": [],
   "source": [
    "privacy_metric"
   ]
  },
  {
   "cell_type": "code",
   "execution_count": null,
   "id": "2b4792c4",
   "metadata": {},
   "outputs": [],
   "source": []
  }
 ],
 "metadata": {
  "kernelspec": {
   "display_name": "Python 3",
   "language": "python",
   "name": "python3"
  },
  "language_info": {
   "codemirror_mode": {
    "name": "ipython",
    "version": 3
   },
   "file_extension": ".py",
   "mimetype": "text/x-python",
   "name": "python",
   "nbconvert_exporter": "python",
   "pygments_lexer": "ipython3",
   "version": "3.8.16"
  }
 },
 "nbformat": 4,
 "nbformat_minor": 5
}
